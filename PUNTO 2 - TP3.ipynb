{
 "cells": [
  {
   "cell_type": "code",
   "execution_count": 1,
   "id": "b0ac44fa",
   "metadata": {},
   "outputs": [],
   "source": [
    "from sklearn.datasets import load_iris\n",
    "import numpy as np\n",
    "import math\n",
    "from tqdm import tqdm\n",
    "from __future__ import print_function\n",
    "from ipywidgets import interact, interactive, fixed, interact_manual\n",
    "import ipywidgets as widgets\n",
    "import pandas as pd\n",
    "from sklearn.preprocessing import (\n",
    "    LabelEncoder,\n",
    "    OneHotEncoder,\n",
    "    OrdinalEncoder,\n",
    ")\n",
    "from sklearn.linear_model import LogisticRegression\n",
    "from sklearn.metrics import classification_report, accuracy_score, roc_auc_score, ConfusionMatrixDisplay, confusion_matrix"
   ]
  },
  {
   "cell_type": "code",
   "execution_count": 2,
   "id": "10f80027",
   "metadata": {},
   "outputs": [],
   "source": [
    "model = LogisticRegression(C=0.5,solver='newton-cg')"
   ]
  },
  {
   "cell_type": "code",
   "execution_count": 3,
   "id": "b368f319",
   "metadata": {},
   "outputs": [],
   "source": [
    "iden = pd.read_csv('train_identity.csv')"
   ]
  },
  {
   "cell_type": "code",
   "execution_count": 4,
   "id": "be920efb",
   "metadata": {},
   "outputs": [],
   "source": [
    "trans = pd.read_csv('train_transaction.csv')"
   ]
  },
  {
   "cell_type": "code",
   "execution_count": 5,
   "id": "3a810dc8",
   "metadata": {},
   "outputs": [],
   "source": [
    "joined = trans.merge(iden,how='left')"
   ]
  },
  {
   "cell_type": "code",
   "execution_count": 6,
   "id": "87179c92",
   "metadata": {},
   "outputs": [],
   "source": [
    "del iden"
   ]
  },
  {
   "cell_type": "code",
   "execution_count": 7,
   "id": "0332f88c",
   "metadata": {},
   "outputs": [],
   "source": [
    "del trans"
   ]
  },
  {
   "cell_type": "code",
   "execution_count": 8,
   "id": "385d2331",
   "metadata": {},
   "outputs": [],
   "source": [
    "joined = joined[joined['TransactionDT'].notnull()]"
   ]
  },
  {
   "cell_type": "code",
   "execution_count": 9,
   "id": "ff1450b6",
   "metadata": {},
   "outputs": [],
   "source": [
    "joined = joined[joined['isFraud'].notnull()]"
   ]
  },
  {
   "cell_type": "code",
   "execution_count": 10,
   "id": "0ca7de72",
   "metadata": {},
   "outputs": [],
   "source": [
    "limite = np.percentile(joined['TransactionDT'], 80)"
   ]
  },
  {
   "cell_type": "code",
   "execution_count": 11,
   "id": "9afdcec2",
   "metadata": {},
   "outputs": [
    {
     "data": {
      "text/plain": [
       "12192853.600000001"
      ]
     },
     "execution_count": 11,
     "metadata": {},
     "output_type": "execute_result"
    }
   ],
   "source": [
    "limite"
   ]
  },
  {
   "cell_type": "code",
   "execution_count": 12,
   "id": "469c1649",
   "metadata": {},
   "outputs": [],
   "source": [
    "filtro1 = joined['TransactionDT'] > limite"
   ]
  },
  {
   "cell_type": "code",
   "execution_count": 13,
   "id": "ad75fb5d",
   "metadata": {},
   "outputs": [
    {
     "data": {
      "text/plain": [
       "False    472432\n",
       "True     118108\n",
       "Name: TransactionDT, dtype: int64"
      ]
     },
     "execution_count": 13,
     "metadata": {},
     "output_type": "execute_result"
    }
   ],
   "source": [
    "filtro1.value_counts()"
   ]
  },
  {
   "cell_type": "code",
   "execution_count": 14,
   "id": "119d2973",
   "metadata": {},
   "outputs": [],
   "source": [
    "validation = joined[filtro1]"
   ]
  },
  {
   "cell_type": "code",
   "execution_count": 15,
   "id": "26e5482e",
   "metadata": {},
   "outputs": [],
   "source": [
    "filtro2 = joined['TransactionDT']<= limite"
   ]
  },
  {
   "cell_type": "code",
   "execution_count": 16,
   "id": "ebb6606b",
   "metadata": {},
   "outputs": [],
   "source": [
    "train = joined[filtro2]"
   ]
  },
  {
   "cell_type": "code",
   "execution_count": 17,
   "id": "ac9ea111",
   "metadata": {},
   "outputs": [],
   "source": [
    "label = train[['isFraud']]"
   ]
  },
  {
   "cell_type": "code",
   "execution_count": 18,
   "id": "53752641",
   "metadata": {},
   "outputs": [],
   "source": [
    "del(train['isFraud'])"
   ]
  },
  {
   "cell_type": "code",
   "execution_count": 19,
   "id": "b1d25637",
   "metadata": {},
   "outputs": [],
   "source": [
    "del(train['TransactionID'])"
   ]
  },
  {
   "cell_type": "code",
   "execution_count": 20,
   "id": "c6a8c19b",
   "metadata": {},
   "outputs": [],
   "source": [
    "entrenando = train.copy()"
   ]
  },
  {
   "cell_type": "code",
   "execution_count": 21,
   "id": "0c93eb25",
   "metadata": {},
   "outputs": [],
   "source": [
    "del joined"
   ]
  },
  {
   "cell_type": "code",
   "execution_count": 22,
   "id": "01d4616a",
   "metadata": {},
   "outputs": [],
   "source": [
    "dict_one_hot = {}"
   ]
  },
  {
   "cell_type": "code",
   "execution_count": 23,
   "id": "ee65316e",
   "metadata": {},
   "outputs": [],
   "source": [
    "def one_hot_encode(df, columna, dict_one_hot):\n",
    "    if columna not in dict_one_hot:\n",
    "        dict_one_hot[columna] = OneHotEncoder(handle_unknown='ignore')\n",
    "        dict_one_hot[columna].fit_transform(df[[columna]].astype(str)).astype(int)\n",
    "    col_encoded = (dict_one_hot[columna].transform(df[[columna]].astype(str)).astype(int))\n",
    "    col_encoded = pd.DataFrame(col_encoded.todense()).add_prefix(columna + '_').fillna(0)\n",
    "    del(df[columna])\n",
    "    df_nuevo = pd.concat([df.reset_index(drop=True), col_encoded], axis=1)\n",
    "    return df_nuevo"
   ]
  },
  {
   "cell_type": "code",
   "execution_count": 24,
   "id": "da4a8fa8",
   "metadata": {},
   "outputs": [],
   "source": [
    "train = one_hot_encode(train,'id_34',dict_one_hot)"
   ]
  },
  {
   "cell_type": "code",
   "execution_count": 25,
   "id": "97857d66",
   "metadata": {},
   "outputs": [],
   "source": [
    "train = one_hot_encode(train,'id_35',dict_one_hot)"
   ]
  },
  {
   "cell_type": "code",
   "execution_count": 26,
   "id": "903d7e33",
   "metadata": {},
   "outputs": [],
   "source": [
    "train = one_hot_encode(train,'id_38',dict_one_hot)"
   ]
  },
  {
   "cell_type": "code",
   "execution_count": 27,
   "id": "86249dc5",
   "metadata": {},
   "outputs": [],
   "source": [
    "train = one_hot_encode(train,'ProductCD',dict_one_hot)"
   ]
  },
  {
   "cell_type": "code",
   "execution_count": 28,
   "id": "748add44",
   "metadata": {},
   "outputs": [],
   "source": [
    "train = one_hot_encode(train,'card4',dict_one_hot)"
   ]
  },
  {
   "cell_type": "code",
   "execution_count": 29,
   "id": "9f1105fe",
   "metadata": {},
   "outputs": [],
   "source": [
    "train = one_hot_encode(train,'P_emaildomain',dict_one_hot)"
   ]
  },
  {
   "cell_type": "code",
   "execution_count": 30,
   "id": "fb9b0999",
   "metadata": {},
   "outputs": [],
   "source": [
    "le = {} #genero diccionario por columna para tener un labelEnc por col\n",
    "for column in train.columns:\n",
    "    if train[column].dtypes==object:\n",
    "        le[column] = OrdinalEncoder(handle_unknown='ignore')\n",
    "        train[column] = le[column].fit_transform(train[column].astype(str).values.reshape(-1, 1))"
   ]
  },
  {
   "cell_type": "code",
   "execution_count": 31,
   "id": "b213d84b",
   "metadata": {},
   "outputs": [],
   "source": [
    "train.fillna(-1,inplace=True)"
   ]
  },
  {
   "cell_type": "code",
   "execution_count": 34,
   "id": "0a7e7483",
   "metadata": {},
   "outputs": [
    {
     "name": "stderr",
     "output_type": "stream",
     "text": [
      "C:\\Users\\julip\\anaconda3\\lib\\site-packages\\sklearn\\utils\\validation.py:63: DataConversionWarning: A column-vector y was passed when a 1d array was expected. Please change the shape of y to (n_samples, ), for example using ravel().\n",
      "  return f(*args, **kwargs)\n"
     ]
    },
    {
     "data": {
      "text/plain": [
       "LogisticRegression(C=0.67, max_iter=1000, random_state=0, solver='saga',\n",
       "                   tol=0.01)"
      ]
     },
     "execution_count": 34,
     "metadata": {},
     "output_type": "execute_result"
    }
   ],
   "source": [
    "model.fit(train, label)"
   ]
  },
  {
   "cell_type": "code",
   "execution_count": 35,
   "id": "80229211",
   "metadata": {},
   "outputs": [
    {
     "name": "stdout",
     "output_type": "stream",
     "text": [
      "              precision    recall  f1-score   support\n",
      "\n",
      "           0       0.96      1.00      0.98    455833\n",
      "           1       0.11      0.00      0.00     16599\n",
      "\n",
      "    accuracy                           0.96    472432\n",
      "   macro avg       0.54      0.50      0.49    472432\n",
      "weighted avg       0.93      0.96      0.95    472432\n",
      "\n"
     ]
    }
   ],
   "source": [
    "print(classification_report(label, model.predict(train)))"
   ]
  },
  {
   "cell_type": "code",
   "execution_count": 36,
   "id": "f06e48f7",
   "metadata": {},
   "outputs": [
    {
     "data": {
      "text/plain": [
       "0.500128756490462"
      ]
     },
     "execution_count": 36,
     "metadata": {},
     "output_type": "execute_result"
    }
   ],
   "source": [
    "roc_auc_score(label, model.predict_proba(train)[:,1])"
   ]
  },
  {
   "cell_type": "markdown",
   "id": "369f7385",
   "metadata": {},
   "source": [
    "### VALIDATION"
   ]
  },
  {
   "cell_type": "code",
   "execution_count": 36,
   "id": "f773877d",
   "metadata": {},
   "outputs": [
    {
     "data": {
      "text/html": [
       "<div>\n",
       "<style scoped>\n",
       "    .dataframe tbody tr th:only-of-type {\n",
       "        vertical-align: middle;\n",
       "    }\n",
       "\n",
       "    .dataframe tbody tr th {\n",
       "        vertical-align: top;\n",
       "    }\n",
       "\n",
       "    .dataframe thead th {\n",
       "        text-align: right;\n",
       "    }\n",
       "</style>\n",
       "<table border=\"1\" class=\"dataframe\">\n",
       "  <thead>\n",
       "    <tr style=\"text-align: right;\">\n",
       "      <th></th>\n",
       "      <th>TransactionID</th>\n",
       "      <th>isFraud</th>\n",
       "      <th>TransactionDT</th>\n",
       "      <th>TransactionAmt</th>\n",
       "      <th>ProductCD</th>\n",
       "      <th>card1</th>\n",
       "      <th>card2</th>\n",
       "      <th>card3</th>\n",
       "      <th>card4</th>\n",
       "      <th>card5</th>\n",
       "      <th>...</th>\n",
       "      <th>id_31</th>\n",
       "      <th>id_32</th>\n",
       "      <th>id_33</th>\n",
       "      <th>id_34</th>\n",
       "      <th>id_35</th>\n",
       "      <th>id_36</th>\n",
       "      <th>id_37</th>\n",
       "      <th>id_38</th>\n",
       "      <th>DeviceType</th>\n",
       "      <th>DeviceInfo</th>\n",
       "    </tr>\n",
       "  </thead>\n",
       "  <tbody>\n",
       "    <tr>\n",
       "      <th>472432</th>\n",
       "      <td>3459432</td>\n",
       "      <td>1</td>\n",
       "      <td>12192900</td>\n",
       "      <td>33.261</td>\n",
       "      <td>C</td>\n",
       "      <td>9300</td>\n",
       "      <td>103.0</td>\n",
       "      <td>185.0</td>\n",
       "      <td>visa</td>\n",
       "      <td>138.0</td>\n",
       "      <td>...</td>\n",
       "      <td>chrome 65.0</td>\n",
       "      <td>NaN</td>\n",
       "      <td>NaN</td>\n",
       "      <td>NaN</td>\n",
       "      <td>F</td>\n",
       "      <td>F</td>\n",
       "      <td>T</td>\n",
       "      <td>F</td>\n",
       "      <td>desktop</td>\n",
       "      <td>NaN</td>\n",
       "    </tr>\n",
       "    <tr>\n",
       "      <th>472433</th>\n",
       "      <td>3459433</td>\n",
       "      <td>0</td>\n",
       "      <td>12192911</td>\n",
       "      <td>52.811</td>\n",
       "      <td>C</td>\n",
       "      <td>8809</td>\n",
       "      <td>179.0</td>\n",
       "      <td>106.0</td>\n",
       "      <td>visa</td>\n",
       "      <td>137.0</td>\n",
       "      <td>...</td>\n",
       "      <td>chrome generic for android</td>\n",
       "      <td>NaN</td>\n",
       "      <td>NaN</td>\n",
       "      <td>NaN</td>\n",
       "      <td>F</td>\n",
       "      <td>F</td>\n",
       "      <td>T</td>\n",
       "      <td>F</td>\n",
       "      <td>mobile</td>\n",
       "      <td>F3311</td>\n",
       "    </tr>\n",
       "  </tbody>\n",
       "</table>\n",
       "<p>2 rows × 434 columns</p>\n",
       "</div>"
      ],
      "text/plain": [
       "        TransactionID  isFraud  TransactionDT  TransactionAmt ProductCD  \\\n",
       "472432        3459432        1       12192900          33.261         C   \n",
       "472433        3459433        0       12192911          52.811         C   \n",
       "\n",
       "        card1  card2  card3 card4  card5  ...                       id_31  \\\n",
       "472432   9300  103.0  185.0  visa  138.0  ...                 chrome 65.0   \n",
       "472433   8809  179.0  106.0  visa  137.0  ...  chrome generic for android   \n",
       "\n",
       "        id_32  id_33  id_34  id_35 id_36 id_37  id_38  DeviceType  DeviceInfo  \n",
       "472432    NaN    NaN    NaN      F     F     T      F     desktop         NaN  \n",
       "472433    NaN    NaN    NaN      F     F     T      F      mobile       F3311  \n",
       "\n",
       "[2 rows x 434 columns]"
      ]
     },
     "execution_count": 36,
     "metadata": {},
     "output_type": "execute_result"
    }
   ],
   "source": [
    "validation.head(2)"
   ]
  },
  {
   "cell_type": "code",
   "execution_count": 37,
   "id": "180468a9",
   "metadata": {},
   "outputs": [],
   "source": [
    "label2=validation['isFraud']"
   ]
  },
  {
   "cell_type": "code",
   "execution_count": 38,
   "id": "16f2dc88",
   "metadata": {},
   "outputs": [],
   "source": [
    "del(validation['isFraud'])"
   ]
  },
  {
   "cell_type": "code",
   "execution_count": 39,
   "id": "bef3fd9e",
   "metadata": {},
   "outputs": [],
   "source": [
    "del(validation['TransactionID'])"
   ]
  },
  {
   "cell_type": "code",
   "execution_count": 40,
   "id": "c88baf9b",
   "metadata": {},
   "outputs": [],
   "source": [
    "validation = one_hot_encode(validation,'id_34',dict_one_hot)"
   ]
  },
  {
   "cell_type": "code",
   "execution_count": 41,
   "id": "fef4b9fe",
   "metadata": {},
   "outputs": [],
   "source": [
    "validation = one_hot_encode(validation,'id_35',dict_one_hot)"
   ]
  },
  {
   "cell_type": "code",
   "execution_count": 42,
   "id": "f9df4f8d",
   "metadata": {},
   "outputs": [],
   "source": [
    "validation = one_hot_encode(validation,'id_38',dict_one_hot)"
   ]
  },
  {
   "cell_type": "code",
   "execution_count": 43,
   "id": "f32185a9",
   "metadata": {},
   "outputs": [],
   "source": [
    "validation = one_hot_encode(validation,'ProductCD',dict_one_hot)"
   ]
  },
  {
   "cell_type": "code",
   "execution_count": 44,
   "id": "ae4ad4ba",
   "metadata": {},
   "outputs": [],
   "source": [
    "validation = one_hot_encode(validation,'card4',dict_one_hot)"
   ]
  },
  {
   "cell_type": "code",
   "execution_count": 45,
   "id": "37cd8443",
   "metadata": {},
   "outputs": [],
   "source": [
    "validation = one_hot_encode(validation,'P_emaildomain',dict_one_hot)"
   ]
  },
  {
   "cell_type": "code",
   "execution_count": 46,
   "id": "6bcfd061",
   "metadata": {},
   "outputs": [],
   "source": [
    "for column in validation.columns:\n",
    "    if validation[column].dtype==object:\n",
    "        validation[column] = le[column].transform(validation[column].astype(str).values.reshape(-1, 1))\n"
   ]
  },
  {
   "cell_type": "code",
   "execution_count": 47,
   "id": "1f3cb813",
   "metadata": {},
   "outputs": [],
   "source": [
    "validation.fillna(-1,inplace=True)"
   ]
  },
  {
   "cell_type": "code",
   "execution_count": 49,
   "id": "918cfb64",
   "metadata": {},
   "outputs": [
    {
     "name": "stdout",
     "output_type": "stream",
     "text": [
      "              precision    recall  f1-score   support\n",
      "\n",
      "           0       0.97      1.00      0.98    114044\n",
      "           1       0.00      0.00      0.00      4064\n",
      "\n",
      "    accuracy                           0.97    118108\n",
      "   macro avg       0.48      0.50      0.49    118108\n",
      "weighted avg       0.93      0.97      0.95    118108\n",
      "\n"
     ]
    },
    {
     "name": "stderr",
     "output_type": "stream",
     "text": [
      "C:\\Users\\julip\\anaconda3\\lib\\site-packages\\sklearn\\metrics\\_classification.py:1245: UndefinedMetricWarning: Precision and F-score are ill-defined and being set to 0.0 in labels with no predicted samples. Use `zero_division` parameter to control this behavior.\n",
      "  _warn_prf(average, modifier, msg_start, len(result))\n",
      "C:\\Users\\julip\\anaconda3\\lib\\site-packages\\sklearn\\metrics\\_classification.py:1245: UndefinedMetricWarning: Precision and F-score are ill-defined and being set to 0.0 in labels with no predicted samples. Use `zero_division` parameter to control this behavior.\n",
      "  _warn_prf(average, modifier, msg_start, len(result))\n",
      "C:\\Users\\julip\\anaconda3\\lib\\site-packages\\sklearn\\metrics\\_classification.py:1245: UndefinedMetricWarning: Precision and F-score are ill-defined and being set to 0.0 in labels with no predicted samples. Use `zero_division` parameter to control this behavior.\n",
      "  _warn_prf(average, modifier, msg_start, len(result))\n"
     ]
    }
   ],
   "source": [
    "print(classification_report(label2, model.predict(validation)))"
   ]
  },
  {
   "cell_type": "code",
   "execution_count": 50,
   "id": "cd7b91e2",
   "metadata": {},
   "outputs": [
    {
     "data": {
      "text/plain": [
       "0.5284647807055821"
      ]
     },
     "execution_count": 50,
     "metadata": {},
     "output_type": "execute_result"
    }
   ],
   "source": [
    "roc_auc_score(label2, model.predict_proba(validation)[:,1])"
   ]
  },
  {
   "cell_type": "markdown",
   "id": "435c9266",
   "metadata": {},
   "source": [
    "### TEST"
   ]
  },
  {
   "cell_type": "code",
   "execution_count": null,
   "id": "4f31f9cc",
   "metadata": {},
   "outputs": [],
   "source": [
    "idenTest = pd.read_csv('test_identity.csv')"
   ]
  },
  {
   "cell_type": "code",
   "execution_count": null,
   "id": "b6b71902",
   "metadata": {},
   "outputs": [],
   "source": [
    "transTest = pd.read_csv('test_transaction.csv')"
   ]
  },
  {
   "cell_type": "code",
   "execution_count": null,
   "id": "9a1ac037",
   "metadata": {},
   "outputs": [],
   "source": [
    "idenTest.columns"
   ]
  },
  {
   "cell_type": "code",
   "execution_count": null,
   "id": "7c59245d",
   "metadata": {},
   "outputs": [],
   "source": [
    "def renombrar(df):\n",
    "    for columna in df.columns:\n",
    "        if columna.startswith('id'):\n",
    "            ss = columna.split('-')\n",
    "            df.rename(columns={columna:ss[0]+'_'+ss[1]},inplace=True)\n",
    "    return (df)\n",
    "        "
   ]
  },
  {
   "cell_type": "code",
   "execution_count": null,
   "id": "cf52ccb8",
   "metadata": {},
   "outputs": [],
   "source": [
    "idenTest = renombrar(idenTest)"
   ]
  },
  {
   "cell_type": "code",
   "execution_count": null,
   "id": "65238143",
   "metadata": {},
   "outputs": [],
   "source": [
    "idenTest.columns"
   ]
  },
  {
   "cell_type": "code",
   "execution_count": null,
   "id": "b7c2c855",
   "metadata": {},
   "outputs": [],
   "source": [
    "test = transTest.merge(idenTest,how='left')"
   ]
  },
  {
   "cell_type": "code",
   "execution_count": null,
   "id": "3c0e28d7",
   "metadata": {},
   "outputs": [],
   "source": [
    "ids = test[['TransactionID']]"
   ]
  },
  {
   "cell_type": "code",
   "execution_count": null,
   "id": "226d8b26",
   "metadata": {},
   "outputs": [],
   "source": [
    "del(test['TransactionID'])"
   ]
  },
  {
   "cell_type": "code",
   "execution_count": null,
   "id": "6c583573",
   "metadata": {},
   "outputs": [],
   "source": [
    "test.head(2)"
   ]
  },
  {
   "cell_type": "code",
   "execution_count": null,
   "id": "56d7f05b",
   "metadata": {},
   "outputs": [],
   "source": [
    "test = one_hot_encode(test,'id_34',dict_one_hot)"
   ]
  },
  {
   "cell_type": "code",
   "execution_count": null,
   "id": "f12d110d",
   "metadata": {},
   "outputs": [],
   "source": [
    "test = one_hot_encode(test,'id_35',dict_one_hot)"
   ]
  },
  {
   "cell_type": "code",
   "execution_count": null,
   "id": "4a20881b",
   "metadata": {},
   "outputs": [],
   "source": [
    "test = one_hot_encode(test,'id_38',dict_one_hot)"
   ]
  },
  {
   "cell_type": "code",
   "execution_count": null,
   "id": "c90a93a8",
   "metadata": {},
   "outputs": [],
   "source": [
    "test = one_hot_encode(test,'ProductCD',dict_one_hot)"
   ]
  },
  {
   "cell_type": "code",
   "execution_count": null,
   "id": "7761f05f",
   "metadata": {},
   "outputs": [],
   "source": [
    "test = one_hot_encode(test,'P_emaildomain',dict_one_hot)"
   ]
  },
  {
   "cell_type": "code",
   "execution_count": null,
   "id": "08ba3a44",
   "metadata": {},
   "outputs": [],
   "source": [
    "test = one_hot_encode(test,'card4',dict_one_hot)"
   ]
  },
  {
   "cell_type": "code",
   "execution_count": null,
   "id": "102699f5",
   "metadata": {},
   "outputs": [],
   "source": [
    "for column in test.columns:\n",
    "    if test[column].dtype==object:\n",
    "        test[column] = le[column].transform(test[column].astype(str).values.reshape(-1, 1))"
   ]
  },
  {
   "cell_type": "code",
   "execution_count": null,
   "id": "22b658ae",
   "metadata": {},
   "outputs": [],
   "source": [
    "test.fillna(-1,inplace=True)"
   ]
  },
  {
   "cell_type": "code",
   "execution_count": null,
   "id": "0662e884",
   "metadata": {},
   "outputs": [],
   "source": [
    "test.head(2)"
   ]
  },
  {
   "cell_type": "code",
   "execution_count": null,
   "id": "9cdc20cf",
   "metadata": {},
   "outputs": [],
   "source": [
    "sub = pd.read_csv('sample_submission.csv')"
   ]
  },
  {
   "cell_type": "code",
   "execution_count": null,
   "id": "fef02327",
   "metadata": {},
   "outputs": [],
   "source": [
    "sub.head(2)"
   ]
  },
  {
   "cell_type": "code",
   "execution_count": null,
   "id": "7e21eaa7",
   "metadata": {},
   "outputs": [],
   "source": [
    "test['predict'] = model.predict_proba(test)[:,1]"
   ]
  },
  {
   "cell_type": "code",
   "execution_count": null,
   "id": "44657560",
   "metadata": {},
   "outputs": [],
   "source": [
    "test = test[['predict']]"
   ]
  },
  {
   "cell_type": "code",
   "execution_count": null,
   "id": "f5142687",
   "metadata": {},
   "outputs": [],
   "source": [
    "join = ids.join(test,how='outer')"
   ]
  },
  {
   "cell_type": "code",
   "execution_count": null,
   "id": "f6e46e71",
   "metadata": {},
   "outputs": [],
   "source": [
    "join"
   ]
  },
  {
   "cell_type": "markdown",
   "id": "6e9589e8",
   "metadata": {},
   "source": [
    "PENALTY\n",
    "\n",
    "TOL\n",
    "\n",
    "C\n",
    "\n",
    "SOLVER\n",
    "\n",
    "SCORING:AUCROC\n",
    "\n",
    "penalty: , 'l1'"
   ]
  },
  {
   "cell_type": "code",
   "execution_count": 21,
   "id": "8c336a23",
   "metadata": {},
   "outputs": [
    {
     "data": {
      "text/plain": [
       "W    346001\n",
       "C     56410\n",
       "R     32203\n",
       "H     29691\n",
       "S      8127\n",
       "Name: ProductCD, dtype: int64"
      ]
     },
     "execution_count": 21,
     "metadata": {},
     "output_type": "execute_result"
    }
   ],
   "source": [
    "entrenando.ProductCD.value_counts()"
   ]
  },
  {
   "cell_type": "code",
   "execution_count": 32,
   "id": "8cc55742",
   "metadata": {
    "scrolled": true
   },
   "outputs": [
    {
     "name": "stdout",
     "output_type": "stream",
     "text": [
      "Fitting 3 folds for each of 4 candidates, totalling 12 fits\n",
      "[CV 1/3; 1/4] START C=0.8, penalty=l1, solver=saga..............................\n"
     ]
    },
    {
     "name": "stderr",
     "output_type": "stream",
     "text": [
      "C:\\Users\\julip\\anaconda3\\lib\\site-packages\\sklearn\\utils\\validation.py:63: DataConversionWarning: A column-vector y was passed when a 1d array was expected. Please change the shape of y to (n_samples, ), for example using ravel().\n",
      "  return f(*args, **kwargs)\n"
     ]
    },
    {
     "name": "stdout",
     "output_type": "stream",
     "text": [
      "[CV 1/3; 1/4] END ............C=0.8, penalty=l1, solver=saga; total time=14.1min\n",
      "[CV 2/3; 1/4] START C=0.8, penalty=l1, solver=saga..............................\n"
     ]
    },
    {
     "name": "stderr",
     "output_type": "stream",
     "text": [
      "C:\\Users\\julip\\anaconda3\\lib\\site-packages\\sklearn\\utils\\validation.py:63: DataConversionWarning: A column-vector y was passed when a 1d array was expected. Please change the shape of y to (n_samples, ), for example using ravel().\n",
      "  return f(*args, **kwargs)\n"
     ]
    },
    {
     "name": "stdout",
     "output_type": "stream",
     "text": [
      "[CV 2/3; 1/4] END ............C=0.8, penalty=l1, solver=saga; total time= 9.3min\n",
      "[CV 3/3; 1/4] START C=0.8, penalty=l1, solver=saga..............................\n"
     ]
    },
    {
     "name": "stderr",
     "output_type": "stream",
     "text": [
      "C:\\Users\\julip\\anaconda3\\lib\\site-packages\\sklearn\\utils\\validation.py:63: DataConversionWarning: A column-vector y was passed when a 1d array was expected. Please change the shape of y to (n_samples, ), for example using ravel().\n",
      "  return f(*args, **kwargs)\n"
     ]
    },
    {
     "name": "stdout",
     "output_type": "stream",
     "text": [
      "[CV 3/3; 1/4] END ............C=0.8, penalty=l1, solver=saga; total time= 7.0min\n",
      "[CV 1/3; 2/4] START C=0.67, penalty=l2, solver=saga.............................\n"
     ]
    },
    {
     "name": "stderr",
     "output_type": "stream",
     "text": [
      "C:\\Users\\julip\\anaconda3\\lib\\site-packages\\sklearn\\utils\\validation.py:63: DataConversionWarning: A column-vector y was passed when a 1d array was expected. Please change the shape of y to (n_samples, ), for example using ravel().\n",
      "  return f(*args, **kwargs)\n"
     ]
    },
    {
     "name": "stdout",
     "output_type": "stream",
     "text": [
      "[CV 1/3; 2/4] END ...........C=0.67, penalty=l2, solver=saga; total time= 7.5min\n",
      "[CV 2/3; 2/4] START C=0.67, penalty=l2, solver=saga.............................\n"
     ]
    },
    {
     "name": "stderr",
     "output_type": "stream",
     "text": [
      "C:\\Users\\julip\\anaconda3\\lib\\site-packages\\sklearn\\utils\\validation.py:63: DataConversionWarning: A column-vector y was passed when a 1d array was expected. Please change the shape of y to (n_samples, ), for example using ravel().\n",
      "  return f(*args, **kwargs)\n"
     ]
    },
    {
     "name": "stdout",
     "output_type": "stream",
     "text": [
      "[CV 2/3; 2/4] END ...........C=0.67, penalty=l2, solver=saga; total time= 5.4min\n",
      "[CV 3/3; 2/4] START C=0.67, penalty=l2, solver=saga.............................\n"
     ]
    },
    {
     "name": "stderr",
     "output_type": "stream",
     "text": [
      "C:\\Users\\julip\\anaconda3\\lib\\site-packages\\sklearn\\utils\\validation.py:63: DataConversionWarning: A column-vector y was passed when a 1d array was expected. Please change the shape of y to (n_samples, ), for example using ravel().\n",
      "  return f(*args, **kwargs)\n"
     ]
    },
    {
     "name": "stdout",
     "output_type": "stream",
     "text": [
      "[CV 3/3; 2/4] END ...........C=0.67, penalty=l2, solver=saga; total time= 4.7min\n",
      "[CV 1/3; 3/4] START C=0.8, penalty=l2, solver=lbfgs.............................\n"
     ]
    },
    {
     "name": "stderr",
     "output_type": "stream",
     "text": [
      "C:\\Users\\julip\\anaconda3\\lib\\site-packages\\sklearn\\utils\\validation.py:63: DataConversionWarning: A column-vector y was passed when a 1d array was expected. Please change the shape of y to (n_samples, ), for example using ravel().\n",
      "  return f(*args, **kwargs)\n"
     ]
    },
    {
     "name": "stdout",
     "output_type": "stream",
     "text": [
      "[CV 1/3; 3/4] END ...........C=0.8, penalty=l2, solver=lbfgs; total time= 1.5min\n",
      "[CV 2/3; 3/4] START C=0.8, penalty=l2, solver=lbfgs.............................\n"
     ]
    },
    {
     "name": "stderr",
     "output_type": "stream",
     "text": [
      "C:\\Users\\julip\\anaconda3\\lib\\site-packages\\sklearn\\utils\\validation.py:63: DataConversionWarning: A column-vector y was passed when a 1d array was expected. Please change the shape of y to (n_samples, ), for example using ravel().\n",
      "  return f(*args, **kwargs)\n"
     ]
    },
    {
     "name": "stdout",
     "output_type": "stream",
     "text": [
      "[CV 2/3; 3/4] END ...........C=0.8, penalty=l2, solver=lbfgs; total time= 8.0min\n",
      "[CV 3/3; 3/4] START C=0.8, penalty=l2, solver=lbfgs.............................\n"
     ]
    },
    {
     "name": "stderr",
     "output_type": "stream",
     "text": [
      "C:\\Users\\julip\\anaconda3\\lib\\site-packages\\sklearn\\utils\\validation.py:63: DataConversionWarning: A column-vector y was passed when a 1d array was expected. Please change the shape of y to (n_samples, ), for example using ravel().\n",
      "  return f(*args, **kwargs)\n",
      "C:\\Users\\julip\\anaconda3\\lib\\site-packages\\sklearn\\linear_model\\_logistic.py:763: ConvergenceWarning: lbfgs failed to converge (status=1):\n",
      "STOP: TOTAL NO. of ITERATIONS REACHED LIMIT.\n",
      "\n",
      "Increase the number of iterations (max_iter) or scale the data as shown in:\n",
      "    https://scikit-learn.org/stable/modules/preprocessing.html\n",
      "Please also refer to the documentation for alternative solver options:\n",
      "    https://scikit-learn.org/stable/modules/linear_model.html#logistic-regression\n",
      "  n_iter_i = _check_optimize_result(\n"
     ]
    },
    {
     "name": "stdout",
     "output_type": "stream",
     "text": [
      "[CV 3/3; 3/4] END ...........C=0.8, penalty=l2, solver=lbfgs; total time= 8.3min\n",
      "[CV 1/3; 4/4] START C=0.5, penalty=l2, solver=liblinear.........................\n"
     ]
    },
    {
     "name": "stderr",
     "output_type": "stream",
     "text": [
      "C:\\Users\\julip\\anaconda3\\lib\\site-packages\\sklearn\\utils\\validation.py:63: DataConversionWarning: A column-vector y was passed when a 1d array was expected. Please change the shape of y to (n_samples, ), for example using ravel().\n",
      "  return f(*args, **kwargs)\n"
     ]
    },
    {
     "name": "stdout",
     "output_type": "stream",
     "text": [
      "[CV 1/3; 4/4] END .......C=0.5, penalty=l2, solver=liblinear; total time=  50.6s\n",
      "[CV 2/3; 4/4] START C=0.5, penalty=l2, solver=liblinear.........................\n"
     ]
    },
    {
     "name": "stderr",
     "output_type": "stream",
     "text": [
      "C:\\Users\\julip\\anaconda3\\lib\\site-packages\\sklearn\\utils\\validation.py:63: DataConversionWarning: A column-vector y was passed when a 1d array was expected. Please change the shape of y to (n_samples, ), for example using ravel().\n",
      "  return f(*args, **kwargs)\n"
     ]
    },
    {
     "name": "stdout",
     "output_type": "stream",
     "text": [
      "[CV 2/3; 4/4] END .......C=0.5, penalty=l2, solver=liblinear; total time= 1.4min\n",
      "[CV 3/3; 4/4] START C=0.5, penalty=l2, solver=liblinear.........................\n"
     ]
    },
    {
     "name": "stderr",
     "output_type": "stream",
     "text": [
      "C:\\Users\\julip\\anaconda3\\lib\\site-packages\\sklearn\\utils\\validation.py:63: DataConversionWarning: A column-vector y was passed when a 1d array was expected. Please change the shape of y to (n_samples, ), for example using ravel().\n",
      "  return f(*args, **kwargs)\n"
     ]
    },
    {
     "name": "stdout",
     "output_type": "stream",
     "text": [
      "[CV 3/3; 4/4] END .......C=0.5, penalty=l2, solver=liblinear; total time= 1.5min\n"
     ]
    },
    {
     "name": "stderr",
     "output_type": "stream",
     "text": [
      "C:\\Users\\julip\\anaconda3\\lib\\site-packages\\sklearn\\utils\\validation.py:63: DataConversionWarning: A column-vector y was passed when a 1d array was expected. Please change the shape of y to (n_samples, ), for example using ravel().\n",
      "  return f(*args, **kwargs)\n",
      "C:\\Users\\julip\\anaconda3\\lib\\site-packages\\sklearn\\linear_model\\_logistic.py:763: ConvergenceWarning: lbfgs failed to converge (status=1):\n",
      "STOP: TOTAL NO. of ITERATIONS REACHED LIMIT.\n",
      "\n",
      "Increase the number of iterations (max_iter) or scale the data as shown in:\n",
      "    https://scikit-learn.org/stable/modules/preprocessing.html\n",
      "Please also refer to the documentation for alternative solver options:\n",
      "    https://scikit-learn.org/stable/modules/linear_model.html#logistic-regression\n",
      "  n_iter_i = _check_optimize_result(\n"
     ]
    },
    {
     "data": {
      "text/plain": [
       "{'solver': 'lbfgs', 'penalty': 'l2', 'C': 0.8}"
      ]
     },
     "execution_count": 32,
     "metadata": {},
     "output_type": "execute_result"
    }
   ],
   "source": [
    "from sklearn.linear_model import LogisticRegression\n",
    "from sklearn.model_selection import RandomizedSearchCV\n",
    "from scipy.stats import uniform\n",
    "logistic = LogisticRegression(tol=1e-2, max_iter=1000,\n",
    "                              random_state=0)\n",
    "distributions = dict(C=[0.1,0.2,0.12,0.5,0.67,0.8,1],\n",
    "                     penalty=['l2','l1'], solver=['lbfgs', 'saga', 'liblinear', 'sag'])\n",
    "clf = RandomizedSearchCV(logistic, distributions, scoring='roc_auc',n_jobs=1, verbose=100, cv=3,n_iter=4, random_state=0)\n",
    "search = clf.fit(train, label)\n",
    "search.best_params_"
   ]
  },
  {
   "cell_type": "code",
   "execution_count": 33,
   "id": "8318fffc",
   "metadata": {},
   "outputs": [],
   "source": [
    "import pickle\n",
    "with open('model_backup', 'wb') as model_backup_file:\n",
    "    pickle.dump(search, model_backup_file)"
   ]
  },
  {
   "cell_type": "code",
   "execution_count": 34,
   "id": "0e3e5392",
   "metadata": {},
   "outputs": [
    {
     "name": "stdout",
     "output_type": "stream",
     "text": [
      "              precision    recall  f1-score   support\n",
      "\n",
      "           0       0.97      1.00      0.98    455833\n",
      "           1       0.30      0.01      0.03     16599\n",
      "\n",
      "    accuracy                           0.96    472432\n",
      "   macro avg       0.63      0.51      0.50    472432\n",
      "weighted avg       0.94      0.96      0.95    472432\n",
      "\n"
     ]
    }
   ],
   "source": [
    "print(classification_report(label, search.predict(train)))"
   ]
  },
  {
   "cell_type": "code",
   "execution_count": 35,
   "id": "b85abdc5",
   "metadata": {},
   "outputs": [
    {
     "data": {
      "text/plain": [
       "0.7344186927679233"
      ]
     },
     "execution_count": 35,
     "metadata": {},
     "output_type": "execute_result"
    }
   ],
   "source": [
    "roc_auc_score(label, search.predict_proba(train)[:,1])"
   ]
  },
  {
   "cell_type": "code",
   "execution_count": 48,
   "id": "4ff55201",
   "metadata": {},
   "outputs": [
    {
     "name": "stdout",
     "output_type": "stream",
     "text": [
      "              precision    recall  f1-score   support\n",
      "\n",
      "           0       0.97      1.00      0.98    114044\n",
      "           1       0.31      0.02      0.03      4064\n",
      "\n",
      "    accuracy                           0.96    118108\n",
      "   macro avg       0.64      0.51      0.51    118108\n",
      "weighted avg       0.94      0.96      0.95    118108\n",
      "\n"
     ]
    }
   ],
   "source": [
    "print(classification_report(label2, search.predict(validation)))"
   ]
  },
  {
   "cell_type": "code",
   "execution_count": 49,
   "id": "f7bc9a7f",
   "metadata": {},
   "outputs": [
    {
     "data": {
      "text/plain": [
       "0.7469679237113068"
      ]
     },
     "execution_count": 49,
     "metadata": {},
     "output_type": "execute_result"
    }
   ],
   "source": [
    "roc_auc_score(label2, search.predict_proba(validation)[:,1])"
   ]
  },
  {
   "cell_type": "code",
   "execution_count": 50,
   "id": "3bde379f",
   "metadata": {},
   "outputs": [
    {
     "data": {
      "text/plain": [
       "\"import pickle\\nwith open('model_backup', 'rb') as file:\\n    search = pickle.load(file)\""
      ]
     },
     "execution_count": 50,
     "metadata": {},
     "output_type": "execute_result"
    }
   ],
   "source": [
    "\"\"\"import pickle\n",
    "with open('model_backup', 'rb') as file:\n",
    "    search = pickle.load(file)\"\"\""
   ]
  },
  {
   "cell_type": "code",
   "execution_count": 33,
   "id": "0bf1a9e7",
   "metadata": {},
   "outputs": [],
   "source": [
    "model = search.best_estimator_"
   ]
  },
  {
   "cell_type": "code",
   "execution_count": null,
   "id": "9f623d56",
   "metadata": {},
   "outputs": [],
   "source": [
    "params = search.best_params_"
   ]
  }
 ],
 "metadata": {
  "kernelspec": {
   "display_name": "Python 3",
   "language": "python",
   "name": "python3"
  },
  "language_info": {
   "codemirror_mode": {
    "name": "ipython",
    "version": 3
   },
   "file_extension": ".py",
   "mimetype": "text/x-python",
   "name": "python",
   "nbconvert_exporter": "python",
   "pygments_lexer": "ipython3",
   "version": "3.8.8"
  }
 },
 "nbformat": 4,
 "nbformat_minor": 5
}
