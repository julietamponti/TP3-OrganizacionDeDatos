{
 "cells": [
  {
   "cell_type": "code",
   "execution_count": 1,
   "id": "b0ac44fa",
   "metadata": {},
   "outputs": [],
   "source": [
    "from sklearn.datasets import load_iris\n",
    "import numpy as np\n",
    "import math\n",
    "from tqdm import tqdm\n",
    "from __future__ import print_function\n",
    "from ipywidgets import interact, interactive, fixed, interact_manual\n",
    "import ipywidgets as widgets\n",
    "import pandas as pd\n",
    "from sklearn.preprocessing import (\n",
    "    LabelEncoder,\n",
    "    OneHotEncoder,\n",
    "    OrdinalEncoder,\n",
    ")\n",
    "from sklearn.linear_model import LogisticRegression\n",
    "from sklearn.metrics import classification_report, accuracy_score, roc_auc_score, ConfusionMatrixDisplay, confusion_matrix\n",
    "import warnings \n",
    "warnings.filterwarnings('ignore')"
   ]
  },
  {
   "cell_type": "markdown",
   "id": "e4c525d6",
   "metadata": {},
   "source": [
    "Creo el modelo inicial."
   ]
  },
  {
   "cell_type": "code",
   "execution_count": 2,
   "id": "10f80027",
   "metadata": {},
   "outputs": [],
   "source": [
    "model = LogisticRegression(C=0.5,random_state=0)"
   ]
  },
  {
   "cell_type": "markdown",
   "id": "75a3a8d8",
   "metadata": {},
   "source": [
    "Realizo la lectura de archivos."
   ]
  },
  {
   "cell_type": "code",
   "execution_count": 3,
   "id": "b368f319",
   "metadata": {},
   "outputs": [],
   "source": [
    "iden = pd.read_csv('train_identity.csv')"
   ]
  },
  {
   "cell_type": "code",
   "execution_count": 4,
   "id": "be920efb",
   "metadata": {},
   "outputs": [],
   "source": [
    "trans = pd.read_csv('train_transaction.csv')"
   ]
  },
  {
   "cell_type": "markdown",
   "id": "260bc6e0",
   "metadata": {},
   "source": [
    "Mergeo los dos dataframes cargados anteriormente."
   ]
  },
  {
   "cell_type": "code",
   "execution_count": 5,
   "id": "3a810dc8",
   "metadata": {},
   "outputs": [],
   "source": [
    "joined = trans.merge(iden,how='left')"
   ]
  },
  {
   "cell_type": "markdown",
   "id": "649e4c78",
   "metadata": {},
   "source": [
    "Libero espacio en la RAM de los dos DF iniciales que no utilizare más."
   ]
  },
  {
   "cell_type": "code",
   "execution_count": 6,
   "id": "87179c92",
   "metadata": {},
   "outputs": [],
   "source": [
    "del iden"
   ]
  },
  {
   "cell_type": "code",
   "execution_count": 7,
   "id": "0332f88c",
   "metadata": {},
   "outputs": [],
   "source": [
    "del trans"
   ]
  },
  {
   "cell_type": "markdown",
   "id": "419c7f60",
   "metadata": {},
   "source": [
    "Busco el valor para realizar el split del train y del validation, quedandome con el 80% del df para el train y con el 20% restante para el validation."
   ]
  },
  {
   "cell_type": "code",
   "execution_count": 8,
   "id": "0ca7de72",
   "metadata": {},
   "outputs": [],
   "source": [
    "limite = np.percentile(joined['TransactionDT'], 80)"
   ]
  },
  {
   "cell_type": "markdown",
   "id": "106b8d1f",
   "metadata": {},
   "source": [
    "Filtro en el df para generar el train y el validation, y sus labels."
   ]
  },
  {
   "cell_type": "markdown",
   "id": "f3b553c7",
   "metadata": {},
   "source": [
    "*Validation*"
   ]
  },
  {
   "cell_type": "code",
   "execution_count": 9,
   "id": "469c1649",
   "metadata": {},
   "outputs": [],
   "source": [
    "filtro1 = joined['TransactionDT'] > limite"
   ]
  },
  {
   "cell_type": "code",
   "execution_count": 10,
   "id": "119d2973",
   "metadata": {},
   "outputs": [],
   "source": [
    "validation = joined[filtro1]"
   ]
  },
  {
   "cell_type": "code",
   "execution_count": 11,
   "id": "180468a9",
   "metadata": {},
   "outputs": [],
   "source": [
    "label2=validation['isFraud']"
   ]
  },
  {
   "cell_type": "code",
   "execution_count": 12,
   "id": "16f2dc88",
   "metadata": {},
   "outputs": [],
   "source": [
    "del(validation['isFraud'])"
   ]
  },
  {
   "cell_type": "markdown",
   "id": "8b581d10",
   "metadata": {},
   "source": [
    "*Train*"
   ]
  },
  {
   "cell_type": "code",
   "execution_count": 13,
   "id": "26e5482e",
   "metadata": {},
   "outputs": [],
   "source": [
    "filtro2 = joined['TransactionDT']<= limite"
   ]
  },
  {
   "cell_type": "code",
   "execution_count": 14,
   "id": "ebb6606b",
   "metadata": {},
   "outputs": [],
   "source": [
    "train = joined[filtro2]"
   ]
  },
  {
   "cell_type": "code",
   "execution_count": 15,
   "id": "ac9ea111",
   "metadata": {},
   "outputs": [],
   "source": [
    "label = train[['isFraud']]"
   ]
  },
  {
   "cell_type": "code",
   "execution_count": 16,
   "id": "53752641",
   "metadata": {},
   "outputs": [],
   "source": [
    "del(train['isFraud'])"
   ]
  },
  {
   "cell_type": "markdown",
   "id": "4fe8e2e3",
   "metadata": {},
   "source": [
    "Elimino los IDs unicos por consigna."
   ]
  },
  {
   "cell_type": "code",
   "execution_count": 17,
   "id": "b1d25637",
   "metadata": {},
   "outputs": [],
   "source": [
    "del(train['TransactionID'])"
   ]
  },
  {
   "cell_type": "markdown",
   "id": "eaca56fe",
   "metadata": {},
   "source": [
    "Libero espacion en la RAM, eliminando un df que ya no utilizare."
   ]
  },
  {
   "cell_type": "code",
   "execution_count": 18,
   "id": "0c93eb25",
   "metadata": {},
   "outputs": [],
   "source": [
    "del joined"
   ]
  },
  {
   "cell_type": "markdown",
   "id": "696d97c2",
   "metadata": {},
   "source": [
    "Creo el diccionario donde almacenare los encodings de cada feature."
   ]
  },
  {
   "cell_type": "code",
   "execution_count": 19,
   "id": "01d4616a",
   "metadata": {},
   "outputs": [],
   "source": [
    "dict_one_hot = {}"
   ]
  },
  {
   "cell_type": "code",
   "execution_count": 20,
   "id": "5d6335ca",
   "metadata": {},
   "outputs": [],
   "source": [
    "le = {}"
   ]
  },
  {
   "cell_type": "markdown",
   "id": "15e1a9bb",
   "metadata": {},
   "source": [
    "Creo las funciones que utilizare a continuacion para realizar los encodings"
   ]
  },
  {
   "cell_type": "code",
   "execution_count": 21,
   "id": "ee65316e",
   "metadata": {},
   "outputs": [],
   "source": [
    "def one_hot_encode(df, columna, dict_one_hot):\n",
    "    if columna not in dict_one_hot:\n",
    "        dict_one_hot[columna] = OneHotEncoder(handle_unknown='ignore')\n",
    "        dict_one_hot[columna].fit_transform(df[[columna]].astype(str)).astype(int)\n",
    "    col_encoded = (dict_one_hot[columna].transform(df[[columna]].astype(str)).astype(int))\n",
    "    col_encoded = pd.DataFrame(col_encoded.todense()).add_prefix(columna + '_').fillna(0)\n",
    "    del(df[columna])\n",
    "    df_nuevo = pd.concat([df.reset_index(drop=True), col_encoded], axis=1)\n",
    "    return df_nuevo"
   ]
  },
  {
   "cell_type": "code",
   "execution_count": 22,
   "id": "fb9b0999",
   "metadata": {},
   "outputs": [],
   "source": [
    "def ordinal_enc(df,le):\n",
    "    for column in df.columns:\n",
    "        if df[column].dtypes==object:\n",
    "            le[column] = OrdinalEncoder(handle_unknown='ignore')\n",
    "            df[column] = le[column].fit_transform(df[column].astype(str).values.reshape(-1, 1))\n",
    "    df.fillna(-1,inplace=True)\n",
    "    return(df)"
   ]
  },
  {
   "cell_type": "markdown",
   "id": "8758754f",
   "metadata": {},
   "source": [
    "## TRAIN"
   ]
  },
  {
   "cell_type": "markdown",
   "id": "5830d8db",
   "metadata": {},
   "source": [
    "Realizo los encodings."
   ]
  },
  {
   "cell_type": "code",
   "execution_count": 23,
   "id": "da4a8fa8",
   "metadata": {},
   "outputs": [],
   "source": [
    "train = one_hot_encode(train,'id_34',dict_one_hot)"
   ]
  },
  {
   "cell_type": "code",
   "execution_count": 24,
   "id": "97857d66",
   "metadata": {},
   "outputs": [],
   "source": [
    "train = one_hot_encode(train,'id_35',dict_one_hot)"
   ]
  },
  {
   "cell_type": "code",
   "execution_count": 25,
   "id": "903d7e33",
   "metadata": {},
   "outputs": [],
   "source": [
    "train = one_hot_encode(train,'id_38',dict_one_hot)"
   ]
  },
  {
   "cell_type": "code",
   "execution_count": 26,
   "id": "86249dc5",
   "metadata": {},
   "outputs": [],
   "source": [
    "train = one_hot_encode(train,'ProductCD',dict_one_hot)"
   ]
  },
  {
   "cell_type": "code",
   "execution_count": 27,
   "id": "748add44",
   "metadata": {},
   "outputs": [],
   "source": [
    "train = one_hot_encode(train,'card4',dict_one_hot)"
   ]
  },
  {
   "cell_type": "code",
   "execution_count": 28,
   "id": "9f1105fe",
   "metadata": {},
   "outputs": [],
   "source": [
    "train = one_hot_encode(train,'P_emaildomain',dict_one_hot)"
   ]
  },
  {
   "cell_type": "code",
   "execution_count": 29,
   "id": "21c8ab39",
   "metadata": {},
   "outputs": [],
   "source": [
    "train = ordinal_enc(train,le)"
   ]
  },
  {
   "cell_type": "markdown",
   "id": "bf72ace0",
   "metadata": {},
   "source": [
    "Entreno el modelo."
   ]
  },
  {
   "cell_type": "code",
   "execution_count": 30,
   "id": "0a7e7483",
   "metadata": {},
   "outputs": [
    {
     "data": {
      "text/plain": [
       "LogisticRegression(C=0.5, random_state=0)"
      ]
     },
     "execution_count": 30,
     "metadata": {},
     "output_type": "execute_result"
    }
   ],
   "source": [
    "model.fit(train, label)"
   ]
  },
  {
   "cell_type": "markdown",
   "id": "369f7385",
   "metadata": {},
   "source": [
    "### VALIDATION"
   ]
  },
  {
   "cell_type": "markdown",
   "id": "c67880bf",
   "metadata": {},
   "source": [
    "Elimino los IDs unicos por consigna."
   ]
  },
  {
   "cell_type": "code",
   "execution_count": 31,
   "id": "bef3fd9e",
   "metadata": {},
   "outputs": [],
   "source": [
    "del(validation['TransactionID'])"
   ]
  },
  {
   "cell_type": "markdown",
   "id": "f5aca722",
   "metadata": {},
   "source": [
    "Realizo los encodings."
   ]
  },
  {
   "cell_type": "code",
   "execution_count": 32,
   "id": "c88baf9b",
   "metadata": {},
   "outputs": [],
   "source": [
    "validation = one_hot_encode(validation,'id_34',dict_one_hot)"
   ]
  },
  {
   "cell_type": "code",
   "execution_count": 33,
   "id": "fef4b9fe",
   "metadata": {},
   "outputs": [],
   "source": [
    "validation = one_hot_encode(validation,'id_35',dict_one_hot)"
   ]
  },
  {
   "cell_type": "code",
   "execution_count": 34,
   "id": "f9df4f8d",
   "metadata": {},
   "outputs": [],
   "source": [
    "validation = one_hot_encode(validation,'id_38',dict_one_hot)"
   ]
  },
  {
   "cell_type": "code",
   "execution_count": 35,
   "id": "f32185a9",
   "metadata": {},
   "outputs": [],
   "source": [
    "validation = one_hot_encode(validation,'ProductCD',dict_one_hot)"
   ]
  },
  {
   "cell_type": "code",
   "execution_count": 36,
   "id": "ae4ad4ba",
   "metadata": {},
   "outputs": [],
   "source": [
    "validation = one_hot_encode(validation,'card4',dict_one_hot)"
   ]
  },
  {
   "cell_type": "code",
   "execution_count": 37,
   "id": "d9857940",
   "metadata": {},
   "outputs": [],
   "source": [
    "validation = one_hot_encode(validation,'P_emaildomain',dict_one_hot)"
   ]
  },
  {
   "cell_type": "code",
   "execution_count": 38,
   "id": "8ee9d359",
   "metadata": {},
   "outputs": [],
   "source": [
    "validation = ordinal_enc(validation,le)"
   ]
  },
  {
   "cell_type": "markdown",
   "id": "17ebf3c2",
   "metadata": {},
   "source": [
    "Muestro el classification_report"
   ]
  },
  {
   "cell_type": "code",
   "execution_count": 39,
   "id": "918cfb64",
   "metadata": {},
   "outputs": [
    {
     "name": "stdout",
     "output_type": "stream",
     "text": [
      "              precision    recall  f1-score   support\n",
      "\n",
      "           0       0.97      1.00      0.98    114044\n",
      "           1       0.00      0.00      0.00      4064\n",
      "\n",
      "    accuracy                           0.96    118108\n",
      "   macro avg       0.48      0.50      0.49    118108\n",
      "weighted avg       0.93      0.96      0.95    118108\n",
      "\n"
     ]
    }
   ],
   "source": [
    "print(classification_report(label2, model.predict(validation)))"
   ]
  },
  {
   "cell_type": "markdown",
   "id": "84a2ea58",
   "metadata": {},
   "source": [
    "Se calcula el roc auc con el modelo manual."
   ]
  },
  {
   "cell_type": "code",
   "execution_count": 40,
   "id": "cd7b91e2",
   "metadata": {},
   "outputs": [
    {
     "data": {
      "text/plain": [
       "0.6911885003046206"
      ]
     },
     "execution_count": 40,
     "metadata": {},
     "output_type": "execute_result"
    }
   ],
   "source": [
    "roc_auc_score(label2, model.predict_proba(validation)[:,1])"
   ]
  },
  {
   "cell_type": "markdown",
   "id": "435c9266",
   "metadata": {},
   "source": [
    "### TEST"
   ]
  },
  {
   "cell_type": "markdown",
   "id": "f4990b2f",
   "metadata": {},
   "source": [
    "Realizo la lectura de archivos."
   ]
  },
  {
   "cell_type": "code",
   "execution_count": 41,
   "id": "4f31f9cc",
   "metadata": {},
   "outputs": [],
   "source": [
    "idenTest = pd.read_csv('test_identity.csv')"
   ]
  },
  {
   "cell_type": "code",
   "execution_count": 42,
   "id": "b6b71902",
   "metadata": {},
   "outputs": [],
   "source": [
    "transTest = pd.read_csv('test_transaction.csv')"
   ]
  },
  {
   "cell_type": "markdown",
   "id": "95d10f88",
   "metadata": {},
   "source": [
    "Verifico los nombres de los features, dado que en un primer momento me ha lanzado un error."
   ]
  },
  {
   "cell_type": "code",
   "execution_count": 43,
   "id": "9a1ac037",
   "metadata": {},
   "outputs": [
    {
     "data": {
      "text/plain": [
       "Index(['TransactionID', 'id-01', 'id-02', 'id-03', 'id-04', 'id-05', 'id-06',\n",
       "       'id-07', 'id-08', 'id-09', 'id-10', 'id-11', 'id-12', 'id-13', 'id-14',\n",
       "       'id-15', 'id-16', 'id-17', 'id-18', 'id-19', 'id-20', 'id-21', 'id-22',\n",
       "       'id-23', 'id-24', 'id-25', 'id-26', 'id-27', 'id-28', 'id-29', 'id-30',\n",
       "       'id-31', 'id-32', 'id-33', 'id-34', 'id-35', 'id-36', 'id-37', 'id-38',\n",
       "       'DeviceType', 'DeviceInfo'],\n",
       "      dtype='object')"
      ]
     },
     "execution_count": 43,
     "metadata": {},
     "output_type": "execute_result"
    }
   ],
   "source": [
    "idenTest.columns"
   ]
  },
  {
   "cell_type": "markdown",
   "id": "afa5163e",
   "metadata": {},
   "source": [
    "Genero una funcion para renombrar los features ids dado que son distintos a los del train y el validation."
   ]
  },
  {
   "cell_type": "code",
   "execution_count": 44,
   "id": "7c59245d",
   "metadata": {},
   "outputs": [],
   "source": [
    "def renombrar(df):\n",
    "    for columna in df.columns:\n",
    "        if columna.startswith('id'):\n",
    "            ss = columna.split('-')\n",
    "            df.rename(columns={columna:ss[0]+'_'+ss[1]},inplace=True)\n",
    "    return (df)\n",
    "        "
   ]
  },
  {
   "cell_type": "code",
   "execution_count": 45,
   "id": "cf52ccb8",
   "metadata": {},
   "outputs": [],
   "source": [
    "idenTest = renombrar(idenTest)"
   ]
  },
  {
   "cell_type": "code",
   "execution_count": 46,
   "id": "65238143",
   "metadata": {},
   "outputs": [
    {
     "data": {
      "text/plain": [
       "Index(['TransactionID', 'id_01', 'id_02', 'id_03', 'id_04', 'id_05', 'id_06',\n",
       "       'id_07', 'id_08', 'id_09', 'id_10', 'id_11', 'id_12', 'id_13', 'id_14',\n",
       "       'id_15', 'id_16', 'id_17', 'id_18', 'id_19', 'id_20', 'id_21', 'id_22',\n",
       "       'id_23', 'id_24', 'id_25', 'id_26', 'id_27', 'id_28', 'id_29', 'id_30',\n",
       "       'id_31', 'id_32', 'id_33', 'id_34', 'id_35', 'id_36', 'id_37', 'id_38',\n",
       "       'DeviceType', 'DeviceInfo'],\n",
       "      dtype='object')"
      ]
     },
     "execution_count": 46,
     "metadata": {},
     "output_type": "execute_result"
    }
   ],
   "source": [
    "idenTest.columns"
   ]
  },
  {
   "cell_type": "markdown",
   "id": "fc76f233",
   "metadata": {},
   "source": [
    "Realizo el merge de los dos df."
   ]
  },
  {
   "cell_type": "code",
   "execution_count": 47,
   "id": "b7c2c855",
   "metadata": {},
   "outputs": [],
   "source": [
    "test = transTest.merge(idenTest,how='left')"
   ]
  },
  {
   "cell_type": "markdown",
   "id": "ea4b2ddf",
   "metadata": {},
   "source": [
    "Me guardo el TransactionID dado que lo necesatare luego para generar el csv para la competencia."
   ]
  },
  {
   "cell_type": "code",
   "execution_count": 48,
   "id": "3c0e28d7",
   "metadata": {},
   "outputs": [],
   "source": [
    "ids = test[['TransactionID']]"
   ]
  },
  {
   "cell_type": "code",
   "execution_count": 49,
   "id": "226d8b26",
   "metadata": {},
   "outputs": [],
   "source": [
    "del(test['TransactionID'])"
   ]
  },
  {
   "cell_type": "markdown",
   "id": "de737404",
   "metadata": {},
   "source": [
    "Realizo los encodings."
   ]
  },
  {
   "cell_type": "code",
   "execution_count": 50,
   "id": "56d7f05b",
   "metadata": {},
   "outputs": [],
   "source": [
    "test = one_hot_encode(test,'id_34',dict_one_hot)"
   ]
  },
  {
   "cell_type": "code",
   "execution_count": 51,
   "id": "f12d110d",
   "metadata": {},
   "outputs": [],
   "source": [
    "test = one_hot_encode(test,'id_35',dict_one_hot)"
   ]
  },
  {
   "cell_type": "code",
   "execution_count": 52,
   "id": "4a20881b",
   "metadata": {},
   "outputs": [],
   "source": [
    "test = one_hot_encode(test,'id_38',dict_one_hot)"
   ]
  },
  {
   "cell_type": "code",
   "execution_count": 53,
   "id": "c90a93a8",
   "metadata": {},
   "outputs": [],
   "source": [
    "test = one_hot_encode(test,'ProductCD',dict_one_hot)"
   ]
  },
  {
   "cell_type": "code",
   "execution_count": 54,
   "id": "7761f05f",
   "metadata": {},
   "outputs": [],
   "source": [
    "test = one_hot_encode(test,'P_emaildomain',dict_one_hot)"
   ]
  },
  {
   "cell_type": "code",
   "execution_count": 55,
   "id": "08ba3a44",
   "metadata": {},
   "outputs": [],
   "source": [
    "test = one_hot_encode(test,'card4',dict_one_hot)"
   ]
  },
  {
   "cell_type": "code",
   "execution_count": 56,
   "id": "4018b563",
   "metadata": {},
   "outputs": [],
   "source": [
    "test = ordinal_enc(test,le)"
   ]
  },
  {
   "cell_type": "markdown",
   "id": "677bb6e5",
   "metadata": {},
   "source": [
    "Realizo el predict_proba."
   ]
  },
  {
   "cell_type": "code",
   "execution_count": 57,
   "id": "7e21eaa7",
   "metadata": {},
   "outputs": [],
   "source": [
    "prediccionModel = model.predict_proba(test)[:,1]"
   ]
  },
  {
   "cell_type": "markdown",
   "id": "7370ffa4",
   "metadata": {},
   "source": [
    "## Hiperparametros\n",
    "Utilice RandomizedSearch de *Sklearn* para buscar los hiperparametros que mejoraron mi aucroc."
   ]
  },
  {
   "cell_type": "code",
   "execution_count": 62,
   "id": "8cc55742",
   "metadata": {
    "scrolled": true
   },
   "outputs": [
    {
     "data": {
      "text/plain": [
       "\"\\nfrom sklearn.model_selection import RandomizedSearchCV\\nfrom scipy.stats import uniform\\nlogistic = LogisticRegression(tol=1e-2, max_iter=1000,\\n                              random_state=0)\\ndistributions = dict(C=[0.1,0.2,0.12,0.5,0.67,0.8,1],\\n                     penalty=['l2','l1'], solver=['lbfgs', 'saga', 'liblinear', 'sag'])\\nclf = RandomizedSearchCV(logistic, distributions, scoring='roc_auc',n_jobs=1, verbose=100, cv=3,n_iter=4, random_state=0)\\nsearch = clf.fit(train, label)\\nsearch.best_params_\\n\""
      ]
     },
     "execution_count": 62,
     "metadata": {},
     "output_type": "execute_result"
    }
   ],
   "source": [
    "\"\"\"\n",
    "from sklearn.model_selection import RandomizedSearchCV\n",
    "from scipy.stats import uniform\n",
    "logistic = LogisticRegression(tol=1e-2, max_iter=1000,\n",
    "                              random_state=0)\n",
    "distributions = dict(C=[0.1,0.2,0.12,0.5,0.67,0.8,1],\n",
    "                     penalty=['l2','l1'], solver=['lbfgs', 'saga', 'liblinear', 'sag'])\n",
    "clf = RandomizedSearchCV(logistic, distributions, scoring='roc_auc',n_jobs=1, verbose=100, cv=3,n_iter=4, random_state=0)\n",
    "search = clf.fit(train, label)\n",
    "search.best_params_\n",
    "\"\"\""
   ]
  },
  {
   "cell_type": "code",
   "execution_count": 59,
   "id": "8318fffc",
   "metadata": {},
   "outputs": [],
   "source": [
    "\"\"\"\n",
    "import pickle\n",
    "with open('model_backup_punto_2', 'wb') as model_backup_file:\n",
    "    pickle.dump(search, model_backup_file)\n",
    "\"\"\""
   ]
  },
  {
   "cell_type": "code",
   "execution_count": 63,
   "id": "3bde379f",
   "metadata": {},
   "outputs": [],
   "source": [
    "import pickle\n",
    "with open('model_backup_punto_2', 'rb') as file:\n",
    "    search = pickle.load(file)"
   ]
  },
  {
   "cell_type": "code",
   "execution_count": 64,
   "id": "e6ff2362",
   "metadata": {},
   "outputs": [
    {
     "name": "stdout",
     "output_type": "stream",
     "text": [
      "Los mejores parametros resultaron los siguientes:  {'solver': 'lbfgs', 'penalty': 'l2', 'C': 0.8}\n"
     ]
    }
   ],
   "source": [
    "print('Los mejores parametros resultaron los siguientes: ', search.best_params_)"
   ]
  },
  {
   "cell_type": "markdown",
   "id": "f59c699d",
   "metadata": {},
   "source": [
    "### Validation\n",
    "Calculo nuevamente el *roc auc* y muestro el cassification report."
   ]
  },
  {
   "cell_type": "code",
   "execution_count": 65,
   "id": "4ff55201",
   "metadata": {},
   "outputs": [
    {
     "name": "stdout",
     "output_type": "stream",
     "text": [
      "              precision    recall  f1-score   support\n",
      "\n",
      "           0       0.97      1.00      0.98    114044\n",
      "           1       0.25      0.03      0.05      4064\n",
      "\n",
      "    accuracy                           0.96    118108\n",
      "   macro avg       0.61      0.51      0.52    118108\n",
      "weighted avg       0.94      0.96      0.95    118108\n",
      "\n"
     ]
    }
   ],
   "source": [
    "print(classification_report(label2, search.predict(validation)))"
   ]
  },
  {
   "cell_type": "code",
   "execution_count": 66,
   "id": "f7bc9a7f",
   "metadata": {},
   "outputs": [
    {
     "data": {
      "text/plain": [
       "0.7488077216260225"
      ]
     },
     "execution_count": 66,
     "metadata": {},
     "output_type": "execute_result"
    }
   ],
   "source": [
    "roc_auc_score(label2, search.predict_proba(validation)[:,1])"
   ]
  },
  {
   "cell_type": "markdown",
   "id": "cb61cf4b",
   "metadata": {},
   "source": [
    "### Test\n",
    "Calculo el *predict proba* para la competencia, dado que me da un mejor roc auc el modelo generado con la busqueda de hiperparametros."
   ]
  },
  {
   "cell_type": "code",
   "execution_count": 67,
   "id": "1bed1aa1",
   "metadata": {},
   "outputs": [],
   "source": [
    "test['isFraud'] = search.predict_proba(test)[:,1]"
   ]
  },
  {
   "cell_type": "code",
   "execution_count": 68,
   "id": "90c6e12f",
   "metadata": {},
   "outputs": [],
   "source": [
    "test = test[['isFraud']]"
   ]
  },
  {
   "cell_type": "code",
   "execution_count": 69,
   "id": "d6d61c46",
   "metadata": {},
   "outputs": [],
   "source": [
    "join = ids.join(test)"
   ]
  },
  {
   "cell_type": "code",
   "execution_count": 70,
   "id": "65b7c7bf",
   "metadata": {},
   "outputs": [
    {
     "data": {
      "text/html": [
       "<div>\n",
       "<style scoped>\n",
       "    .dataframe tbody tr th:only-of-type {\n",
       "        vertical-align: middle;\n",
       "    }\n",
       "\n",
       "    .dataframe tbody tr th {\n",
       "        vertical-align: top;\n",
       "    }\n",
       "\n",
       "    .dataframe thead th {\n",
       "        text-align: right;\n",
       "    }\n",
       "</style>\n",
       "<table border=\"1\" class=\"dataframe\">\n",
       "  <thead>\n",
       "    <tr style=\"text-align: right;\">\n",
       "      <th></th>\n",
       "      <th>TransactionID</th>\n",
       "      <th>isFraud</th>\n",
       "    </tr>\n",
       "  </thead>\n",
       "  <tbody>\n",
       "    <tr>\n",
       "      <th>0</th>\n",
       "      <td>3663549</td>\n",
       "      <td>0.005091</td>\n",
       "    </tr>\n",
       "    <tr>\n",
       "      <th>1</th>\n",
       "      <td>3663550</td>\n",
       "      <td>0.007144</td>\n",
       "    </tr>\n",
       "    <tr>\n",
       "      <th>2</th>\n",
       "      <td>3663551</td>\n",
       "      <td>0.012478</td>\n",
       "    </tr>\n",
       "    <tr>\n",
       "      <th>3</th>\n",
       "      <td>3663552</td>\n",
       "      <td>0.010386</td>\n",
       "    </tr>\n",
       "    <tr>\n",
       "      <th>4</th>\n",
       "      <td>3663553</td>\n",
       "      <td>0.010180</td>\n",
       "    </tr>\n",
       "    <tr>\n",
       "      <th>...</th>\n",
       "      <td>...</td>\n",
       "      <td>...</td>\n",
       "    </tr>\n",
       "    <tr>\n",
       "      <th>506686</th>\n",
       "      <td>4170235</td>\n",
       "      <td>0.013807</td>\n",
       "    </tr>\n",
       "    <tr>\n",
       "      <th>506687</th>\n",
       "      <td>4170236</td>\n",
       "      <td>0.503490</td>\n",
       "    </tr>\n",
       "    <tr>\n",
       "      <th>506688</th>\n",
       "      <td>4170237</td>\n",
       "      <td>0.010601</td>\n",
       "    </tr>\n",
       "    <tr>\n",
       "      <th>506689</th>\n",
       "      <td>4170238</td>\n",
       "      <td>0.012133</td>\n",
       "    </tr>\n",
       "    <tr>\n",
       "      <th>506690</th>\n",
       "      <td>4170239</td>\n",
       "      <td>0.167084</td>\n",
       "    </tr>\n",
       "  </tbody>\n",
       "</table>\n",
       "<p>506691 rows × 2 columns</p>\n",
       "</div>"
      ],
      "text/plain": [
       "        TransactionID   isFraud\n",
       "0             3663549  0.005091\n",
       "1             3663550  0.007144\n",
       "2             3663551  0.012478\n",
       "3             3663552  0.010386\n",
       "4             3663553  0.010180\n",
       "...               ...       ...\n",
       "506686        4170235  0.013807\n",
       "506687        4170236  0.503490\n",
       "506688        4170237  0.010601\n",
       "506689        4170238  0.012133\n",
       "506690        4170239  0.167084\n",
       "\n",
       "[506691 rows x 2 columns]"
      ]
     },
     "execution_count": 70,
     "metadata": {},
     "output_type": "execute_result"
    }
   ],
   "source": [
    "join"
   ]
  },
  {
   "cell_type": "code",
   "execution_count": 71,
   "id": "7ea1e0d5",
   "metadata": {},
   "outputs": [],
   "source": [
    "join.to_csv(\"entregaKaggle_punto_2_regresion_log.csv\", index = False)"
   ]
  },
  {
   "cell_type": "markdown",
   "id": "92d604a0",
   "metadata": {},
   "source": [
    "https://www.kaggle.com/c/ieee-fraud-detection/submit"
   ]
  },
  {
   "cell_type": "markdown",
   "id": "0ada53a7",
   "metadata": {},
   "source": [
    "#### Score en la competencia\n",
    "<img src = 'score-Kaggle-punto-2.png' alt = \"title\">"
   ]
  },
  {
   "cell_type": "markdown",
   "id": "5b25653c",
   "metadata": {},
   "source": [
    "### Busco y grafico los features mas importantes."
   ]
  },
  {
   "cell_type": "code",
   "execution_count": 72,
   "id": "26ee826e",
   "metadata": {},
   "outputs": [],
   "source": [
    "from sklearn.ensemble import RandomForestClassifier\n",
    "from sklearn.feature_selection import SelectFromModel\n",
    "fs = SelectFromModel(RandomForestClassifier(n_estimators=200), max_features=5)"
   ]
  },
  {
   "cell_type": "code",
   "execution_count": 73,
   "id": "4f5e740b",
   "metadata": {},
   "outputs": [],
   "source": [
    "importance = search.best_estimator_.coef_[0]"
   ]
  },
  {
   "cell_type": "code",
   "execution_count": 74,
   "id": "23b8ea22",
   "metadata": {},
   "outputs": [],
   "source": [
    "from matplotlib import pyplot\n",
    "import numpy as np"
   ]
  },
  {
   "cell_type": "code",
   "execution_count": 75,
   "id": "ba13b06e",
   "metadata": {},
   "outputs": [
    {
     "name": "stdout",
     "output_type": "stream",
     "text": [
      "Feature: 0, score: 0.00000\n",
      "Feature: 1, score: 0.00005\n",
      "Feature: 2, score: -0.00005\n",
      "Feature: 3, score: -0.00074\n",
      "Feature: 4, score: -0.00026\n",
      "Feature: 5, score: -0.00050\n",
      "Feature: 6, score: -0.00001\n",
      "Feature: 7, score: -0.00096\n",
      "Feature: 8, score: -0.00031\n",
      "Feature: 9, score: 0.00001\n",
      "Feature: 10, score: 0.00008\n",
      "Feature: 11, score: -0.00007\n",
      "Feature: 12, score: 0.00014\n",
      "Feature: 13, score: 0.00021\n",
      "Feature: 14, score: -0.00000\n",
      "Feature: 15, score: 0.00005\n",
      "Feature: 16, score: -0.00004\n",
      "Feature: 17, score: 0.00001\n",
      "Feature: 18, score: 0.00006\n",
      "Feature: 19, score: 0.00010\n",
      "Feature: 20, score: -0.00003\n",
      "Feature: 21, score: 0.00007\n",
      "Feature: 22, score: 0.00007\n",
      "Feature: 23, score: 0.00010\n",
      "Feature: 24, score: -0.00017\n",
      "Feature: 25, score: -0.00003\n",
      "Feature: 26, score: -0.00055\n",
      "Feature: 27, score: -0.00059\n",
      "Feature: 28, score: -0.00012\n",
      "Feature: 29, score: -0.00043\n",
      "Feature: 30, score: -0.00016\n",
      "Feature: 31, score: 0.00002\n",
      "Feature: 32, score: -0.00004\n",
      "Feature: 33, score: -0.00022\n",
      "Feature: 34, score: 0.00000\n",
      "Feature: 35, score: -0.00051\n",
      "Feature: 36, score: -0.00036\n",
      "Feature: 37, score: 0.00005\n",
      "Feature: 38, score: -0.00002\n",
      "Feature: 39, score: 0.00008\n",
      "Feature: 40, score: -0.00066\n",
      "Feature: 41, score: -0.00000\n",
      "Feature: 42, score: -0.00000\n",
      "Feature: 43, score: -0.00000\n",
      "Feature: 44, score: -0.00001\n",
      "Feature: 45, score: -0.00000\n",
      "Feature: 46, score: -0.00000\n",
      "Feature: 47, score: -0.00000\n",
      "Feature: 48, score: -0.00000\n",
      "Feature: 49, score: -0.00000\n",
      "Feature: 50, score: -0.00000\n",
      "Feature: 51, score: -0.00000\n",
      "Feature: 52, score: -0.00000\n",
      "Feature: 53, score: -0.00000\n",
      "Feature: 54, score: -0.00000\n",
      "Feature: 55, score: -0.00000\n",
      "Feature: 56, score: -0.00000\n",
      "Feature: 57, score: -0.00000\n",
      "Feature: 58, score: -0.00000\n",
      "Feature: 59, score: -0.00000\n",
      "Feature: 60, score: -0.00000\n",
      "Feature: 61, score: -0.00000\n",
      "Feature: 62, score: -0.00000\n",
      "Feature: 63, score: -0.00000\n",
      "Feature: 64, score: 0.00000\n",
      "Feature: 65, score: 0.00000\n",
      "Feature: 66, score: 0.00000\n",
      "Feature: 67, score: 0.00000\n",
      "Feature: 68, score: -0.00000\n",
      "Feature: 69, score: -0.00000\n",
      "Feature: 70, score: 0.00000\n",
      "Feature: 71, score: 0.00000\n",
      "Feature: 72, score: 0.00000\n",
      "Feature: 73, score: 0.00000\n",
      "Feature: 74, score: -0.00000\n",
      "Feature: 75, score: -0.00000\n",
      "Feature: 76, score: 0.00000\n",
      "Feature: 77, score: 0.00000\n",
      "Feature: 78, score: -0.00000\n",
      "Feature: 79, score: -0.00000\n",
      "Feature: 80, score: 0.00000\n",
      "Feature: 81, score: 0.00000\n",
      "Feature: 82, score: 0.00000\n",
      "Feature: 83, score: 0.00000\n",
      "Feature: 84, score: -0.00000\n",
      "Feature: 85, score: -0.00000\n",
      "Feature: 86, score: 0.00001\n",
      "Feature: 87, score: 0.00001\n",
      "Feature: 88, score: 0.00000\n",
      "Feature: 89, score: 0.00000\n",
      "Feature: 90, score: -0.00000\n",
      "Feature: 91, score: 0.00000\n",
      "Feature: 92, score: 0.00000\n",
      "Feature: 93, score: 0.00001\n",
      "Feature: 94, score: 0.00001\n",
      "Feature: 95, score: 0.00000\n",
      "Feature: 96, score: 0.00000\n",
      "Feature: 97, score: -0.00000\n",
      "Feature: 98, score: -0.00000\n",
      "Feature: 99, score: 0.00000\n",
      "Feature: 100, score: 0.00000\n",
      "Feature: 101, score: 0.00000\n",
      "Feature: 102, score: -0.00000\n",
      "Feature: 103, score: -0.00000\n",
      "Feature: 104, score: -0.00000\n",
      "Feature: 105, score: -0.00000\n",
      "Feature: 106, score: 0.00000\n",
      "Feature: 107, score: 0.00000\n",
      "Feature: 108, score: 0.00000\n",
      "Feature: 109, score: 0.00000\n",
      "Feature: 110, score: -0.00000\n",
      "Feature: 111, score: 0.00000\n",
      "Feature: 112, score: 0.00000\n",
      "Feature: 113, score: 0.00000\n",
      "Feature: 114, score: -0.00000\n",
      "Feature: 115, score: -0.00000\n",
      "Feature: 116, score: -0.00000\n",
      "Feature: 117, score: -0.00000\n",
      "Feature: 118, score: -0.00000\n",
      "Feature: 119, score: -0.00000\n",
      "Feature: 120, score: 0.00000\n",
      "Feature: 121, score: 0.00000\n",
      "Feature: 122, score: 0.00000\n",
      "Feature: 123, score: 0.00000\n",
      "Feature: 124, score: -0.00000\n",
      "Feature: 125, score: -0.00000\n",
      "Feature: 126, score: 0.00000\n",
      "Feature: 127, score: 0.00000\n",
      "Feature: 128, score: 0.00000\n",
      "Feature: 129, score: 0.00000\n",
      "Feature: 130, score: 0.00000\n",
      "Feature: 131, score: -0.00000\n",
      "Feature: 132, score: 0.00000\n",
      "Feature: 133, score: 0.00000\n",
      "Feature: 134, score: 0.00000\n",
      "Feature: 135, score: 0.00001\n",
      "Feature: 136, score: 0.00001\n",
      "Feature: 137, score: -0.00000\n",
      "Feature: 138, score: 0.00000\n",
      "Feature: 139, score: -0.00000\n",
      "Feature: 140, score: -0.00000\n",
      "Feature: 141, score: 0.00000\n",
      "Feature: 142, score: 0.00000\n",
      "Feature: 143, score: 0.00000\n",
      "Feature: 144, score: 0.00000\n",
      "Feature: 145, score: 0.00001\n",
      "Feature: 146, score: 0.00001\n",
      "Feature: 147, score: 0.00000\n",
      "Feature: 148, score: -0.00000\n",
      "Feature: 149, score: 0.00000\n",
      "Feature: 150, score: 0.00000\n",
      "Feature: 151, score: 0.00000\n",
      "Feature: 152, score: 0.00000\n",
      "Feature: 153, score: 0.00000\n",
      "Feature: 154, score: 0.00000\n",
      "Feature: 155, score: 0.00000\n",
      "Feature: 156, score: -0.00000\n",
      "Feature: 157, score: -0.00000\n",
      "Feature: 158, score: -0.00000\n",
      "Feature: 159, score: -0.00000\n",
      "Feature: 160, score: -0.00000\n",
      "Feature: 161, score: -0.00000\n",
      "Feature: 162, score: -0.00000\n",
      "Feature: 163, score: -0.00000\n",
      "Feature: 164, score: -0.00000\n",
      "Feature: 165, score: -0.00000\n",
      "Feature: 166, score: -0.00000\n",
      "Feature: 167, score: -0.00000\n",
      "Feature: 168, score: -0.00000\n",
      "Feature: 169, score: -0.00000\n",
      "Feature: 170, score: -0.00000\n",
      "Feature: 171, score: -0.00000\n",
      "Feature: 172, score: 0.00000\n",
      "Feature: 173, score: 0.00000\n",
      "Feature: 174, score: 0.00000\n",
      "Feature: 175, score: -0.00022\n",
      "Feature: 176, score: -0.00002\n",
      "Feature: 177, score: 0.00009\n",
      "Feature: 178, score: 0.00006\n",
      "Feature: 179, score: 0.00004\n",
      "Feature: 180, score: 0.00023\n",
      "Feature: 181, score: -0.00007\n",
      "Feature: 182, score: -0.00004\n",
      "Feature: 183, score: -0.00001\n",
      "Feature: 184, score: -0.00017\n",
      "Feature: 185, score: 0.00001\n",
      "Feature: 186, score: -0.00009\n",
      "Feature: 187, score: 0.00000\n",
      "Feature: 188, score: 0.00000\n",
      "Feature: 189, score: 0.00000\n",
      "Feature: 190, score: 0.00000\n",
      "Feature: 191, score: 0.00000\n",
      "Feature: 192, score: 0.00000\n",
      "Feature: 193, score: 0.00000\n",
      "Feature: 194, score: 0.00000\n",
      "Feature: 195, score: 0.00000\n",
      "Feature: 196, score: 0.00000\n",
      "Feature: 197, score: 0.00000\n",
      "Feature: 198, score: 0.00000\n",
      "Feature: 199, score: -0.00001\n",
      "Feature: 200, score: 0.00000\n",
      "Feature: 201, score: 0.00000\n",
      "Feature: 202, score: 0.00000\n",
      "Feature: 203, score: 0.00000\n",
      "Feature: 204, score: 0.00000\n",
      "Feature: 205, score: 0.00000\n",
      "Feature: 206, score: 0.00000\n",
      "Feature: 207, score: 0.00000\n",
      "Feature: 208, score: -0.00018\n",
      "Feature: 209, score: 0.00000\n",
      "Feature: 210, score: 0.00001\n",
      "Feature: 211, score: 0.00003\n",
      "Feature: 212, score: 0.00002\n",
      "Feature: 213, score: -0.00022\n",
      "Feature: 214, score: -0.00022\n",
      "Feature: 215, score: -0.00001\n",
      "Feature: 216, score: 0.00001\n",
      "Feature: 217, score: 0.00001\n",
      "Feature: 218, score: 0.00000\n",
      "Feature: 219, score: 0.00001\n",
      "Feature: 220, score: 0.00002\n",
      "Feature: 221, score: 0.00000\n",
      "Feature: 222, score: 0.00000\n",
      "Feature: 223, score: 0.00000\n",
      "Feature: 224, score: 0.00000\n",
      "Feature: 225, score: 0.00001\n",
      "Feature: 226, score: 0.00001\n",
      "Feature: 227, score: 0.00002\n",
      "Feature: 228, score: 0.00001\n",
      "Feature: 229, score: 0.00001\n",
      "Feature: 230, score: 0.00000\n",
      "Feature: 231, score: 0.00001\n",
      "Feature: 232, score: 0.00000\n",
      "Feature: 233, score: 0.00000\n",
      "Feature: 234, score: 0.00000\n",
      "Feature: 235, score: 0.00001\n",
      "Feature: 236, score: 0.00001\n",
      "Feature: 237, score: 0.00001\n",
      "Feature: 238, score: 0.00001\n",
      "Feature: 239, score: 0.00001\n",
      "Feature: 240, score: 0.00000\n",
      "Feature: 241, score: 0.00000\n",
      "Feature: 242, score: 0.00000\n",
      "Feature: 243, score: 0.00000\n",
      "Feature: 244, score: 0.00000\n",
      "Feature: 245, score: 0.00000\n",
      "Feature: 246, score: 0.00000\n",
      "Feature: 247, score: 0.00001\n",
      "Feature: 248, score: 0.00001\n",
      "Feature: 249, score: 0.00001\n",
      "Feature: 250, score: 0.00001\n",
      "Feature: 251, score: 0.00012\n",
      "Feature: 252, score: -0.00006\n",
      "Feature: 253, score: 0.00001\n",
      "Feature: 254, score: -0.00008\n",
      "Feature: 255, score: -0.00003\n",
      "Feature: 256, score: -0.00030\n",
      "Feature: 257, score: 0.00001\n",
      "Feature: 258, score: -0.00001\n",
      "Feature: 259, score: 0.00003\n",
      "Feature: 260, score: 0.00020\n",
      "Feature: 261, score: 0.00013\n",
      "Feature: 262, score: 0.00025\n",
      "Feature: 263, score: 0.00001\n",
      "Feature: 264, score: 0.00017\n",
      "Feature: 265, score: 0.00007\n",
      "Feature: 266, score: 0.00002\n",
      "Feature: 267, score: 0.00002\n",
      "Feature: 268, score: 0.00002\n",
      "Feature: 269, score: 0.00000\n",
      "Feature: 270, score: 0.00001\n",
      "Feature: 271, score: 0.00002\n",
      "Feature: 272, score: 0.00000\n",
      "Feature: 273, score: 0.00000\n",
      "Feature: 274, score: 0.00000\n",
      "Feature: 275, score: 0.00000\n",
      "Feature: 276, score: 0.00000\n",
      "Feature: 277, score: 0.00001\n",
      "Feature: 278, score: 0.00002\n",
      "Feature: 279, score: 0.00002\n",
      "Feature: 280, score: 0.00001\n",
      "Feature: 281, score: 0.00002\n",
      "Feature: 282, score: 0.00002\n",
      "Feature: 283, score: 0.00000\n",
      "Feature: 284, score: 0.00000\n",
      "Feature: 285, score: 0.00001\n",
      "Feature: 286, score: 0.00001\n",
      "Feature: 287, score: 0.00000\n",
      "Feature: 288, score: 0.00000\n",
      "Feature: 289, score: 0.00000\n",
      "Feature: 290, score: 0.00000\n",
      "Feature: 291, score: 0.00001\n",
      "Feature: 292, score: 0.00001\n",
      "Feature: 293, score: 0.00001\n",
      "Feature: 294, score: 0.00001\n",
      "Feature: 295, score: 0.00001\n",
      "Feature: 296, score: 0.00000\n",
      "Feature: 297, score: 0.00000\n",
      "Feature: 298, score: 0.00000\n",
      "Feature: 299, score: 0.00000\n",
      "Feature: 300, score: 0.00000\n",
      "Feature: 301, score: 0.00000\n",
      "Feature: 302, score: 0.00000\n",
      "Feature: 303, score: 0.00000\n",
      "Feature: 304, score: 0.00000\n",
      "Feature: 305, score: 0.00000\n",
      "Feature: 306, score: 0.00002\n",
      "Feature: 307, score: 0.00002\n",
      "Feature: 308, score: 0.00001\n",
      "Feature: 309, score: 0.00000\n",
      "Feature: 310, score: 0.00001\n",
      "Feature: 311, score: 0.00001\n",
      "Feature: 312, score: 0.00026\n",
      "Feature: 313, score: -0.00010\n",
      "Feature: 314, score: 0.00014\n",
      "Feature: 315, score: -0.00006\n",
      "Feature: 316, score: -0.00030\n",
      "Feature: 317, score: -0.00015\n",
      "Feature: 318, score: -0.00006\n",
      "Feature: 319, score: 0.00001\n",
      "Feature: 320, score: 0.00004\n",
      "Feature: 321, score: 0.00003\n",
      "Feature: 322, score: 0.00033\n",
      "Feature: 323, score: 0.00023\n",
      "Feature: 324, score: 0.00029\n",
      "Feature: 325, score: 0.00002\n",
      "Feature: 326, score: 0.00004\n",
      "Feature: 327, score: 0.00003\n",
      "Feature: 328, score: 0.00000\n",
      "Feature: 329, score: 0.00000\n",
      "Feature: 330, score: 0.00000\n",
      "Feature: 331, score: 0.00000\n",
      "Feature: 332, score: 0.00001\n",
      "Feature: 333, score: 0.00000\n",
      "Feature: 334, score: -0.00000\n",
      "Feature: 335, score: -0.00000\n",
      "Feature: 336, score: 0.00000\n",
      "Feature: 337, score: 0.00000\n",
      "Feature: 338, score: 0.00000\n",
      "Feature: 339, score: -0.00000\n",
      "Feature: 340, score: -0.00001\n",
      "Feature: 341, score: -0.00000\n",
      "Feature: 342, score: 0.00000\n",
      "Feature: 343, score: -0.00000\n",
      "Feature: 344, score: 0.00000\n",
      "Feature: 345, score: 0.00000\n",
      "Feature: 346, score: 0.00000\n",
      "Feature: 347, score: 0.00000\n",
      "Feature: 348, score: 0.00000\n",
      "Feature: 349, score: 0.00000\n",
      "Feature: 350, score: 0.00000\n",
      "Feature: 351, score: 0.00000\n",
      "Feature: 352, score: 0.00000\n",
      "Feature: 353, score: 0.00000\n",
      "Feature: 354, score: -0.00000\n",
      "Feature: 355, score: -0.00020\n",
      "Feature: 356, score: 0.00009\n",
      "Feature: 357, score: 0.00031\n",
      "Feature: 358, score: 0.00013\n",
      "Feature: 359, score: 0.00021\n",
      "Feature: 360, score: -0.00003\n",
      "Feature: 361, score: 0.00037\n",
      "Feature: 362, score: 0.00021\n",
      "Feature: 363, score: 0.00034\n",
      "Feature: 364, score: 0.00031\n",
      "Feature: 365, score: -0.00008\n",
      "Feature: 366, score: -0.00018\n",
      "Feature: 367, score: 0.00007\n",
      "Feature: 368, score: -0.00021\n",
      "Feature: 369, score: 0.00011\n",
      "Feature: 370, score: -0.00009\n",
      "Feature: 371, score: 0.00000\n",
      "Feature: 372, score: 0.00000\n",
      "Feature: 373, score: 0.00000\n",
      "Feature: 374, score: 0.00000\n",
      "Feature: 375, score: 0.00000\n",
      "Feature: 376, score: 0.00000\n",
      "Feature: 377, score: 0.00000\n",
      "Feature: 378, score: 0.00000\n",
      "Feature: 379, score: 0.00000\n",
      "Feature: 380, score: -0.00042\n",
      "Feature: 381, score: -0.00033\n",
      "Feature: 382, score: -0.00037\n",
      "Feature: 383, score: -0.00002\n",
      "Feature: 384, score: 0.00004\n",
      "Feature: 385, score: 0.00001\n",
      "Feature: 386, score: -0.00011\n",
      "Feature: 387, score: -0.00008\n",
      "Feature: 388, score: -0.00009\n",
      "Feature: 389, score: -0.00005\n",
      "Feature: 390, score: 0.00000\n",
      "Feature: 391, score: 0.00000\n",
      "Feature: 392, score: 0.00000\n",
      "Feature: 393, score: 0.00001\n",
      "Feature: 394, score: -0.00001\n",
      "Feature: 395, score: 0.00000\n",
      "Feature: 396, score: -0.00000\n",
      "Feature: 397, score: 0.00000\n",
      "Feature: 398, score: 0.00000\n",
      "Feature: 399, score: 0.00008\n",
      "Feature: 400, score: -0.00001\n",
      "Feature: 401, score: 0.00006\n",
      "Feature: 402, score: 0.00030\n",
      "Feature: 403, score: -0.00001\n",
      "Feature: 404, score: -0.00001\n",
      "Feature: 405, score: 0.00020\n",
      "Feature: 406, score: 0.00001\n",
      "Feature: 407, score: 0.00014\n",
      "Feature: 408, score: 0.00045\n",
      "Feature: 409, score: 0.00005\n",
      "Feature: 410, score: 0.00000\n",
      "Feature: 411, score: -0.00001\n",
      "Feature: 412, score: 0.00000\n",
      "Feature: 413, score: 0.00004\n",
      "Feature: 414, score: 0.00002\n",
      "Feature: 415, score: -0.00000\n",
      "Feature: 416, score: -0.00001\n",
      "Feature: 417, score: -0.00001\n",
      "Feature: 418, score: -0.00011\n",
      "Feature: 419, score: -0.00022\n",
      "Feature: 420, score: -0.00001\n",
      "Feature: 421, score: -0.00041\n",
      "Feature: 422, score: -0.00001\n",
      "Feature: 423, score: -0.00001\n",
      "Feature: 424, score: -0.00001\n",
      "Feature: 425, score: -0.00149\n",
      "Feature: 426, score: -0.00000\n",
      "Feature: 427, score: -0.00000\n",
      "Feature: 428, score: 0.00000\n",
      "Feature: 429, score: -0.00000\n",
      "Feature: 430, score: -0.00000\n",
      "Feature: 431, score: 0.00000\n",
      "Feature: 432, score: -0.00000\n",
      "Feature: 433, score: -0.00000\n",
      "Feature: 434, score: 0.00000\n",
      "Feature: 435, score: 0.00000\n",
      "Feature: 436, score: -0.00000\n",
      "Feature: 437, score: 0.00000\n",
      "Feature: 438, score: 0.00000\n",
      "Feature: 439, score: -0.00000\n",
      "Feature: 440, score: 0.00000\n",
      "Feature: 441, score: -0.00000\n",
      "Feature: 442, score: -0.00000\n",
      "Feature: 443, score: 0.00000\n",
      "Feature: 444, score: -0.00000\n",
      "Feature: 445, score: -0.00000\n",
      "Feature: 446, score: -0.00000\n",
      "Feature: 447, score: 0.00000\n",
      "Feature: 448, score: -0.00000\n",
      "Feature: 449, score: -0.00000\n",
      "Feature: 450, score: -0.00000\n",
      "Feature: 451, score: -0.00000\n",
      "Feature: 452, score: -0.00000\n",
      "Feature: 453, score: -0.00000\n",
      "Feature: 454, score: -0.00000\n",
      "Feature: 455, score: -0.00000\n",
      "Feature: 456, score: -0.00000\n",
      "Feature: 457, score: -0.00000\n",
      "Feature: 458, score: -0.00000\n",
      "Feature: 459, score: 0.00000\n",
      "Feature: 460, score: -0.00000\n",
      "Feature: 461, score: 0.00000\n",
      "Feature: 462, score: -0.00000\n",
      "Feature: 463, score: 0.00000\n",
      "Feature: 464, score: -0.00000\n",
      "Feature: 465, score: -0.00000\n",
      "Feature: 466, score: -0.00000\n",
      "Feature: 467, score: -0.00000\n",
      "Feature: 468, score: -0.00000\n",
      "Feature: 469, score: -0.00000\n",
      "Feature: 470, score: -0.00000\n",
      "Feature: 471, score: -0.00000\n",
      "Feature: 472, score: -0.00000\n",
      "Feature: 473, score: -0.00000\n",
      "Feature: 474, score: -0.00000\n",
      "Feature: 475, score: -0.00000\n",
      "Feature: 476, score: 0.00000\n",
      "Feature: 477, score: -0.00000\n",
      "Feature: 478, score: -0.00000\n",
      "Feature: 479, score: -0.00000\n",
      "Feature: 480, score: -0.00000\n",
      "Feature: 481, score: -0.00000\n",
      "Feature: 482, score: -0.00000\n",
      "Feature: 483, score: 0.00000\n",
      "Feature: 484, score: 0.00000\n",
      "Feature: 485, score: -0.00000\n",
      "Feature: 486, score: 0.00000\n",
      "Feature: 487, score: -0.00000\n",
      "Feature: 488, score: -0.00000\n",
      "Feature: 489, score: -0.00000\n",
      "Feature: 490, score: -0.00000\n",
      "Feature: 491, score: -0.00000\n",
      "Feature: 492, score: -0.00000\n",
      "Feature: 493, score: -0.00000\n",
      "Feature: 494, score: 0.00000\n",
      "Feature: 495, score: -0.00000\n",
      "Feature: 496, score: -0.00000\n",
      "Feature: 497, score: -0.00000\n",
      "Feature: 498, score: -0.00000\n",
      "Feature: 499, score: -0.00000\n",
      "Feature: 500, score: -0.00000\n",
      "Feature: 501, score: -0.00000\n",
      "Feature: 502, score: -0.00000\n",
      "Feature: 503, score: -0.00000\n",
      "Feature: 504, score: -0.00000\n",
      "Feature: 505, score: -0.00000\n",
      "Feature: 506, score: -0.00000\n"
     ]
    }
   ],
   "source": [
    "for i,v in enumerate(importance):\n",
    "    print('Feature: %0d, score: %.5f' %(i,v))\n"
   ]
  },
  {
   "cell_type": "code",
   "execution_count": 76,
   "id": "679a7aa5",
   "metadata": {},
   "outputs": [],
   "source": [
    "prom = train.mean().values"
   ]
  },
  {
   "cell_type": "code",
   "execution_count": 77,
   "id": "919b59c7",
   "metadata": {},
   "outputs": [],
   "source": [
    "imporEscalado = abs(importance/prom)"
   ]
  },
  {
   "cell_type": "code",
   "execution_count": 78,
   "id": "8c76cf9b",
   "metadata": {},
   "outputs": [],
   "source": [
    "ordenada = np.argsort(imporEscalado)[::-1]"
   ]
  },
  {
   "cell_type": "code",
   "execution_count": 79,
   "id": "3173484c",
   "metadata": {},
   "outputs": [
    {
     "data": {
      "text/plain": [
       "array([212, 211,  52, 486, 123,  56, 210,  83,  81,  67, 318,  66,  80,\n",
       "        98, 130,  55,  82,  51, 121, 122, 142, 476,  58, 414,  71,  65,\n",
       "       109, 129,  64, 141, 107,  57,  97,  70, 128, 134, 464, 447, 120,\n",
       "       113, 220, 322, 493, 278, 267, 143, 317, 316, 383, 106,  50, 497,\n",
       "       406, 315, 307, 271, 255, 380, 279, 236, 219, 108, 268, 306, 133,\n",
       "       499, 250, 467, 217, 503, 150, 281, 248, 469, 227, 465, 270, 324,\n",
       "       382, 249, 277, 225, 295, 330, 282, 266, 386, 112, 320, 502, 101,\n",
       "       239,  89,  38, 473, 308,  14, 426, 409, 260, 413, 321, 152, 228,\n",
       "       216, 280,  94,  23, 292, 254, 381, 388, 474, 500, 455, 293, 100,\n",
       "        32, 238, 393, 144,  88,  39, 291, 475,  93, 485, 495, 226, 256,\n",
       "       235,  19, 237, 323, 118,  18, 387, 312,  92, 119, 139, 477, 259,\n",
       "       140, 442, 294, 480,  87, 453, 483, 389,  78, 368, 384, 488, 460,\n",
       "        79, 310, 487, 491, 151, 484, 262, 496,  13, 498, 431,  91, 345,\n",
       "       437, 184, 146, 490,  33, 439, 364, 358,  21, 454, 350,  99,  86,\n",
       "       481,  15, 347, 450, 311, 428, 342, 241, 283, 482, 504, 155, 458,\n",
       "       147,  37,  53, 348, 247, 193, 362, 361, 154, 429, 297, 448, 301,\n",
       "       246, 245, 242, 427, 462, 303, 244, 298,  12, 489,  54, 296, 240,\n",
       "       328, 332, 492, 243, 309, 333, 305, 264, 457,  30, 363,  28, 302,\n",
       "       136,  16, 229, 180, 265, 231, 304, 285, 300, 468, 349, 478, 338,\n",
       "       385,  20, 360, 135, 286, 299, 288, 178,  27, 289, 290, 234, 153,\n",
       "       232, 443, 269, 284, 352, 314,  60,  22, 233, 287,  84, 230,  26,\n",
       "        34, 402, 251,  59, 401, 127, 410, 257, 319, 329,  36, 434, 218,\n",
       "       200,  44, 397, 353, 175, 186, 276, 213, 149, 337, 344,  24,  10,\n",
       "        35,  40, 326, 449, 336, 346, 391, 432, 224, 370, 189, 472, 408,\n",
       "        29, 506, 340, 405, 440, 223, 351, 445, 417, 394, 192, 416, 126,\n",
       "       274, 275, 466, 501, 369,   8, 412, 398, 420, 441, 145, 355, 196,\n",
       "       325, 372, 327, 181, 272, 422, 471, 404, 436, 433, 403,   7, 207,\n",
       "       273, 505,  96, 331, 222,   6, 392, 221, 395, 102, 365, 205, 198,\n",
       "        25, 424, 456, 195, 313, 451, 399, 261, 114, 423, 357,  76,  77,\n",
       "        45, 400, 206, 375, 188,  85, 373, 204, 444, 419, 197,  11, 138,\n",
       "         5, 396, 341, 124, 115, 103, 104,  31, 415, 203, 376, 411, 201,\n",
       "       354, 156, 335, 421, 191,   3, 169, 171, 170,  61, 202, 167, 166,\n",
       "       378, 168, 371, 461, 379, 479, 258, 190, 137,  49, 366, 359, 377,\n",
       "       263,  63, 374, 430,  95, 418, 446,  43,   4, 187,  42, 407, 339,\n",
       "        48,  74, 125,  41, 157,  17, 159, 158, 160, 162, 367, 116, 161,\n",
       "       163, 452, 110,  73, 463, 165,  75,  72, 164,  62,  47, 105, 177,\n",
       "       132, 494, 334, 148, 194, 470, 425, 214,  90,  68, 343, 182, 438,\n",
       "        46, 252, 179, 185, 435,   1, 356, 183, 208, 117,   9, 131, 199,\n",
       "       215, 111, 174, 253,  69, 176, 172, 173, 459,   2, 209, 390,   0],\n",
       "      dtype=int64)"
      ]
     },
     "execution_count": 79,
     "metadata": {},
     "output_type": "execute_result"
    }
   ],
   "source": [
    "ordenada"
   ]
  },
  {
   "cell_type": "code",
   "execution_count": 80,
   "id": "1be53215",
   "metadata": {},
   "outputs": [],
   "source": [
    "top_10 = imporEscalado[ordenada][:10]"
   ]
  },
  {
   "cell_type": "code",
   "execution_count": 81,
   "id": "7bef7813",
   "metadata": {},
   "outputs": [
    {
     "data": {
      "text/plain": [
       "array([8.56477199e-03, 2.65268198e-04, 1.93272457e-04, 1.79664502e-04,\n",
       "       1.77774552e-04, 1.76305507e-04, 1.66980085e-04, 1.04225774e-04,\n",
       "       1.01044192e-04, 9.96859717e-05])"
      ]
     },
     "execution_count": 81,
     "metadata": {},
     "output_type": "execute_result"
    }
   ],
   "source": [
    "top_10"
   ]
  },
  {
   "cell_type": "code",
   "execution_count": 82,
   "id": "7187f39b",
   "metadata": {},
   "outputs": [],
   "source": [
    "cols =  train.columns[ordenada[:10]]"
   ]
  },
  {
   "cell_type": "code",
   "execution_count": 83,
   "id": "7d199602",
   "metadata": {},
   "outputs": [
    {
     "data": {
      "text/plain": [
       "Index(['V163', 'V162', 'V3', 'P_emaildomain_39', 'V74', 'V7', 'V161', 'V34',\n",
       "       'V32', 'V18'],\n",
       "      dtype='object')"
      ]
     },
     "execution_count": 83,
     "metadata": {},
     "output_type": "execute_result"
    }
   ],
   "source": [
    "cols"
   ]
  },
  {
   "cell_type": "code",
   "execution_count": 84,
   "id": "df8f0d25",
   "metadata": {},
   "outputs": [],
   "source": [
    "import seaborn as sns"
   ]
  },
  {
   "cell_type": "code",
   "execution_count": 85,
   "id": "5b881d5b",
   "metadata": {},
   "outputs": [],
   "source": [
    "df = pd.DataFrame({'features':cols,'values': top_10}) "
   ]
  },
  {
   "cell_type": "code",
   "execution_count": 89,
   "id": "7b868f7f",
   "metadata": {},
   "outputs": [
    {
     "data": {
      "text/plain": [
       "Text(0.5, 0, 'Features')"
      ]
     },
     "execution_count": 89,
     "metadata": {},
     "output_type": "execute_result"
    },
    {
     "data": {
      "image/png": "[encoded data removed]",
      "text/plain": [
       "<Figure size 1920x720 with 1 Axes>"
      ]
     },
     "metadata": {},
     "output_type": "display_data"
    }
   ],
   "source": [
    "sns.set(rc={\"figure.dpi\":150})\n",
    "sns.set(rc = {'figure.figsize':(12.8,4.8)})\n",
    "ax = sns.barplot(x=\"features\", y=\"values\", data=df, palette =\"YlOrBr\")\n",
    "ax.set_title('Most important features',size =12)\n",
    "ax.set_ylabel('Values', fontsize = 10)\n",
    "ax.set_xlabel('Features', fontsize = 10)"
   ]
  },
  {
   "cell_type": "markdown",
   "id": "a7be50f3",
   "metadata": {},
   "source": [
    "### Respuestas"
   ]
  },
  {
   "cell_type": "markdown",
   "id": "516f2b8a",
   "metadata": {},
   "source": [
    "1● ¿Cuál es el mejor score de validación obtenido? (¿Cómo conviene obtener el\n",
    "dataset para validar?)\n",
    "\n",
    "2● Al predecir con este modelo para la competencia, ¿Cúal es el score obtenido? (guardar el csv con predicciones para entregarlo después)\n",
    "\n",
    "3● ¿Qué features son los más importantes para predecir con el mejor modelo? Grafica"
   ]
  },
  {
   "cell_type": "markdown",
   "id": "48be7332",
   "metadata": {},
   "source": [
    "1●  El mejor Score de validacion obtenido es ***0.7488***, obtenido con el modelo Search, es decir, con los hiperparametros buscados con el RandomizedSearch de Sklearn.\n",
    "El dataset para validar lo obtuve estableciendo una fecha limite, la cual fechas anteriores tome como el train, y fechas siguientes a este limite, lo tomo como validation. De esta forma, estaria validando con datos a futuro incierto, lo que le da mayor validez a mi modelo."
   ]
  },
  {
   "cell_type": "markdown",
   "id": "38ce425d",
   "metadata": {},
   "source": [
    "2● El score obtenido para la competencia fue 0.7822.\n",
    "<img src = 'score-Kaggle-punto-2.png' alt = \"title\">"
   ]
  },
  {
   "cell_type": "markdown",
   "id": "e56305ba",
   "metadata": {},
   "source": [
    "3● El plot se visualiza anteriormente, y los features mas importantes para predecir con el mejor modelo, resultaron: ['V163', 'V162', 'V3', 'P_emaildomain_39', 'V74', 'V7', 'V161', 'V34', 'V32', 'V18']"
   ]
  },
  {
   "cell_type": "code",
   "execution_count": null,
   "id": "22ded46d",
   "metadata": {},
   "outputs": [],
   "source": []
  }
 ],
 "metadata": {
  "kernelspec": {
   "display_name": "Python 3",
   "language": "python",
   "name": "python3"
  },
  "language_info": {
   "codemirror_mode": {
    "name": "ipython",
    "version": 3
   },
   "file_extension": ".py",
   "mimetype": "text/x-python",
   "name": "python",
   "nbconvert_exporter": "python",
   "pygments_lexer": "ipython3",
   "version": "3.8.8"
  }
 },
 "nbformat": 4,
 "nbformat_minor": 5
}
