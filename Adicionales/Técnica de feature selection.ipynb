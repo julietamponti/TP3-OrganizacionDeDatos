{
 "cells": [
  {
   "cell_type": "code",
   "execution_count": 1,
   "id": "02580e12",
   "metadata": {},
   "outputs": [],
   "source": [
    "import warnings \n",
    "warnings.filterwarnings('ignore')\n",
    "from sklearn.datasets import load_iris\n",
    "import numpy as np\n",
    "import math\n",
    "from tqdm import tqdm\n",
    "from __future__ import print_function\n",
    "from ipywidgets import interact, interactive, fixed, interact_manual\n",
    "import ipywidgets as widgets\n",
    "import pandas as pd\n",
    "from sklearn.preprocessing import (\n",
    "    LabelEncoder,\n",
    "    OneHotEncoder,\n",
    "    OrdinalEncoder,\n",
    ")\n",
    "from sklearn.linear_model import LogisticRegression\n",
    "from sklearn.metrics import classification_report, accuracy_score, roc_auc_score, ConfusionMatrixDisplay, confusion_matrix\n",
    "import xgboost as xgb\n",
    "import category_encoders.utils as util\n",
    "from category_encoders import TargetEncoder\n",
    "from sklearn.feature_extraction.text import CountVectorizer"
   ]
  },
  {
   "cell_type": "markdown",
   "id": "290d30a9",
   "metadata": {},
   "source": [
    "Lectura de archivos"
   ]
  },
  {
   "cell_type": "code",
   "execution_count": 2,
   "id": "f9bc1a70",
   "metadata": {},
   "outputs": [],
   "source": [
    "iden = pd.read_csv('train_identity.csv')"
   ]
  },
  {
   "cell_type": "code",
   "execution_count": 3,
   "id": "ce74771e",
   "metadata": {},
   "outputs": [],
   "source": [
    "trans = pd.read_csv('train_transaction.csv')"
   ]
  },
  {
   "cell_type": "markdown",
   "id": "f70f52e8",
   "metadata": {},
   "source": [
    "Merge de df"
   ]
  },
  {
   "cell_type": "code",
   "execution_count": 4,
   "id": "734d88cd",
   "metadata": {},
   "outputs": [],
   "source": [
    "joined = trans.merge(iden,how='left')"
   ]
  },
  {
   "cell_type": "code",
   "execution_count": 5,
   "id": "475b0f72",
   "metadata": {},
   "outputs": [],
   "source": [
    "del(joined['TransactionID'])"
   ]
  },
  {
   "cell_type": "markdown",
   "id": "100f5f4c",
   "metadata": {},
   "source": [
    "Libero RAM"
   ]
  },
  {
   "cell_type": "code",
   "execution_count": 6,
   "id": "a20c193c",
   "metadata": {},
   "outputs": [],
   "source": [
    "del iden"
   ]
  },
  {
   "cell_type": "code",
   "execution_count": 7,
   "id": "0faa90ff",
   "metadata": {},
   "outputs": [],
   "source": [
    "del trans"
   ]
  },
  {
   "cell_type": "markdown",
   "id": "f31f8fa9",
   "metadata": {},
   "source": [
    "Busco el valor limite entre train y validation para hacer el split"
   ]
  },
  {
   "cell_type": "code",
   "execution_count": 8,
   "id": "3f2e64d4",
   "metadata": {},
   "outputs": [],
   "source": [
    "limite = np.percentile(joined['TransactionDT'], 80)"
   ]
  },
  {
   "cell_type": "markdown",
   "id": "f385b28a",
   "metadata": {},
   "source": [
    "Genero el DF de Validation"
   ]
  },
  {
   "cell_type": "code",
   "execution_count": 9,
   "id": "f65e7649",
   "metadata": {},
   "outputs": [],
   "source": [
    "filtro_validation = joined['TransactionDT'] > limite"
   ]
  },
  {
   "cell_type": "code",
   "execution_count": 10,
   "id": "b1021342",
   "metadata": {},
   "outputs": [],
   "source": [
    "validation = joined[filtro_validation]"
   ]
  },
  {
   "cell_type": "code",
   "execution_count": 11,
   "id": "cb07c875",
   "metadata": {},
   "outputs": [],
   "source": [
    "label_validation = validation[['isFraud']]"
   ]
  },
  {
   "cell_type": "code",
   "execution_count": 12,
   "id": "a87eff5c",
   "metadata": {},
   "outputs": [],
   "source": [
    "del(validation['isFraud'])"
   ]
  },
  {
   "cell_type": "markdown",
   "id": "6de1ce2b",
   "metadata": {},
   "source": [
    "Genero el DF de train"
   ]
  },
  {
   "cell_type": "code",
   "execution_count": 13,
   "id": "40fed0b1",
   "metadata": {},
   "outputs": [],
   "source": [
    "filtro_train = joined['TransactionDT']<= limite"
   ]
  },
  {
   "cell_type": "code",
   "execution_count": 14,
   "id": "6c93160b",
   "metadata": {},
   "outputs": [],
   "source": [
    "train = joined[filtro_train]"
   ]
  },
  {
   "cell_type": "code",
   "execution_count": 15,
   "id": "22362bf6",
   "metadata": {},
   "outputs": [],
   "source": [
    "label_train = train[['isFraud']]"
   ]
  },
  {
   "cell_type": "code",
   "execution_count": 16,
   "id": "42766a29",
   "metadata": {},
   "outputs": [],
   "source": [
    "del(train['isFraud'])"
   ]
  },
  {
   "cell_type": "markdown",
   "id": "b505dc78",
   "metadata": {},
   "source": [
    "Libero RAM\n"
   ]
  },
  {
   "cell_type": "code",
   "execution_count": 17,
   "id": "34d7d068",
   "metadata": {},
   "outputs": [],
   "source": [
    "del joined"
   ]
  },
  {
   "cell_type": "markdown",
   "id": "5dfc5318",
   "metadata": {},
   "source": [
    "### Encodings"
   ]
  },
  {
   "cell_type": "markdown",
   "id": "f19a1dd8",
   "metadata": {},
   "source": [
    "Creo un diccionario para almancenar los encodings."
   ]
  },
  {
   "cell_type": "code",
   "execution_count": 18,
   "id": "d6adb560",
   "metadata": {},
   "outputs": [],
   "source": [
    "dict_encoding = {}"
   ]
  },
  {
   "cell_type": "markdown",
   "id": "5825785d",
   "metadata": {},
   "source": [
    "Creo funciones para aplicar los encodings."
   ]
  },
  {
   "cell_type": "code",
   "execution_count": 19,
   "id": "acbee62f",
   "metadata": {},
   "outputs": [],
   "source": [
    "def countVect(df,columna,dic):\n",
    "    if columna not in dic:\n",
    "        dic[columna] = CountVectorizer(max_features =10)\n",
    "        col_encoded = dic[columna].fit_transform(df[columna].fillna('desconocido')).astype(int).toarray()\n",
    "    else:\n",
    "        col_encoded = dic[columna].transform(df[columna].fillna('desconocido')).astype(int).toarray()\n",
    "    col_encoded = pd.DataFrame(col_encoded).add_prefix(columna+ '_enconded_').fillna(0)\n",
    "    del(df[columna])\n",
    "    df_nuevo = pd.concat([df.reset_index(drop=True),col_encoded], axis=1)\n",
    "    return df_nuevo"
   ]
  },
  {
   "cell_type": "code",
   "execution_count": 20,
   "id": "bd423b6a",
   "metadata": {},
   "outputs": [],
   "source": [
    "def one_hot_encode(df, columna, dict_encoding):\n",
    "    if columna not in dict_encoding:\n",
    "        dict_encoding[columna] = OneHotEncoder(handle_unknown='ignore')\n",
    "        dict_encoding[columna].fit_transform(df[[columna]].astype(str)).astype(int)\n",
    "    col_encoded = (dict_encoding[columna].transform(df[[columna]].astype(str)).astype(int))\n",
    "    col_encoded = pd.DataFrame(col_encoded.todense()).add_prefix(columna + '_').fillna(0)\n",
    "    del(df[columna])\n",
    "    df_nuevo = pd.concat([df.reset_index(drop=True), col_encoded], axis=1)\n",
    "    return df_nuevo"
   ]
  },
  {
   "cell_type": "code",
   "execution_count": 21,
   "id": "38bfefab",
   "metadata": {},
   "outputs": [],
   "source": [
    "def mean_encoding_train(df,columna,label, dict_encoding):\n",
    "    if columna not in dict_encoding:\n",
    "        dict_encoding[columna] = TargetEncoder(handle_unknown='ignore')\n",
    "    df[columna] = dict_encoding[columna].fit_transform(df[[columna]], label)\n",
    "    df[columna].fillna(0,inplace=True)\n",
    "    return df"
   ]
  },
  {
   "cell_type": "code",
   "execution_count": 22,
   "id": "4ce5d37b",
   "metadata": {},
   "outputs": [],
   "source": [
    "def mean_encoding_val_test(df,columna, dict_encoding):\n",
    "    df[columna] = dict_encoding[columna].transform(df[[columna]])\n",
    "    df[columna].fillna(0,inplace=True)\n",
    "    return df"
   ]
  },
  {
   "cell_type": "code",
   "execution_count": 23,
   "id": "60f6009e",
   "metadata": {},
   "outputs": [],
   "source": [
    "def label_ec(df):\n",
    "    for column in df.columns:\n",
    "        if df[column].dtypes==object:\n",
    "            dict_encoding[column] = OrdinalEncoder(handle_unknown='ignore')\n",
    "            df[column] = dict_encoding[column].fit_transform(df[column].astype(str).values.reshape(-1, 1))\n",
    "    if df[column].dtype==object:\n",
    "        df[column] = dict_encoding[column].transform(df[column].astype(str).values.reshape(-1, 1))\n",
    "    df.fillna(-1,inplace=True)\n",
    "    return(df)"
   ]
  },
  {
   "cell_type": "markdown",
   "id": "36cffb36",
   "metadata": {},
   "source": [
    "Defino los features que les aplicare los encodings: oneHot, mean o CountVectorizer"
   ]
  },
  {
   "cell_type": "code",
   "execution_count": 24,
   "id": "3a1cd56b",
   "metadata": {},
   "outputs": [],
   "source": [
    "countV = ['id_30','id_31','DeviceInfo']"
   ]
  },
  {
   "cell_type": "code",
   "execution_count": 25,
   "id": "24eed01c",
   "metadata": {},
   "outputs": [],
   "source": [
    "mean = ['addr2','DeviceType']"
   ]
  },
  {
   "cell_type": "code",
   "execution_count": 26,
   "id": "3f5ab43c",
   "metadata": {},
   "outputs": [],
   "source": [
    "oneHot = ['P_emaildomain','card4','ProductCD','id_38','id_35','id_34']"
   ]
  },
  {
   "cell_type": "markdown",
   "id": "4d1a7389",
   "metadata": {},
   "source": [
    "### Modelo"
   ]
  },
  {
   "cell_type": "code",
   "execution_count": 27,
   "id": "09311173",
   "metadata": {},
   "outputs": [],
   "source": [
    "xboost = xgb.XGBClassifier(random_state=0)"
   ]
  },
  {
   "cell_type": "code",
   "execution_count": 28,
   "id": "b8350428",
   "metadata": {},
   "outputs": [],
   "source": [
    "#xboost.get_xgb_params()"
   ]
  },
  {
   "cell_type": "markdown",
   "id": "a6560adc",
   "metadata": {},
   "source": [
    "### Train"
   ]
  },
  {
   "cell_type": "markdown",
   "id": "f5b321fa",
   "metadata": {},
   "source": [
    "Realizo los encodings."
   ]
  },
  {
   "cell_type": "code",
   "execution_count": 29,
   "id": "888a499c",
   "metadata": {},
   "outputs": [],
   "source": [
    "del(train['TransactionDT'])"
   ]
  },
  {
   "cell_type": "code",
   "execution_count": 30,
   "id": "4520b4b8",
   "metadata": {},
   "outputs": [],
   "source": [
    "del(train['TransactionAmt'])"
   ]
  },
  {
   "cell_type": "code",
   "execution_count": 31,
   "id": "bec2cf20",
   "metadata": {},
   "outputs": [],
   "source": [
    "for i in countV:\n",
    "    train=countVect(train,i,dict_encoding)"
   ]
  },
  {
   "cell_type": "code",
   "execution_count": 32,
   "id": "28bae9b9",
   "metadata": {},
   "outputs": [],
   "source": [
    "for i in oneHot:\n",
    "    train = one_hot_encode(train,i,dict_encoding)"
   ]
  },
  {
   "cell_type": "code",
   "execution_count": 33,
   "id": "6a611205",
   "metadata": {},
   "outputs": [],
   "source": [
    "for i in mean:\n",
    "    train = mean_encoding_train(train,i,label_train,dict_encoding)"
   ]
  },
  {
   "cell_type": "code",
   "execution_count": 34,
   "id": "25c2b90f",
   "metadata": {},
   "outputs": [],
   "source": [
    "train = label_ec(train)"
   ]
  },
  {
   "cell_type": "markdown",
   "id": "bfb2e62f",
   "metadata": {},
   "source": [
    "Aplico la tecnica de feature selection"
   ]
  },
  {
   "cell_type": "code",
   "execution_count": 35,
   "id": "aa58a5e6",
   "metadata": {},
   "outputs": [
    {
     "name": "stdout",
     "output_type": "stream",
     "text": [
      "[13:24:46] WARNING: C:/Users/Administrator/workspace/xgboost-win64_release_1.5.0/src/learner.cc:1115: Starting in XGBoost 1.3.0, the default evaluation metric used with the objective 'binary:logistic' was changed from 'error' to 'logloss'. Explicitly set eval_metric if you'd like to restore the old behavior.\n",
      "125 selected features\n"
     ]
    }
   ],
   "source": [
    "from sklearn.feature_selection import SelectFromModel\n",
    "\n",
    "embeded_lgb_selector = SelectFromModel(xboost, max_features=len(train.columns))\n",
    "embeded_lgb_selector.fit(train, label_train)\n",
    "\n",
    "embeded_lgb_support = embeded_lgb_selector.get_support()\n",
    "embeded_lgb_feature = train.loc[:,embeded_lgb_support].columns.tolist()\n",
    "print(str(len(embeded_lgb_feature)), 'selected features')"
   ]
  },
  {
   "cell_type": "markdown",
   "id": "ec2cf29d",
   "metadata": {},
   "source": [
    "Me quedo con los features seleccionados."
   ]
  },
  {
   "cell_type": "code",
   "execution_count": 36,
   "id": "65533193",
   "metadata": {},
   "outputs": [],
   "source": [
    "train = train [embeded_lgb_feature]"
   ]
  },
  {
   "cell_type": "markdown",
   "id": "d85b36a9",
   "metadata": {},
   "source": [
    "Entreno el modelo"
   ]
  },
  {
   "cell_type": "code",
   "execution_count": 37,
   "id": "62587ea0",
   "metadata": {},
   "outputs": [
    {
     "name": "stdout",
     "output_type": "stream",
     "text": [
      "[13:28:24] WARNING: C:/Users/Administrator/workspace/xgboost-win64_release_1.5.0/src/learner.cc:1115: Starting in XGBoost 1.3.0, the default evaluation metric used with the objective 'binary:logistic' was changed from 'error' to 'logloss'. Explicitly set eval_metric if you'd like to restore the old behavior.\n"
     ]
    },
    {
     "data": {
      "text/plain": [
       "XGBClassifier(base_score=0.5, booster='gbtree', colsample_bylevel=1,\n",
       "              colsample_bynode=1, colsample_bytree=1, enable_categorical=False,\n",
       "              gamma=0, gpu_id=-1, importance_type=None,\n",
       "              interaction_constraints='', learning_rate=0.300000012,\n",
       "              max_delta_step=0, max_depth=6, min_child_weight=1, missing=nan,\n",
       "              monotone_constraints='()', n_estimators=100, n_jobs=8,\n",
       "              num_parallel_tree=1, predictor='auto', random_state=0,\n",
       "              reg_alpha=0, reg_lambda=1, scale_pos_weight=1, subsample=1,\n",
       "              tree_method='exact', validate_parameters=1, verbosity=None)"
      ]
     },
     "execution_count": 37,
     "metadata": {},
     "output_type": "execute_result"
    }
   ],
   "source": [
    "xboost.fit(train,label_train)"
   ]
  },
  {
   "cell_type": "markdown",
   "id": "db17df48",
   "metadata": {},
   "source": [
    "### Validation\n"
   ]
  },
  {
   "cell_type": "markdown",
   "id": "ff54caf9",
   "metadata": {},
   "source": [
    "Realizo los encodings."
   ]
  },
  {
   "cell_type": "code",
   "execution_count": 38,
   "id": "5c1245cb",
   "metadata": {},
   "outputs": [],
   "source": [
    "for i in countV:\n",
    "    validation=countVect(validation,i,dict_encoding)"
   ]
  },
  {
   "cell_type": "code",
   "execution_count": 39,
   "id": "f8e11e01",
   "metadata": {},
   "outputs": [],
   "source": [
    "for i in oneHot:\n",
    "    validation = one_hot_encode(validation,i,dict_encoding)"
   ]
  },
  {
   "cell_type": "code",
   "execution_count": 40,
   "id": "328bf0d1",
   "metadata": {},
   "outputs": [],
   "source": [
    "for i in mean:\n",
    "    validation = mean_encoding_val_test(validation,i,dict_encoding)"
   ]
  },
  {
   "cell_type": "code",
   "execution_count": 41,
   "id": "998c2798",
   "metadata": {},
   "outputs": [],
   "source": [
    "validation = label_ec(validation)"
   ]
  },
  {
   "cell_type": "markdown",
   "id": "c0eef65e",
   "metadata": {},
   "source": [
    "Me quedo con los features seleccionados."
   ]
  },
  {
   "cell_type": "code",
   "execution_count": 42,
   "id": "584cc654",
   "metadata": {},
   "outputs": [],
   "source": [
    "validation = validation[embeded_lgb_feature]"
   ]
  },
  {
   "cell_type": "markdown",
   "id": "f80363ca",
   "metadata": {},
   "source": [
    "Se muestra el classification report."
   ]
  },
  {
   "cell_type": "code",
   "execution_count": 43,
   "id": "96a94313",
   "metadata": {},
   "outputs": [
    {
     "name": "stdout",
     "output_type": "stream",
     "text": [
      "              precision    recall  f1-score   support\n",
      "\n",
      "           0       0.98      0.99      0.99    114044\n",
      "           1       0.71      0.37      0.49      4064\n",
      "\n",
      "    accuracy                           0.97    118108\n",
      "   macro avg       0.84      0.68      0.74    118108\n",
      "weighted avg       0.97      0.97      0.97    118108\n",
      "\n"
     ]
    }
   ],
   "source": [
    "print(classification_report(label_validation, xboost.predict(validation)))"
   ]
  },
  {
   "cell_type": "markdown",
   "id": "e76ac4f1",
   "metadata": {},
   "source": [
    "Calculo el ***roc auc*** del validation."
   ]
  },
  {
   "cell_type": "code",
   "execution_count": 44,
   "id": "322e0fbe",
   "metadata": {},
   "outputs": [
    {
     "data": {
      "text/plain": [
       "0.8795445683935501"
      ]
     },
     "execution_count": 44,
     "metadata": {},
     "output_type": "execute_result"
    }
   ],
   "source": [
    "roc_auc_score(label_validation, xboost.predict_proba(validation)[:,1])"
   ]
  }
 ],
 "metadata": {
  "kernelspec": {
   "display_name": "Python 3",
   "language": "python",
   "name": "python3"
  },
  "language_info": {
   "codemirror_mode": {
    "name": "ipython",
    "version": 3
   },
   "file_extension": ".py",
   "mimetype": "text/x-python",
   "name": "python",
   "nbconvert_exporter": "python",
   "pygments_lexer": "ipython3",
   "version": "3.8.8"
  }
 },
 "nbformat": 4,
 "nbformat_minor": 5
}
