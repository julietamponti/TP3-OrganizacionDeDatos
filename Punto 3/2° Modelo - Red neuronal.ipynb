{
 "cells": [
  {
   "cell_type": "markdown",
   "id": "49cabcf2",
   "metadata": {},
   "source": [
    "# TP 3\n",
    "## Punto 3\n",
    "### Modelo 2"
   ]
  },
  {
   "cell_type": "markdown",
   "id": "e60bd682",
   "metadata": {},
   "source": [
    "##### Importo librerias que utilizare"
   ]
  },
  {
   "cell_type": "code",
   "execution_count": 1,
   "id": "500b00f0",
   "metadata": {},
   "outputs": [],
   "source": [
    "from sklearn.datasets import load_iris\n",
    "import numpy as np\n",
    "import math\n",
    "from tqdm import tqdm\n",
    "from __future__ import print_function\n",
    "from ipywidgets import interact, interactive, fixed, interact_manual\n",
    "import ipywidgets as widgets\n",
    "import pandas as pd\n",
    "from sklearn.preprocessing import (\n",
    "    LabelEncoder,\n",
    "    OneHotEncoder,\n",
    "    OrdinalEncoder,\n",
    ")\n",
    "from sklearn.linear_model import LogisticRegression\n",
    "from sklearn.metrics import classification_report, accuracy_score, roc_auc_score, ConfusionMatrixDisplay, confusion_matrix\n",
    "import xgboost as xgb\n",
    "import category_encoders.utils as util\n",
    "from category_encoders import TargetEncoder\n",
    "from sklearn.feature_extraction.text import CountVectorizer\n",
    "from sklearn.neural_network import MLPClassifier \n",
    "from sklearn.preprocessing import StandardScaler"
   ]
  },
  {
   "cell_type": "code",
   "execution_count": 2,
   "id": "6ea61613",
   "metadata": {},
   "outputs": [],
   "source": [
    "import warnings \n",
    "warnings.filterwarnings('ignore')"
   ]
  },
  {
   "cell_type": "markdown",
   "id": "fe620172",
   "metadata": {},
   "source": [
    "### Lectura de archivos"
   ]
  },
  {
   "cell_type": "code",
   "execution_count": 3,
   "id": "b264eea2",
   "metadata": {},
   "outputs": [],
   "source": [
    "iden = pd.read_csv('train_identity.csv')"
   ]
  },
  {
   "cell_type": "code",
   "execution_count": 4,
   "id": "3956d475",
   "metadata": {},
   "outputs": [],
   "source": [
    "trans = pd.read_csv('train_transaction.csv')"
   ]
  },
  {
   "cell_type": "markdown",
   "id": "8e6a1ed1",
   "metadata": {},
   "source": [
    "Realizo el merge de ambos df cargados anteriormente"
   ]
  },
  {
   "cell_type": "code",
   "execution_count": 5,
   "id": "d4782438",
   "metadata": {},
   "outputs": [],
   "source": [
    "joined = trans.merge(iden,how='left')"
   ]
  },
  {
   "cell_type": "markdown",
   "id": "ac94a03c",
   "metadata": {},
   "source": [
    "Elimino los IDs únicos, ya que no influyen en mi predicción. Al igual que el TransactionAmt."
   ]
  },
  {
   "cell_type": "code",
   "execution_count": 6,
   "id": "2c74b9cb",
   "metadata": {},
   "outputs": [],
   "source": [
    "del(joined['TransactionID'])"
   ]
  },
  {
   "cell_type": "code",
   "execution_count": 7,
   "id": "a18c20ce",
   "metadata": {},
   "outputs": [],
   "source": [
    "del(joined['TransactionAmt'])"
   ]
  },
  {
   "cell_type": "markdown",
   "id": "7db4efb3",
   "metadata": {},
   "source": [
    "Libero espacio en la RAM, eliminando mis los dos df cargados inicialmente, ya que no volvere a utilizarlos."
   ]
  },
  {
   "cell_type": "code",
   "execution_count": 8,
   "id": "250f5dc7",
   "metadata": {},
   "outputs": [],
   "source": [
    "del iden"
   ]
  },
  {
   "cell_type": "code",
   "execution_count": 9,
   "id": "67deb656",
   "metadata": {},
   "outputs": [],
   "source": [
    "del trans"
   ]
  },
  {
   "cell_type": "markdown",
   "id": "7c968a80",
   "metadata": {},
   "source": [
    "Busco el valor para realizar el split del train y del validation, quedandome con el 80% del df para el train y con el 20% restante para el validation."
   ]
  },
  {
   "cell_type": "code",
   "execution_count": 10,
   "id": "37114238",
   "metadata": {},
   "outputs": [],
   "source": [
    "limite = np.percentile(joined['TransactionDT'], 80)"
   ]
  },
  {
   "cell_type": "markdown",
   "id": "baa5f457",
   "metadata": {},
   "source": [
    "Filtro en el df para generar el train y el validation, y sus labels."
   ]
  },
  {
   "cell_type": "code",
   "execution_count": 11,
   "id": "533e4b2e",
   "metadata": {},
   "outputs": [],
   "source": [
    "filtro_validation = joined['TransactionDT'] > limite"
   ]
  },
  {
   "cell_type": "code",
   "execution_count": 12,
   "id": "9f40de44",
   "metadata": {},
   "outputs": [],
   "source": [
    "validation = joined[filtro_validation]"
   ]
  },
  {
   "cell_type": "code",
   "execution_count": 13,
   "id": "8b7054a5",
   "metadata": {},
   "outputs": [],
   "source": [
    "label_validation = validation[['isFraud']]"
   ]
  },
  {
   "cell_type": "code",
   "execution_count": 14,
   "id": "9fbed007",
   "metadata": {},
   "outputs": [],
   "source": [
    "del(validation['isFraud'])"
   ]
  },
  {
   "cell_type": "code",
   "execution_count": 15,
   "id": "bed8413a",
   "metadata": {},
   "outputs": [],
   "source": [
    "filtro_train = joined['TransactionDT']<= limite"
   ]
  },
  {
   "cell_type": "code",
   "execution_count": 16,
   "id": "71e9a75b",
   "metadata": {},
   "outputs": [],
   "source": [
    "train = joined[filtro_train]"
   ]
  },
  {
   "cell_type": "code",
   "execution_count": 17,
   "id": "602a6a5d",
   "metadata": {},
   "outputs": [],
   "source": [
    "label_train = train[['isFraud']]"
   ]
  },
  {
   "cell_type": "code",
   "execution_count": 18,
   "id": "e43c0136",
   "metadata": {},
   "outputs": [],
   "source": [
    "del(train['isFraud'])"
   ]
  },
  {
   "cell_type": "markdown",
   "id": "d97bb197",
   "metadata": {},
   "source": [
    "Libero espacion en la RAM, eliminando un df que ya no utilizare."
   ]
  },
  {
   "cell_type": "code",
   "execution_count": 19,
   "id": "91360cf1",
   "metadata": {},
   "outputs": [],
   "source": [
    "del joined"
   ]
  },
  {
   "cell_type": "code",
   "execution_count": 20,
   "id": "de01953d",
   "metadata": {},
   "outputs": [],
   "source": [
    "del(validation['TransactionDT'])"
   ]
  },
  {
   "cell_type": "code",
   "execution_count": 21,
   "id": "a07c9deb",
   "metadata": {},
   "outputs": [],
   "source": [
    "del(train['TransactionDT'])"
   ]
  },
  {
   "cell_type": "markdown",
   "id": "9230c2a0",
   "metadata": {},
   "source": [
    "Creo el siguiente objeto, para normalizar los features para la red neuronal."
   ]
  },
  {
   "cell_type": "code",
   "execution_count": 22,
   "id": "294fe236",
   "metadata": {},
   "outputs": [],
   "source": [
    "scaler = StandardScaler()"
   ]
  },
  {
   "cell_type": "markdown",
   "id": "ace2de43",
   "metadata": {},
   "source": [
    "Creo el diccionario donde almacenare los encodings de cada feature."
   ]
  },
  {
   "cell_type": "code",
   "execution_count": 23,
   "id": "7ba76c2f",
   "metadata": {},
   "outputs": [],
   "source": [
    "dict_encoding = {}"
   ]
  },
  {
   "cell_type": "markdown",
   "id": "129ae9a2",
   "metadata": {},
   "source": [
    "Creo las funciones que utilizare a continuacion para realizar los encodings."
   ]
  },
  {
   "cell_type": "code",
   "execution_count": 24,
   "id": "2b5aeb4c",
   "metadata": {},
   "outputs": [],
   "source": [
    "def countVect(df,columna,dic):\n",
    "    if columna not in dic:\n",
    "        dic[columna] = CountVectorizer(max_features =10)\n",
    "        col_encoded = dic[columna].fit_transform(df[columna].fillna('desconocido')).astype(int).toarray()\n",
    "    else:\n",
    "        col_encoded = dic[columna].transform(df[columna].fillna('desconocido')).astype(int).toarray()\n",
    "    col_encoded = pd.DataFrame(col_encoded).add_prefix(columna+ '_enconded_').fillna(0)\n",
    "    del(df[columna])\n",
    "    df_nuevo = pd.concat([df.reset_index(drop=True),col_encoded], axis=1)\n",
    "    return df_nuevo"
   ]
  },
  {
   "cell_type": "code",
   "execution_count": 25,
   "id": "6e10a2bd",
   "metadata": {},
   "outputs": [],
   "source": [
    "def one_hot_encode(df, columna, dict_encoding):\n",
    "    if columna not in dict_encoding:\n",
    "        dict_encoding[columna] = OneHotEncoder(handle_unknown='ignore')\n",
    "        dict_encoding[columna].fit_transform(df[[columna]].astype(str)).astype(int)\n",
    "    col_encoded = (dict_encoding[columna].transform(df[[columna]].astype(str)).astype(int))\n",
    "    col_encoded = pd.DataFrame(col_encoded.todense()).add_prefix(columna + '_').fillna(0)\n",
    "    del(df[columna])\n",
    "    df_nuevo = pd.concat([df.reset_index(drop=True), col_encoded], axis=1)\n",
    "    return df_nuevo"
   ]
  },
  {
   "cell_type": "code",
   "execution_count": 26,
   "id": "bcfa8101",
   "metadata": {},
   "outputs": [],
   "source": [
    "def mean_encoding(df,columna,label, dict_encoding):\n",
    "    if columna not in dict_encoding:\n",
    "        dict_encoding[columna] = TargetEncoder(handle_unknown='ignore')\n",
    "    df[columna] = dict_encoding[columna].fit_transform(df[[columna]], label)\n",
    "    df[columna].fillna(0,inplace=True)\n",
    "    return df"
   ]
  },
  {
   "cell_type": "code",
   "execution_count": 27,
   "id": "10c9280f",
   "metadata": {},
   "outputs": [],
   "source": [
    "def mean_encoding_val_test(df,columna, dict_encoding):\n",
    "    df[columna] = dict_encoding[columna].transform(df[[columna]])\n",
    "    df[columna].fillna(0,inplace=True)\n",
    "    return df"
   ]
  },
  {
   "cell_type": "code",
   "execution_count": 28,
   "id": "341bbcdf",
   "metadata": {},
   "outputs": [],
   "source": [
    "def label_ec(df,dict_encoding):\n",
    "    for column in df.columns:\n",
    "        if df[column].dtypes==object:\n",
    "            dict_encoding[column] = OrdinalEncoder(handle_unknown='ignore')\n",
    "            df[column] = dict_encoding[column].fit_transform(df[column].astype(str).values.reshape(-1, 1))\n",
    "    if df[column].dtype==object:\n",
    "        df[column] = dict_encoding[column].transform(df[column].astype(str).values.reshape(-1, 1))\n",
    "    df.fillna(-1,inplace=True)\n",
    "    return(df)"
   ]
  },
  {
   "cell_type": "markdown",
   "id": "dbf98d2d",
   "metadata": {},
   "source": [
    "Establezco listas para cada encoding, en las que almaceno los features que encondeare de cada forma."
   ]
  },
  {
   "cell_type": "code",
   "execution_count": 29,
   "id": "63e3387a",
   "metadata": {},
   "outputs": [],
   "source": [
    "countV = ['id_30','id_31','DeviceInfo']"
   ]
  },
  {
   "cell_type": "code",
   "execution_count": 30,
   "id": "f0ed40c0",
   "metadata": {},
   "outputs": [],
   "source": [
    "oneHot = ['P_emaildomain','card4','ProductCD','id_38','id_35','id_34']"
   ]
  },
  {
   "cell_type": "code",
   "execution_count": 31,
   "id": "a830b49d",
   "metadata": {},
   "outputs": [],
   "source": [
    "mean = ['addr2','DeviceType']"
   ]
  },
  {
   "cell_type": "markdown",
   "id": "a047c7be",
   "metadata": {},
   "source": [
    "#### Creo el modelo"
   ]
  },
  {
   "cell_type": "code",
   "execution_count": 32,
   "id": "16317bb9",
   "metadata": {},
   "outputs": [],
   "source": [
    "red = MLPClassifier(max_iter=20,random_state=0)"
   ]
  },
  {
   "cell_type": "markdown",
   "id": "db7c9204",
   "metadata": {},
   "source": [
    "### Train"
   ]
  },
  {
   "cell_type": "markdown",
   "id": "a194c50b",
   "metadata": {},
   "source": [
    "Realizo los encodings."
   ]
  },
  {
   "cell_type": "code",
   "execution_count": 33,
   "id": "d499b232",
   "metadata": {},
   "outputs": [],
   "source": [
    "for i in countV:\n",
    "    train=countVect(train,i,dict_encoding)"
   ]
  },
  {
   "cell_type": "code",
   "execution_count": 34,
   "id": "3c656c3c",
   "metadata": {},
   "outputs": [],
   "source": [
    "for i in oneHot:\n",
    "    train = one_hot_encode(train,i,dict_encoding)"
   ]
  },
  {
   "cell_type": "code",
   "execution_count": 35,
   "id": "f82e38da",
   "metadata": {},
   "outputs": [],
   "source": [
    "for i in mean:\n",
    "    train = mean_encoding(train,i,label_train,dict_encoding)"
   ]
  },
  {
   "cell_type": "code",
   "execution_count": 36,
   "id": "9e97deaf",
   "metadata": {},
   "outputs": [],
   "source": [
    "train = label_ec(train,dict_encoding)"
   ]
  },
  {
   "cell_type": "markdown",
   "id": "5f5ac030",
   "metadata": {},
   "source": [
    "Verifico la cantidad de features que tiene mi df para verificar que cumplo con la condicion que deben ser mas de 80."
   ]
  },
  {
   "cell_type": "code",
   "execution_count": 37,
   "id": "0b7e83ff",
   "metadata": {},
   "outputs": [
    {
     "data": {
      "text/plain": [
       "(472432, 532)"
      ]
     },
     "execution_count": 37,
     "metadata": {},
     "output_type": "execute_result"
    }
   ],
   "source": [
    "train.shape"
   ]
  },
  {
   "cell_type": "markdown",
   "id": "3457bbce",
   "metadata": {},
   "source": [
    "Normalizo los features."
   ]
  },
  {
   "cell_type": "code",
   "execution_count": 38,
   "id": "fb8dac35",
   "metadata": {},
   "outputs": [],
   "source": [
    "train  = scaler.fit_transform(train)"
   ]
  },
  {
   "cell_type": "markdown",
   "id": "82e00dda",
   "metadata": {},
   "source": [
    "Entreno el modelo."
   ]
  },
  {
   "cell_type": "code",
   "execution_count": 39,
   "id": "195668b4",
   "metadata": {},
   "outputs": [
    {
     "data": {
      "text/plain": [
       "MLPClassifier(max_iter=20, random_state=0)"
      ]
     },
     "execution_count": 39,
     "metadata": {},
     "output_type": "execute_result"
    }
   ],
   "source": [
    "red.fit(train, label_train)"
   ]
  },
  {
   "cell_type": "markdown",
   "id": "a14e84a0",
   "metadata": {},
   "source": [
    "Verifico que los 4 features obligatorios ( id_31, id_33, DeviceType, DeviceInfo) esten siendo encodeados."
   ]
  },
  {
   "cell_type": "code",
   "execution_count": 40,
   "id": "65f1a1ab",
   "metadata": {},
   "outputs": [
    {
     "data": {
      "text/plain": [
       "CountVectorizer(max_features=10)"
      ]
     },
     "execution_count": 40,
     "metadata": {},
     "output_type": "execute_result"
    }
   ],
   "source": [
    "dict_encoding['id_31']"
   ]
  },
  {
   "cell_type": "code",
   "execution_count": 41,
   "id": "e3fd3eda",
   "metadata": {},
   "outputs": [
    {
     "data": {
      "text/plain": [
       "OrdinalEncoder(handle_unknown='ignore')"
      ]
     },
     "execution_count": 41,
     "metadata": {},
     "output_type": "execute_result"
    }
   ],
   "source": [
    "dict_encoding['id_33']"
   ]
  },
  {
   "cell_type": "code",
   "execution_count": 42,
   "id": "260c2e46",
   "metadata": {},
   "outputs": [
    {
     "data": {
      "text/plain": [
       "TargetEncoder(cols=['DeviceType'], handle_unknown='ignore')"
      ]
     },
     "execution_count": 42,
     "metadata": {},
     "output_type": "execute_result"
    }
   ],
   "source": [
    "dict_encoding['DeviceType']"
   ]
  },
  {
   "cell_type": "code",
   "execution_count": 43,
   "id": "4da6bdc4",
   "metadata": {},
   "outputs": [
    {
     "data": {
      "text/plain": [
       "CountVectorizer(max_features=10)"
      ]
     },
     "execution_count": 43,
     "metadata": {},
     "output_type": "execute_result"
    }
   ],
   "source": [
    "dict_encoding['DeviceInfo']"
   ]
  },
  {
   "cell_type": "markdown",
   "id": "9a05d872",
   "metadata": {},
   "source": [
    "### Validation"
   ]
  },
  {
   "cell_type": "markdown",
   "id": "1376fba5",
   "metadata": {},
   "source": [
    "Realizo los encodings."
   ]
  },
  {
   "cell_type": "code",
   "execution_count": 44,
   "id": "1b617238",
   "metadata": {},
   "outputs": [],
   "source": [
    "#del(validation['TransactionAmt'])"
   ]
  },
  {
   "cell_type": "code",
   "execution_count": 45,
   "id": "d1d57bc0",
   "metadata": {},
   "outputs": [],
   "source": [
    "#del(validation['TransactionDT'])"
   ]
  },
  {
   "cell_type": "code",
   "execution_count": 46,
   "id": "b30971f5",
   "metadata": {},
   "outputs": [],
   "source": [
    "for i in countV:\n",
    "    validation=countVect(validation,i,dict_encoding)"
   ]
  },
  {
   "cell_type": "code",
   "execution_count": 47,
   "id": "704e77aa",
   "metadata": {},
   "outputs": [],
   "source": [
    "for i in oneHot:\n",
    "    validation = one_hot_encode(validation,i,dict_encoding)"
   ]
  },
  {
   "cell_type": "code",
   "execution_count": 48,
   "id": "c287d8c8",
   "metadata": {},
   "outputs": [],
   "source": [
    "for i in mean:\n",
    "    validation = mean_encoding_val_test(validation,i,dict_encoding)"
   ]
  },
  {
   "cell_type": "code",
   "execution_count": 49,
   "id": "767bfc62",
   "metadata": {},
   "outputs": [],
   "source": [
    "validation = label_ec(validation,dict_encoding)"
   ]
  },
  {
   "cell_type": "markdown",
   "id": "68e13fad",
   "metadata": {},
   "source": [
    "Verifico la cantidad de features que tiene mi df para verificar que cumplo con la condicion que deben ser mas de 80."
   ]
  },
  {
   "cell_type": "code",
   "execution_count": 50,
   "id": "6c11ed60",
   "metadata": {},
   "outputs": [
    {
     "data": {
      "text/plain": [
       "(118108, 532)"
      ]
     },
     "execution_count": 50,
     "metadata": {},
     "output_type": "execute_result"
    }
   ],
   "source": [
    "validation.shape"
   ]
  },
  {
   "cell_type": "markdown",
   "id": "97770526",
   "metadata": {},
   "source": [
    "Normalizo los features."
   ]
  },
  {
   "cell_type": "code",
   "execution_count": 51,
   "id": "bfa0f9fc",
   "metadata": {},
   "outputs": [],
   "source": [
    "validation  = scaler.transform(validation)"
   ]
  },
  {
   "cell_type": "markdown",
   "id": "ca404f96",
   "metadata": {},
   "source": [
    "Muestro el classification_report"
   ]
  },
  {
   "cell_type": "code",
   "execution_count": 52,
   "id": "a440a6b3",
   "metadata": {},
   "outputs": [
    {
     "name": "stdout",
     "output_type": "stream",
     "text": [
      "              precision    recall  f1-score   support\n",
      "\n",
      "           0       0.98      0.99      0.98    114044\n",
      "           1       0.49      0.36      0.42      4064\n",
      "\n",
      "    accuracy                           0.97    118108\n",
      "   macro avg       0.73      0.67      0.70    118108\n",
      "weighted avg       0.96      0.97      0.96    118108\n",
      "\n"
     ]
    }
   ],
   "source": [
    "print(classification_report(label_validation, red.predict(validation)))"
   ]
  },
  {
   "cell_type": "markdown",
   "id": "3ac8111d",
   "metadata": {},
   "source": [
    "##### RocAuc "
   ]
  },
  {
   "cell_type": "code",
   "execution_count": 53,
   "id": "3c0765d6",
   "metadata": {},
   "outputs": [
    {
     "data": {
      "text/plain": [
       "0.8241424955870741"
      ]
     },
     "execution_count": 53,
     "metadata": {},
     "output_type": "execute_result"
    }
   ],
   "source": [
    "roc_auc_score(label_validation, red.predict_proba(validation)[:,1])"
   ]
  },
  {
   "cell_type": "markdown",
   "id": "a22ad722",
   "metadata": {},
   "source": [
    "### Hiperparametros"
   ]
  },
  {
   "cell_type": "markdown",
   "id": "3153632c",
   "metadata": {},
   "source": [
    "Realizo la busqueda de hiperparametros."
   ]
  },
  {
   "cell_type": "code",
   "execution_count": 54,
   "id": "fed9ba28",
   "metadata": {},
   "outputs": [],
   "source": [
    "# from sklearn.model_selection import RandomizedSearchCV\n",
    "# from scipy.stats import uniform\n",
    "# mlp = MLPClassifier(max_iter=20,activation='tanh',random_state=0)\n",
    "# distributions = dict(alpha = [0.0001,0.0002,0.0003,0.0004,0.0005,0.0006],\n",
    "#                     hidden_layer_sizes = [(80,80,80),(100,10,10),(100,40),(100,)],\n",
    "#                     learning_rate_init=[0.0005,0.0008,0.001,0.0015,0.002],\n",
    "#                     momentum = [0.8,0.9,0.95,1],\n",
    "#                     )\n",
    "                     \n",
    "# rs = RandomizedSearchCV(mlp, distributions, scoring='roc_auc',n_jobs=1, verbose=100, cv=3,n_iter=4, random_state=0)\n",
    "# search = rs.fit(train, label_train)\n",
    "# search.best_params_"
   ]
  },
  {
   "cell_type": "markdown",
   "id": "85472af5",
   "metadata": {},
   "source": [
    "Guardo el modelo de hiperparametros para no volver a correr el RandomizedSearchCV."
   ]
  },
  {
   "cell_type": "code",
   "execution_count": 55,
   "id": "5601203c",
   "metadata": {},
   "outputs": [],
   "source": [
    "# import pickle\n",
    "# with open('probando_model_2', 'wb') as model_backup_file:\n",
    "#     pickle.dump(search, model_backup_file)"
   ]
  },
  {
   "cell_type": "markdown",
   "id": "d9999ce9",
   "metadata": {},
   "source": [
    "Cargo el modelo."
   ]
  },
  {
   "cell_type": "code",
   "execution_count": 56,
   "id": "b627afc6",
   "metadata": {},
   "outputs": [],
   "source": [
    "import pickle\n",
    "with open('probando_model_2', 'rb') as file:\n",
    "    search = pickle.load(file)"
   ]
  },
  {
   "cell_type": "markdown",
   "id": "f151e48c",
   "metadata": {},
   "source": [
    "Muestro los parametros del modelo encontrado con la busqueda de hiperparametros."
   ]
  },
  {
   "cell_type": "code",
   "execution_count": 57,
   "id": "cd2a8040",
   "metadata": {},
   "outputs": [
    {
     "data": {
      "text/plain": [
       "{'momentum': 0.9,\n",
       " 'learning_rate_init': 0.002,\n",
       " 'hidden_layer_sizes': (100, 10, 10),\n",
       " 'alpha': 0.0002}"
      ]
     },
     "execution_count": 57,
     "metadata": {},
     "output_type": "execute_result"
    }
   ],
   "source": [
    "search.best_params_"
   ]
  },
  {
   "cell_type": "markdown",
   "id": "6b96205f",
   "metadata": {},
   "source": [
    "***Validation***"
   ]
  },
  {
   "cell_type": "markdown",
   "id": "0612a962",
   "metadata": {},
   "source": [
    "Muestro el classification_report con el modelo de hiperparametros."
   ]
  },
  {
   "cell_type": "code",
   "execution_count": 58,
   "id": "2c2d3f8b",
   "metadata": {},
   "outputs": [
    {
     "name": "stdout",
     "output_type": "stream",
     "text": [
      "              precision    recall  f1-score   support\n",
      "\n",
      "           0       0.98      0.99      0.98    114044\n",
      "           1       0.51      0.31      0.39      4064\n",
      "\n",
      "    accuracy                           0.97    118108\n",
      "   macro avg       0.74      0.65      0.69    118108\n",
      "weighted avg       0.96      0.97      0.96    118108\n",
      "\n"
     ]
    }
   ],
   "source": [
    "print(classification_report(label_validation, search.predict(validation)))"
   ]
  },
  {
   "cell_type": "markdown",
   "id": "c31e1d9d",
   "metadata": {},
   "source": [
    "Calculo el ***roc auc*** para el modelo con hiperparametros."
   ]
  },
  {
   "cell_type": "code",
   "execution_count": 59,
   "id": "d6ca7230",
   "metadata": {},
   "outputs": [
    {
     "data": {
      "text/plain": [
       "0.8355668315320073"
      ]
     },
     "execution_count": 59,
     "metadata": {},
     "output_type": "execute_result"
    }
   ],
   "source": [
    "roc_auc_score(label_validation, search.predict_proba(validation)[:,1])"
   ]
  },
  {
   "cell_type": "code",
   "execution_count": null,
   "id": "3955e702",
   "metadata": {},
   "outputs": [],
   "source": []
  }
 ],
 "metadata": {
  "kernelspec": {
   "display_name": "Python 3",
   "language": "python",
   "name": "python3"
  },
  "language_info": {
   "codemirror_mode": {
    "name": "ipython",
    "version": 3
   },
   "file_extension": ".py",
   "mimetype": "text/x-python",
   "name": "python",
   "nbconvert_exporter": "python",
   "pygments_lexer": "ipython3",
   "version": "3.8.8"
  }
 },
 "nbformat": 4,
 "nbformat_minor": 5
}
