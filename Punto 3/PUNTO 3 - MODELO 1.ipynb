{
 "cells": [
  {
   "cell_type": "code",
   "execution_count": 1,
   "id": "02580e12",
   "metadata": {},
   "outputs": [],
   "source": [
    "import warnings \n",
    "warnings.filterwarnings('ignore')\n",
    "from sklearn.datasets import load_iris\n",
    "import numpy as np\n",
    "import math\n",
    "from tqdm import tqdm\n",
    "from __future__ import print_function\n",
    "from ipywidgets import interact, interactive, fixed, interact_manual\n",
    "import ipywidgets as widgets\n",
    "import pandas as pd\n",
    "from sklearn.preprocessing import (\n",
    "    LabelEncoder,\n",
    "    OneHotEncoder,\n",
    "    OrdinalEncoder,\n",
    ")\n",
    "from sklearn.linear_model import LogisticRegression\n",
    "from sklearn.metrics import classification_report, accuracy_score, roc_auc_score, ConfusionMatrixDisplay, confusion_matrix\n",
    "import xgboost as xgb\n",
    "import category_encoders.utils as util\n",
    "from category_encoders import TargetEncoder\n",
    "from sklearn.feature_extraction.text import CountVectorizer"
   ]
  },
  {
   "cell_type": "markdown",
   "id": "290d30a9",
   "metadata": {},
   "source": [
    "Lectura de archivos"
   ]
  },
  {
   "cell_type": "code",
   "execution_count": 2,
   "id": "f9bc1a70",
   "metadata": {},
   "outputs": [],
   "source": [
    "iden = pd.read_csv('train_identity.csv')"
   ]
  },
  {
   "cell_type": "code",
   "execution_count": 3,
   "id": "ce74771e",
   "metadata": {},
   "outputs": [],
   "source": [
    "trans = pd.read_csv('train_transaction.csv')"
   ]
  },
  {
   "cell_type": "markdown",
   "id": "f70f52e8",
   "metadata": {},
   "source": [
    "Merge de df"
   ]
  },
  {
   "cell_type": "code",
   "execution_count": 4,
   "id": "734d88cd",
   "metadata": {},
   "outputs": [],
   "source": [
    "joined = trans.merge(iden,how='left')"
   ]
  },
  {
   "cell_type": "code",
   "execution_count": 5,
   "id": "475b0f72",
   "metadata": {},
   "outputs": [],
   "source": [
    "del(joined['TransactionID'])"
   ]
  },
  {
   "cell_type": "markdown",
   "id": "100f5f4c",
   "metadata": {},
   "source": [
    "Libero RAM"
   ]
  },
  {
   "cell_type": "code",
   "execution_count": 6,
   "id": "a20c193c",
   "metadata": {},
   "outputs": [],
   "source": [
    "del iden"
   ]
  },
  {
   "cell_type": "code",
   "execution_count": 7,
   "id": "0faa90ff",
   "metadata": {},
   "outputs": [],
   "source": [
    "del trans"
   ]
  },
  {
   "cell_type": "markdown",
   "id": "f31f8fa9",
   "metadata": {},
   "source": [
    "Busco el valor limite entre train y validation para hacer el split"
   ]
  },
  {
   "cell_type": "code",
   "execution_count": 8,
   "id": "3f2e64d4",
   "metadata": {},
   "outputs": [],
   "source": [
    "limite = np.percentile(joined['TransactionDT'], 80)"
   ]
  },
  {
   "cell_type": "markdown",
   "id": "f385b28a",
   "metadata": {},
   "source": [
    "Genero el DF de Validation"
   ]
  },
  {
   "cell_type": "code",
   "execution_count": 9,
   "id": "f65e7649",
   "metadata": {},
   "outputs": [],
   "source": [
    "filtro_validation = joined['TransactionDT'] > limite"
   ]
  },
  {
   "cell_type": "code",
   "execution_count": 10,
   "id": "b1021342",
   "metadata": {},
   "outputs": [],
   "source": [
    "validation = joined[filtro_validation]"
   ]
  },
  {
   "cell_type": "code",
   "execution_count": 11,
   "id": "cb07c875",
   "metadata": {},
   "outputs": [],
   "source": [
    "label_validation = validation[['isFraud']]"
   ]
  },
  {
   "cell_type": "code",
   "execution_count": 12,
   "id": "a87eff5c",
   "metadata": {},
   "outputs": [],
   "source": [
    "del(validation['isFraud'])"
   ]
  },
  {
   "cell_type": "markdown",
   "id": "6de1ce2b",
   "metadata": {},
   "source": [
    "Genero el DF de train"
   ]
  },
  {
   "cell_type": "code",
   "execution_count": 13,
   "id": "40fed0b1",
   "metadata": {},
   "outputs": [],
   "source": [
    "filtro_train = joined['TransactionDT']<= limite"
   ]
  },
  {
   "cell_type": "code",
   "execution_count": 14,
   "id": "6c93160b",
   "metadata": {},
   "outputs": [],
   "source": [
    "train = joined[filtro_train]"
   ]
  },
  {
   "cell_type": "code",
   "execution_count": 15,
   "id": "22362bf6",
   "metadata": {},
   "outputs": [],
   "source": [
    "label_train = train[['isFraud']]"
   ]
  },
  {
   "cell_type": "code",
   "execution_count": 16,
   "id": "42766a29",
   "metadata": {},
   "outputs": [],
   "source": [
    "del(train['isFraud'])"
   ]
  },
  {
   "cell_type": "markdown",
   "id": "b505dc78",
   "metadata": {},
   "source": [
    "Libero RAM\n"
   ]
  },
  {
   "cell_type": "code",
   "execution_count": 17,
   "id": "34d7d068",
   "metadata": {},
   "outputs": [],
   "source": [
    "del joined"
   ]
  },
  {
   "cell_type": "markdown",
   "id": "5dfc5318",
   "metadata": {},
   "source": [
    "### Encodings"
   ]
  },
  {
   "cell_type": "markdown",
   "id": "f19a1dd8",
   "metadata": {},
   "source": [
    "Creo un diccionario para almancenar los encodings."
   ]
  },
  {
   "cell_type": "code",
   "execution_count": 18,
   "id": "d6adb560",
   "metadata": {},
   "outputs": [],
   "source": [
    "dict_encoding = {}"
   ]
  },
  {
   "cell_type": "markdown",
   "id": "5825785d",
   "metadata": {},
   "source": [
    "Creo funciones para aplicar los encodings."
   ]
  },
  {
   "cell_type": "code",
   "execution_count": 19,
   "id": "acbee62f",
   "metadata": {},
   "outputs": [],
   "source": [
    "def countVect(df,columna,dic):\n",
    "    if columna not in dic:\n",
    "        dic[columna] = CountVectorizer(max_features =10)\n",
    "        col_encoded = dic[columna].fit_transform(df[columna].fillna('desconocido')).astype(int).toarray()\n",
    "    else:\n",
    "        col_encoded = dic[columna].transform(df[columna].fillna('desconocido')).astype(int).toarray()\n",
    "    col_encoded = pd.DataFrame(col_encoded).add_prefix(columna+ '_enconded_').fillna(0)\n",
    "    del(df[columna])\n",
    "    df_nuevo = pd.concat([df.reset_index(drop=True),col_encoded], axis=1)\n",
    "    return df_nuevo"
   ]
  },
  {
   "cell_type": "code",
   "execution_count": 20,
   "id": "bd423b6a",
   "metadata": {},
   "outputs": [],
   "source": [
    "def one_hot_encode(df, columna, dict_encoding):\n",
    "    if columna not in dict_encoding:\n",
    "        dict_encoding[columna] = OneHotEncoder(handle_unknown='ignore')\n",
    "        dict_encoding[columna].fit_transform(df[[columna]].astype(str)).astype(int)\n",
    "    col_encoded = (dict_encoding[columna].transform(df[[columna]].astype(str)).astype(int))\n",
    "    col_encoded = pd.DataFrame(col_encoded.todense()).add_prefix(columna + '_').fillna(0)\n",
    "    del(df[columna])\n",
    "    df_nuevo = pd.concat([df.reset_index(drop=True), col_encoded], axis=1)\n",
    "    return df_nuevo"
   ]
  },
  {
   "cell_type": "code",
   "execution_count": 21,
   "id": "38bfefab",
   "metadata": {},
   "outputs": [],
   "source": [
    "def mean_encoding_train(df,columna,label, dict_encoding):\n",
    "    if columna not in dict_encoding:\n",
    "        dict_encoding[columna] = TargetEncoder(handle_unknown='ignore')\n",
    "    df[columna] = dict_encoding[columna].fit_transform(df[[columna]], label)\n",
    "    df[columna].fillna(0,inplace=True)\n",
    "    return df"
   ]
  },
  {
   "cell_type": "code",
   "execution_count": 22,
   "id": "4ce5d37b",
   "metadata": {},
   "outputs": [],
   "source": [
    "def mean_encoding_val_test(df,columna, dict_encoding):\n",
    "    df[columna] = dict_encoding[columna].transform(df[[columna]])\n",
    "    df[columna].fillna(0,inplace=True)\n",
    "    return df"
   ]
  },
  {
   "cell_type": "code",
   "execution_count": 23,
   "id": "60f6009e",
   "metadata": {},
   "outputs": [],
   "source": [
    "def label_ec(df):\n",
    "    for column in df.columns:\n",
    "        if df[column].dtypes==object:\n",
    "            dict_encoding[column] = OrdinalEncoder(handle_unknown='ignore')\n",
    "            df[column] = dict_encoding[column].fit_transform(df[column].astype(str).values.reshape(-1, 1))\n",
    "    if df[column].dtype==object:\n",
    "        df[column] = dict_encoding[column].transform(df[column].astype(str).values.reshape(-1, 1))\n",
    "    df.fillna(-1,inplace=True)\n",
    "    return(df)"
   ]
  },
  {
   "cell_type": "markdown",
   "id": "36cffb36",
   "metadata": {},
   "source": [
    "Defino los features que les aplicare los encodings: oneHot, mean o CountVectorizer"
   ]
  },
  {
   "cell_type": "code",
   "execution_count": 24,
   "id": "3a1cd56b",
   "metadata": {},
   "outputs": [],
   "source": [
    "countV = ['id_30','id_31','DeviceInfo']"
   ]
  },
  {
   "cell_type": "code",
   "execution_count": 25,
   "id": "24eed01c",
   "metadata": {},
   "outputs": [],
   "source": [
    "mean = ['addr2','DeviceType']"
   ]
  },
  {
   "cell_type": "code",
   "execution_count": 26,
   "id": "3f5ab43c",
   "metadata": {},
   "outputs": [],
   "source": [
    "oneHot = ['P_emaildomain','card4','ProductCD','id_38','id_35','id_34']"
   ]
  },
  {
   "cell_type": "markdown",
   "id": "4d1a7389",
   "metadata": {},
   "source": [
    "### Modelo"
   ]
  },
  {
   "cell_type": "code",
   "execution_count": 27,
   "id": "09311173",
   "metadata": {},
   "outputs": [],
   "source": [
    "xboost = xgb.XGBClassifier(random_state=0)"
   ]
  },
  {
   "cell_type": "code",
   "execution_count": 28,
   "id": "b8350428",
   "metadata": {},
   "outputs": [],
   "source": [
    "#xboost.get_xgb_params()"
   ]
  },
  {
   "cell_type": "markdown",
   "id": "a6560adc",
   "metadata": {},
   "source": [
    "### Train"
   ]
  },
  {
   "cell_type": "markdown",
   "id": "f5b321fa",
   "metadata": {},
   "source": [
    "Realizo los encodings."
   ]
  },
  {
   "cell_type": "code",
   "execution_count": 29,
   "id": "bec2cf20",
   "metadata": {},
   "outputs": [],
   "source": [
    "for i in countV:\n",
    "    train=countVect(train,i,dict_encoding)"
   ]
  },
  {
   "cell_type": "code",
   "execution_count": 30,
   "id": "28bae9b9",
   "metadata": {},
   "outputs": [],
   "source": [
    "for i in oneHot:\n",
    "    train = one_hot_encode(train,i,dict_encoding)"
   ]
  },
  {
   "cell_type": "code",
   "execution_count": 31,
   "id": "6a611205",
   "metadata": {},
   "outputs": [],
   "source": [
    "for i in mean:\n",
    "    train = mean_encoding_train(train,i,label_train,dict_encoding)"
   ]
  },
  {
   "cell_type": "code",
   "execution_count": 32,
   "id": "25c2b90f",
   "metadata": {},
   "outputs": [],
   "source": [
    "train = label_ec(train)"
   ]
  },
  {
   "cell_type": "markdown",
   "id": "d85b36a9",
   "metadata": {},
   "source": [
    "Entreno el modelo"
   ]
  },
  {
   "cell_type": "code",
   "execution_count": 33,
   "id": "62587ea0",
   "metadata": {},
   "outputs": [
    {
     "name": "stdout",
     "output_type": "stream",
     "text": [
      "[15:49:51] WARNING: C:/Users/Administrator/workspace/xgboost-win64_release_1.5.0/src/learner.cc:1115: Starting in XGBoost 1.3.0, the default evaluation metric used with the objective 'binary:logistic' was changed from 'error' to 'logloss'. Explicitly set eval_metric if you'd like to restore the old behavior.\n"
     ]
    },
    {
     "data": {
      "text/plain": [
       "XGBClassifier(base_score=0.5, booster='gbtree', colsample_bylevel=1,\n",
       "              colsample_bynode=1, colsample_bytree=1, enable_categorical=False,\n",
       "              gamma=0, gpu_id=-1, importance_type=None,\n",
       "              interaction_constraints='', learning_rate=0.300000012,\n",
       "              max_delta_step=0, max_depth=6, min_child_weight=1, missing=nan,\n",
       "              monotone_constraints='()', n_estimators=100, n_jobs=8,\n",
       "              num_parallel_tree=1, predictor='auto', random_state=0,\n",
       "              reg_alpha=0, reg_lambda=1, scale_pos_weight=1, subsample=1,\n",
       "              tree_method='exact', validate_parameters=1, verbosity=None)"
      ]
     },
     "execution_count": 33,
     "metadata": {},
     "output_type": "execute_result"
    }
   ],
   "source": [
    "xboost.fit(train,label_train)"
   ]
  },
  {
   "cell_type": "markdown",
   "id": "db17df48",
   "metadata": {},
   "source": [
    "### Validation\n"
   ]
  },
  {
   "cell_type": "markdown",
   "id": "ff54caf9",
   "metadata": {},
   "source": [
    "Realizo los encodings."
   ]
  },
  {
   "cell_type": "code",
   "execution_count": 36,
   "id": "5c1245cb",
   "metadata": {},
   "outputs": [],
   "source": [
    "for i in countV:\n",
    "    validation=countVect(validation,i,dict_encoding)"
   ]
  },
  {
   "cell_type": "code",
   "execution_count": 37,
   "id": "f8e11e01",
   "metadata": {},
   "outputs": [],
   "source": [
    "for i in oneHot:\n",
    "    validation = one_hot_encode(validation,i,dict_encoding)"
   ]
  },
  {
   "cell_type": "code",
   "execution_count": 38,
   "id": "328bf0d1",
   "metadata": {},
   "outputs": [],
   "source": [
    "for i in mean:\n",
    "    validation = mean_encoding_val_test(validation,i,dict_encoding)"
   ]
  },
  {
   "cell_type": "code",
   "execution_count": 39,
   "id": "998c2798",
   "metadata": {},
   "outputs": [],
   "source": [
    "validation = label_ec(validation)"
   ]
  },
  {
   "cell_type": "markdown",
   "id": "f80363ca",
   "metadata": {},
   "source": [
    "Se muestra el classification report."
   ]
  },
  {
   "cell_type": "code",
   "execution_count": 40,
   "id": "96a94313",
   "metadata": {},
   "outputs": [
    {
     "name": "stdout",
     "output_type": "stream",
     "text": [
      "              precision    recall  f1-score   support\n",
      "\n",
      "           0       0.98      1.00      0.99    114044\n",
      "           1       0.74      0.39      0.51      4064\n",
      "\n",
      "    accuracy                           0.97    118108\n",
      "   macro avg       0.86      0.69      0.75    118108\n",
      "weighted avg       0.97      0.97      0.97    118108\n",
      "\n"
     ]
    }
   ],
   "source": [
    "print(classification_report(label_validation, xboost.predict(validation)))"
   ]
  },
  {
   "cell_type": "markdown",
   "id": "e76ac4f1",
   "metadata": {},
   "source": [
    "Calculo el ***roc auc*** del validation con el modelo manual."
   ]
  },
  {
   "cell_type": "code",
   "execution_count": 41,
   "id": "322e0fbe",
   "metadata": {},
   "outputs": [
    {
     "data": {
      "text/plain": [
       "0.8955829899935707"
      ]
     },
     "execution_count": 41,
     "metadata": {},
     "output_type": "execute_result"
    }
   ],
   "source": [
    "roc_auc_score(label_validation, xboost.predict_proba(validation)[:,1])"
   ]
  },
  {
   "cell_type": "markdown",
   "id": "8634c394",
   "metadata": {},
   "source": [
    "### Hiperparametros"
   ]
  },
  {
   "cell_type": "markdown",
   "id": "755c0f3e",
   "metadata": {},
   "source": [
    "Realizo la busqueda de hiperparametros utilizando RandomizedSearchCV de *Sklearn*."
   ]
  },
  {
   "cell_type": "code",
   "execution_count": 42,
   "id": "34238e51",
   "metadata": {},
   "outputs": [
    {
     "data": {
      "text/plain": [
       "\"from sklearn.model_selection import RandomizedSearchCV\\nfrom scipy.stats import uniform\\nclf = xgb.XGBClassifier(objective='binary:logistic',random_state=0)\\ndistributions = dict(n_estimators = [60,80,90,100,120,130,140,150,160,170,180,190,200],\\n                     max_depth = [3,4,5,6,7,8,9,10,11,12,13,14,15],\\n                     subsample =[0.6,0.7,0.8,0.9,1],\\n                     learning_rate=[0,0.05,0.1,0.15,0.20,0.25,0.3],\\n                     colsample_bytree=[0.85,0.86,0.87,0.88,0.89,0.9,0.91,0.92,0.93,0.94,0.95,0.96,0.97,0,98,0.99,1],\\n                     gamma =[0.85,0.86,0.87,0.88,0.89,0.9,0.91,0.92,0.93,0.94,0.95,0.96,0.97,0,98,0.99,1])\\n                     \\nrs = RandomizedSearchCV(clf, distributions, scoring='roc_auc',n_jobs=1, verbose=100, cv=3,n_iter=4, random_state=0)\\nsearch = rs.fit(train, label_train)\\nsearch.best_params_\""
      ]
     },
     "execution_count": 42,
     "metadata": {},
     "output_type": "execute_result"
    }
   ],
   "source": [
    "\"\"\"from sklearn.model_selection import RandomizedSearchCV\n",
    "from scipy.stats import uniform\n",
    "clf = xgb.XGBClassifier(objective='binary:logistic',random_state=0)\n",
    "distributions = dict(n_estimators = [60,80,90,100,120,130,140,150,160,170,180,190,200],\n",
    "                     max_depth = [3,4,5,6,7,8,9,10,11,12,13,14,15],\n",
    "                     subsample =[0.6,0.7,0.8,0.9,1],\n",
    "                     learning_rate=[0,0.05,0.1,0.15,0.20,0.25,0.3],\n",
    "                     colsample_bytree=[0.85,0.86,0.87,0.88,0.89,0.9,0.91,0.92,0.93,0.94,0.95,0.96,0.97,0,98,0.99,1],\n",
    "                     gamma =[0.85,0.86,0.87,0.88,0.89,0.9,0.91,0.92,0.93,0.94,0.95,0.96,0.97,0,98,0.99,1])\n",
    "                     \n",
    "rs = RandomizedSearchCV(clf, distributions, scoring='roc_auc',n_jobs=1, verbose=100, cv=3,n_iter=4, random_state=0)\n",
    "search = rs.fit(train, label_train)\n",
    "search.best_params_\"\"\""
   ]
  },
  {
   "cell_type": "markdown",
   "id": "8c7a0417",
   "metadata": {},
   "source": [
    "Guardo el modelo de hiperparametros."
   ]
  },
  {
   "cell_type": "code",
   "execution_count": 43,
   "id": "eae849f0",
   "metadata": {},
   "outputs": [
    {
     "data": {
      "text/plain": [
       "\"import pickle\\nwith open('model_backup_punto_3_mod_1', 'wb') as model_backup_file:\\n    pickle.dump(search, model_backup_file)\""
      ]
     },
     "execution_count": 43,
     "metadata": {},
     "output_type": "execute_result"
    }
   ],
   "source": [
    "\"\"\"import pickle\n",
    "with open('model_backup_punto_3_mod_1', 'wb') as model_backup_file:\n",
    "    pickle.dump(search, model_backup_file)\"\"\""
   ]
  },
  {
   "cell_type": "markdown",
   "id": "66677f57",
   "metadata": {},
   "source": [
    "Cargo el modelo con hiperparametros."
   ]
  },
  {
   "cell_type": "code",
   "execution_count": 44,
   "id": "1a275227",
   "metadata": {},
   "outputs": [],
   "source": [
    "import pickle\n",
    "with open('model_backup_punto_3_mod_1', 'rb') as file:\n",
    "     search = pickle.load(file)"
   ]
  },
  {
   "cell_type": "markdown",
   "id": "72f06f20",
   "metadata": {},
   "source": [
    "Se muestran los mejores parametros seleccionados por el RandomizedSearch de *Sklearn*."
   ]
  },
  {
   "cell_type": "code",
   "execution_count": 45,
   "id": "eb698d1f",
   "metadata": {},
   "outputs": [
    {
     "data": {
      "text/plain": [
       "{'subsample': 0.6,\n",
       " 'n_estimators': 140,\n",
       " 'max_depth': 4,\n",
       " 'learning_rate': 0.3,\n",
       " 'gamma': 0.94,\n",
       " 'colsample_bytree': 0.94}"
      ]
     },
     "execution_count": 45,
     "metadata": {},
     "output_type": "execute_result"
    }
   ],
   "source": [
    "search.best_params_"
   ]
  },
  {
   "cell_type": "code",
   "execution_count": 46,
   "id": "3727ac7b",
   "metadata": {},
   "outputs": [
    {
     "name": "stdout",
     "output_type": "stream",
     "text": [
      "              precision    recall  f1-score   support\n",
      "\n",
      "           0       0.98      0.99      0.99    114044\n",
      "           1       0.67      0.39      0.49      4064\n",
      "\n",
      "    accuracy                           0.97    118108\n",
      "   macro avg       0.83      0.69      0.74    118108\n",
      "weighted avg       0.97      0.97      0.97    118108\n",
      "\n"
     ]
    }
   ],
   "source": [
    "print(classification_report(label_validation, search.predict(validation)))"
   ]
  },
  {
   "cell_type": "code",
   "execution_count": 47,
   "id": "d2129a2c",
   "metadata": {},
   "outputs": [
    {
     "data": {
      "text/plain": [
       "0.8928214106028147"
      ]
     },
     "execution_count": 47,
     "metadata": {},
     "output_type": "execute_result"
    }
   ],
   "source": [
    "roc_auc_score(label_validation, search.predict_proba(validation)[:,1])"
   ]
  },
  {
   "cell_type": "markdown",
   "id": "fb4ef1d5",
   "metadata": {},
   "source": [
    "### Respuesta\n",
    "Para el mejor modelo de ambos, ¿cuál es el score en la competencia? (guardar el\n",
    "csv con predicciones para entregarlo después)\n"
   ]
  },
  {
   "cell_type": "markdown",
   "id": "56731b68",
   "metadata": {},
   "source": [
    "Dado que el mejor modelo (el que me dio el roc auc mas alto para el validation) es el xgboost manual, es decir, el que hice en un primer momento sin la busqueda de hiperparametros, fue el que me dio un roc auc de 0.8955, que resulto el mas alto, lo utilizare para cargarlo a Kaggle. "
   ]
  },
  {
   "cell_type": "markdown",
   "id": "8f88a767",
   "metadata": {},
   "source": [
    "###### Leo Test para calcular el predict proba para la competencia"
   ]
  },
  {
   "cell_type": "code",
   "execution_count": 49,
   "id": "07d5b851",
   "metadata": {},
   "outputs": [],
   "source": [
    "idenTest = pd.read_csv('test_identity.csv')"
   ]
  },
  {
   "cell_type": "code",
   "execution_count": 50,
   "id": "b39e6b54",
   "metadata": {},
   "outputs": [],
   "source": [
    "transTest = pd.read_csv('test_transaction.csv')"
   ]
  },
  {
   "cell_type": "markdown",
   "id": "21a3fe8d",
   "metadata": {},
   "source": [
    "Renombro las cols dado que tienen nombre distintos a los df de train y validation."
   ]
  },
  {
   "cell_type": "code",
   "execution_count": 52,
   "id": "20c8f484",
   "metadata": {},
   "outputs": [],
   "source": [
    "def renombrar(df):\n",
    "    for columna in df.columns:\n",
    "        if columna.startswith('id'):\n",
    "            ss = columna.split('-')\n",
    "            df.rename(columns={columna:ss[0]+'_'+ss[1]},inplace=True)\n",
    "    return (df)\n",
    "        "
   ]
  },
  {
   "cell_type": "code",
   "execution_count": 53,
   "id": "0b5fa311",
   "metadata": {},
   "outputs": [],
   "source": [
    "idenTest = renombrar(idenTest)"
   ]
  },
  {
   "cell_type": "markdown",
   "id": "1eb2ecb8",
   "metadata": {},
   "source": [
    "Realizo el merge de los dos df."
   ]
  },
  {
   "cell_type": "code",
   "execution_count": 54,
   "id": "bf3a290d",
   "metadata": {},
   "outputs": [],
   "source": [
    "test = transTest.merge(idenTest,how='left')"
   ]
  },
  {
   "cell_type": "code",
   "execution_count": 55,
   "id": "d827eb67",
   "metadata": {},
   "outputs": [],
   "source": [
    "ids = test[['TransactionID']]"
   ]
  },
  {
   "cell_type": "code",
   "execution_count": 56,
   "id": "359c417c",
   "metadata": {},
   "outputs": [],
   "source": [
    "del(test['TransactionID'])"
   ]
  },
  {
   "cell_type": "markdown",
   "id": "c72e89a7",
   "metadata": {},
   "source": [
    "Realizo los encodings."
   ]
  },
  {
   "cell_type": "code",
   "execution_count": 57,
   "id": "a51a287e",
   "metadata": {},
   "outputs": [],
   "source": [
    "for i in countV:\n",
    "    test=countVect(test,i,dict_encoding)"
   ]
  },
  {
   "cell_type": "code",
   "execution_count": 58,
   "id": "3a6ca669",
   "metadata": {},
   "outputs": [],
   "source": [
    "for i in oneHot:\n",
    "    test = one_hot_encode(test,i,dict_encoding)"
   ]
  },
  {
   "cell_type": "code",
   "execution_count": 59,
   "id": "b8d78945",
   "metadata": {},
   "outputs": [],
   "source": [
    "for i in mean:\n",
    "    test = mean_encoding_val_test(test,i,dict_encoding)"
   ]
  },
  {
   "cell_type": "code",
   "execution_count": 60,
   "id": "b4ad43c0",
   "metadata": {},
   "outputs": [],
   "source": [
    "test = label_ec(test)"
   ]
  },
  {
   "cell_type": "markdown",
   "id": "9bdf7275",
   "metadata": {},
   "source": [
    "Calculo el predict_proba"
   ]
  },
  {
   "cell_type": "code",
   "execution_count": 61,
   "id": "e4f7ae20",
   "metadata": {},
   "outputs": [],
   "source": [
    "test['isFraud'] =xboost.predict_proba(test)[:,1]"
   ]
  },
  {
   "cell_type": "code",
   "execution_count": 62,
   "id": "61fa722c",
   "metadata": {},
   "outputs": [],
   "source": [
    "test = test[['isFraud']]"
   ]
  },
  {
   "cell_type": "code",
   "execution_count": 63,
   "id": "6772a185",
   "metadata": {},
   "outputs": [],
   "source": [
    "join = ids.join(test)"
   ]
  },
  {
   "cell_type": "markdown",
   "id": "76747861",
   "metadata": {},
   "source": [
    "Se visualiza el df que sera subido al Kaggle."
   ]
  },
  {
   "cell_type": "code",
   "execution_count": 66,
   "id": "5338c816",
   "metadata": {},
   "outputs": [
    {
     "data": {
      "text/html": [
       "<div>\n",
       "<style scoped>\n",
       "    .dataframe tbody tr th:only-of-type {\n",
       "        vertical-align: middle;\n",
       "    }\n",
       "\n",
       "    .dataframe tbody tr th {\n",
       "        vertical-align: top;\n",
       "    }\n",
       "\n",
       "    .dataframe thead th {\n",
       "        text-align: right;\n",
       "    }\n",
       "</style>\n",
       "<table border=\"1\" class=\"dataframe\">\n",
       "  <thead>\n",
       "    <tr style=\"text-align: right;\">\n",
       "      <th></th>\n",
       "      <th>TransactionID</th>\n",
       "      <th>isFraud</th>\n",
       "    </tr>\n",
       "  </thead>\n",
       "  <tbody>\n",
       "    <tr>\n",
       "      <th>0</th>\n",
       "      <td>3663549</td>\n",
       "      <td>0.008020</td>\n",
       "    </tr>\n",
       "    <tr>\n",
       "      <th>1</th>\n",
       "      <td>3663550</td>\n",
       "      <td>0.005345</td>\n",
       "    </tr>\n",
       "    <tr>\n",
       "      <th>2</th>\n",
       "      <td>3663551</td>\n",
       "      <td>0.005456</td>\n",
       "    </tr>\n",
       "    <tr>\n",
       "      <th>3</th>\n",
       "      <td>3663552</td>\n",
       "      <td>0.001402</td>\n",
       "    </tr>\n",
       "    <tr>\n",
       "      <th>4</th>\n",
       "      <td>3663553</td>\n",
       "      <td>0.005215</td>\n",
       "    </tr>\n",
       "    <tr>\n",
       "      <th>...</th>\n",
       "      <td>...</td>\n",
       "      <td>...</td>\n",
       "    </tr>\n",
       "    <tr>\n",
       "      <th>506686</th>\n",
       "      <td>4170235</td>\n",
       "      <td>0.021423</td>\n",
       "    </tr>\n",
       "    <tr>\n",
       "      <th>506687</th>\n",
       "      <td>4170236</td>\n",
       "      <td>0.007643</td>\n",
       "    </tr>\n",
       "    <tr>\n",
       "      <th>506688</th>\n",
       "      <td>4170237</td>\n",
       "      <td>0.005882</td>\n",
       "    </tr>\n",
       "    <tr>\n",
       "      <th>506689</th>\n",
       "      <td>4170238</td>\n",
       "      <td>0.012973</td>\n",
       "    </tr>\n",
       "    <tr>\n",
       "      <th>506690</th>\n",
       "      <td>4170239</td>\n",
       "      <td>0.012431</td>\n",
       "    </tr>\n",
       "  </tbody>\n",
       "</table>\n",
       "<p>506691 rows × 2 columns</p>\n",
       "</div>"
      ],
      "text/plain": [
       "        TransactionID   isFraud\n",
       "0             3663549  0.008020\n",
       "1             3663550  0.005345\n",
       "2             3663551  0.005456\n",
       "3             3663552  0.001402\n",
       "4             3663553  0.005215\n",
       "...               ...       ...\n",
       "506686        4170235  0.021423\n",
       "506687        4170236  0.007643\n",
       "506688        4170237  0.005882\n",
       "506689        4170238  0.012973\n",
       "506690        4170239  0.012431\n",
       "\n",
       "[506691 rows x 2 columns]"
      ]
     },
     "execution_count": 66,
     "metadata": {},
     "output_type": "execute_result"
    }
   ],
   "source": [
    "join"
   ]
  },
  {
   "cell_type": "code",
   "execution_count": 67,
   "id": "e1ee32e5",
   "metadata": {},
   "outputs": [],
   "source": [
    "join.to_csv(\"entregaKaggle_mejor_mod_punto_3.csv\", index = False)"
   ]
  },
  {
   "cell_type": "markdown",
   "id": "c61dccd7",
   "metadata": {},
   "source": [
    "El *score* obtenido en la *competencia de Kaggle* para mi ***mejor modelo*** fue:\n",
    "<img src = 'score-mejor-mod-punto-3.png' alt = \"title\">"
   ]
  }
 ],
 "metadata": {
  "kernelspec": {
   "display_name": "Python 3",
   "language": "python",
   "name": "python3"
  },
  "language_info": {
   "codemirror_mode": {
    "name": "ipython",
    "version": 3
   },
   "file_extension": ".py",
   "mimetype": "text/x-python",
   "name": "python",
   "nbconvert_exporter": "python",
   "pygments_lexer": "ipython3",
   "version": "3.8.8"
  }
 },
 "nbformat": 4,
 "nbformat_minor": 5
}
