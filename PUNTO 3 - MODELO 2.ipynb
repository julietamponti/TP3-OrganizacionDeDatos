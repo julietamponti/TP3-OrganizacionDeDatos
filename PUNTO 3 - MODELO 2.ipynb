{
 "cells": [
  {
   "cell_type": "code",
   "execution_count": 1,
   "id": "500b00f0",
   "metadata": {},
   "outputs": [],
   "source": [
    "from sklearn.datasets import load_iris\n",
    "import numpy as np\n",
    "import math\n",
    "from tqdm import tqdm\n",
    "from __future__ import print_function\n",
    "from ipywidgets import interact, interactive, fixed, interact_manual\n",
    "import ipywidgets as widgets\n",
    "import pandas as pd\n",
    "from sklearn.preprocessing import (\n",
    "    LabelEncoder,\n",
    "    OneHotEncoder,\n",
    "    OrdinalEncoder,\n",
    ")\n",
    "from sklearn.linear_model import LogisticRegression\n",
    "from sklearn.metrics import classification_report, accuracy_score, roc_auc_score, ConfusionMatrixDisplay, confusion_matrix\n",
    "import xgboost as xgb\n",
    "import category_encoders.utils as util\n",
    "from category_encoders import TargetEncoder\n",
    "from sklearn.feature_extraction.text import CountVectorizer\n",
    "from sklearn.neural_network import MLPClassifier "
   ]
  },
  {
   "cell_type": "code",
   "execution_count": 2,
   "id": "6ea61613",
   "metadata": {},
   "outputs": [],
   "source": [
    "import warnings \n",
    "warnings.filterwarnings('ignore')"
   ]
  },
  {
   "cell_type": "code",
   "execution_count": 3,
   "id": "b264eea2",
   "metadata": {},
   "outputs": [],
   "source": [
    "iden = pd.read_csv('train_identity.csv')"
   ]
  },
  {
   "cell_type": "code",
   "execution_count": 4,
   "id": "3956d475",
   "metadata": {},
   "outputs": [],
   "source": [
    "trans = pd.read_csv('train_transaction.csv')"
   ]
  },
  {
   "cell_type": "code",
   "execution_count": 5,
   "id": "d4782438",
   "metadata": {},
   "outputs": [],
   "source": [
    "joined = trans.merge(iden,how='left')"
   ]
  },
  {
   "cell_type": "code",
   "execution_count": 6,
   "id": "2c74b9cb",
   "metadata": {},
   "outputs": [],
   "source": [
    "del(joined['TransactionID'])"
   ]
  },
  {
   "cell_type": "code",
   "execution_count": 7,
   "id": "250f5dc7",
   "metadata": {},
   "outputs": [],
   "source": [
    "del iden"
   ]
  },
  {
   "cell_type": "code",
   "execution_count": 8,
   "id": "67deb656",
   "metadata": {},
   "outputs": [],
   "source": [
    "del trans"
   ]
  },
  {
   "cell_type": "code",
   "execution_count": 9,
   "id": "37114238",
   "metadata": {},
   "outputs": [],
   "source": [
    "limite = np.percentile(joined['TransactionDT'], 80)"
   ]
  },
  {
   "cell_type": "code",
   "execution_count": 10,
   "id": "533e4b2e",
   "metadata": {},
   "outputs": [],
   "source": [
    "filtro_validation = joined['TransactionDT'] > limite"
   ]
  },
  {
   "cell_type": "code",
   "execution_count": 11,
   "id": "9f40de44",
   "metadata": {},
   "outputs": [],
   "source": [
    "validation = joined[filtro_validation]"
   ]
  },
  {
   "cell_type": "code",
   "execution_count": 12,
   "id": "8b7054a5",
   "metadata": {},
   "outputs": [],
   "source": [
    "label_validation = validation[['isFraud']]"
   ]
  },
  {
   "cell_type": "code",
   "execution_count": 13,
   "id": "9fbed007",
   "metadata": {},
   "outputs": [],
   "source": [
    "del(validation['isFraud'])"
   ]
  },
  {
   "cell_type": "code",
   "execution_count": 14,
   "id": "bed8413a",
   "metadata": {},
   "outputs": [],
   "source": [
    "filtro_train = joined['TransactionDT']<= limite"
   ]
  },
  {
   "cell_type": "code",
   "execution_count": 15,
   "id": "71e9a75b",
   "metadata": {},
   "outputs": [],
   "source": [
    "train = joined[filtro_train]"
   ]
  },
  {
   "cell_type": "code",
   "execution_count": 16,
   "id": "602a6a5d",
   "metadata": {},
   "outputs": [],
   "source": [
    "label_train = train[['isFraud']]"
   ]
  },
  {
   "cell_type": "code",
   "execution_count": 17,
   "id": "e43c0136",
   "metadata": {},
   "outputs": [],
   "source": [
    "del(train['isFraud'])"
   ]
  },
  {
   "cell_type": "code",
   "execution_count": 18,
   "id": "91360cf1",
   "metadata": {},
   "outputs": [],
   "source": [
    "del joined"
   ]
  },
  {
   "cell_type": "code",
   "execution_count": 19,
   "id": "7ba76c2f",
   "metadata": {},
   "outputs": [],
   "source": [
    "dict_encoding = {}"
   ]
  },
  {
   "cell_type": "code",
   "execution_count": 20,
   "id": "2b5aeb4c",
   "metadata": {},
   "outputs": [],
   "source": [
    "def countVect(df,columna,dic):\n",
    "    if columna not in dic:\n",
    "        dic[columna] = CountVectorizer()\n",
    "        dic[columna].fit_transform(df[[columna]].fillna('desconocido'))\n",
    "    col_encoded = dic[columna].transform(df[[columna]]).toarray()\n",
    "    col_encoded = pd.DataFrame(col_encoded).add_prefix(columna).fillna(0)\n",
    "    del(df[columna])\n",
    "    df_nuevo = pd.concat([df.reset_index(drop=True),col_encoded], axis=1)\n",
    "    return df_nuevo"
   ]
  },
  {
   "cell_type": "code",
   "execution_count": 21,
   "id": "6e10a2bd",
   "metadata": {},
   "outputs": [],
   "source": [
    "def one_hot_encode(df, columna, dict_encoding):\n",
    "    if columna not in dict_encoding:\n",
    "        dict_encoding[columna] = OneHotEncoder(handle_unknown='ignore')\n",
    "        dict_encoding[columna].fit_transform(df[[columna]].astype(str)).astype(int)\n",
    "    col_encoded = (dict_encoding[columna].transform(df[[columna]].astype(str)).astype(int))\n",
    "    col_encoded = pd.DataFrame(col_encoded.todense()).add_prefix(columna + '_').fillna(0)\n",
    "    del(df[columna])\n",
    "    df_nuevo = pd.concat([df.reset_index(drop=True), col_encoded], axis=1)\n",
    "    return df_nuevo"
   ]
  },
  {
   "cell_type": "code",
   "execution_count": 22,
   "id": "bcfa8101",
   "metadata": {},
   "outputs": [],
   "source": [
    "def mean_encoding(df,columna,label, dict_encoding):\n",
    "    if columna not in dict_encoding:\n",
    "        dict_encoding[columna] = TargetEncoder(handle_unknown='ignore')\n",
    "        dict_encoding[columna].fit_transform(df[[columna]], label)\n",
    "    df[columna] = dict_encoding[columna].transform(df[[columna]])\n",
    "    df[columna].fillna(0,inplace=True)\n",
    "    return df"
   ]
  },
  {
   "cell_type": "code",
   "execution_count": 23,
   "id": "341bbcdf",
   "metadata": {},
   "outputs": [],
   "source": [
    "def label_ec(df):\n",
    "    for column in df.columns:\n",
    "        if df[column].dtypes==object:\n",
    "            dict_encoding[column] = OrdinalEncoder(handle_unknown='ignore')\n",
    "            df[column] = dict_encoding[column].fit_transform(df[column].astype(str).values.reshape(-1, 1))\n",
    "    if df[column].dtype==object:\n",
    "        df[column] = dict_encoding[column].transform(df[column].astype(str).values.reshape(-1, 1))\n",
    "    df.fillna(-1,inplace=True)\n",
    "    return(df)"
   ]
  },
  {
   "cell_type": "markdown",
   "id": "db7c9204",
   "metadata": {},
   "source": [
    "### Train"
   ]
  },
  {
   "cell_type": "code",
   "execution_count": 24,
   "id": "63e3387a",
   "metadata": {},
   "outputs": [],
   "source": [
    "countV = ['id_30','id_31','DeviceInfo']"
   ]
  },
  {
   "cell_type": "code",
   "execution_count": 25,
   "id": "d499b232",
   "metadata": {},
   "outputs": [],
   "source": [
    "for i in countV:\n",
    "    train=countVect(train,i,dict_encoding)"
   ]
  },
  {
   "cell_type": "code",
   "execution_count": 26,
   "id": "f0ed40c0",
   "metadata": {},
   "outputs": [],
   "source": [
    "oneHot = ['P_emaildomain','card4','ProductCD','id_38','id_35','id_34']"
   ]
  },
  {
   "cell_type": "code",
   "execution_count": 27,
   "id": "3c656c3c",
   "metadata": {},
   "outputs": [],
   "source": [
    "for i in oneHot:\n",
    "    train = one_hot_encode(train,i,dict_encoding)"
   ]
  },
  {
   "cell_type": "code",
   "execution_count": 28,
   "id": "a830b49d",
   "metadata": {},
   "outputs": [],
   "source": [
    "mean = ['addr2','DeviceType']"
   ]
  },
  {
   "cell_type": "code",
   "execution_count": 29,
   "id": "f82e38da",
   "metadata": {},
   "outputs": [],
   "source": [
    "for i in mean:\n",
    "    train = mean_encoding(train,i,label_train,dict_encoding)"
   ]
  },
  {
   "cell_type": "code",
   "execution_count": 30,
   "id": "9e97deaf",
   "metadata": {},
   "outputs": [],
   "source": [
    "train = label_ec(train)"
   ]
  },
  {
   "cell_type": "code",
   "execution_count": 31,
   "id": "16317bb9",
   "metadata": {},
   "outputs": [],
   "source": [
    "red = MLPClassifier(random_state=1,learning_rate_init=0.5,max_iter=20)"
   ]
  },
  {
   "cell_type": "code",
   "execution_count": 32,
   "id": "195668b4",
   "metadata": {},
   "outputs": [
    {
     "data": {
      "text/plain": [
       "MLPClassifier(learning_rate_init=0.5, max_iter=20, random_state=1)"
      ]
     },
     "execution_count": 32,
     "metadata": {},
     "output_type": "execute_result"
    }
   ],
   "source": [
    "red.fit(train, label_train)"
   ]
  },
  {
   "cell_type": "code",
   "execution_count": 33,
   "id": "620db295",
   "metadata": {},
   "outputs": [
    {
     "name": "stdout",
     "output_type": "stream",
     "text": [
      "              precision    recall  f1-score   support\n",
      "\n",
      "           0       0.96      1.00      0.98    455833\n",
      "           1       0.00      0.00      0.00     16599\n",
      "\n",
      "    accuracy                           0.96    472432\n",
      "   macro avg       0.48      0.50      0.49    472432\n",
      "weighted avg       0.93      0.96      0.95    472432\n",
      "\n"
     ]
    }
   ],
   "source": [
    "print(classification_report(label_train, red.predict(train)))"
   ]
  },
  {
   "cell_type": "markdown",
   "id": "c79b6adc",
   "metadata": {},
   "source": [
    "##### RocAuc Train"
   ]
  },
  {
   "cell_type": "code",
   "execution_count": 34,
   "id": "a1210f1a",
   "metadata": {},
   "outputs": [
    {
     "data": {
      "text/plain": [
       "0.5"
      ]
     },
     "execution_count": 34,
     "metadata": {},
     "output_type": "execute_result"
    }
   ],
   "source": [
    "roc_auc_score(label_train, red.predict_proba(train)[:,1])"
   ]
  },
  {
   "cell_type": "markdown",
   "id": "9a05d872",
   "metadata": {},
   "source": [
    "### Validation"
   ]
  },
  {
   "cell_type": "code",
   "execution_count": 35,
   "id": "b30971f5",
   "metadata": {},
   "outputs": [],
   "source": [
    "for i in countV:\n",
    "    validation=countVect(validation,i,dict_encoding)"
   ]
  },
  {
   "cell_type": "code",
   "execution_count": 36,
   "id": "704e77aa",
   "metadata": {},
   "outputs": [],
   "source": [
    "for i in oneHot:\n",
    "    validation = one_hot_encode(validation,i,dict_encoding)"
   ]
  },
  {
   "cell_type": "code",
   "execution_count": 37,
   "id": "c287d8c8",
   "metadata": {},
   "outputs": [],
   "source": [
    "for i in mean:\n",
    "    validation = mean_encoding(validation,i,label_validation,dict_encoding)"
   ]
  },
  {
   "cell_type": "code",
   "execution_count": 38,
   "id": "767bfc62",
   "metadata": {},
   "outputs": [],
   "source": [
    "validation = label_ec(validation)"
   ]
  },
  {
   "cell_type": "code",
   "execution_count": 39,
   "id": "a440a6b3",
   "metadata": {},
   "outputs": [
    {
     "name": "stdout",
     "output_type": "stream",
     "text": [
      "              precision    recall  f1-score   support\n",
      "\n",
      "           0       0.97      1.00      0.98    114044\n",
      "           1       0.00      0.00      0.00      4064\n",
      "\n",
      "    accuracy                           0.97    118108\n",
      "   macro avg       0.48      0.50      0.49    118108\n",
      "weighted avg       0.93      0.97      0.95    118108\n",
      "\n"
     ]
    }
   ],
   "source": [
    "print(classification_report(label_validation, red.predict(validation)))"
   ]
  },
  {
   "cell_type": "markdown",
   "id": "3ac8111d",
   "metadata": {},
   "source": [
    "##### RocAuc Validation"
   ]
  },
  {
   "cell_type": "code",
   "execution_count": 40,
   "id": "3c0765d6",
   "metadata": {},
   "outputs": [
    {
     "data": {
      "text/plain": [
       "0.5"
      ]
     },
     "execution_count": 40,
     "metadata": {},
     "output_type": "execute_result"
    }
   ],
   "source": [
    "roc_auc_score(label_validation, red.predict_proba(validation)[:,1])"
   ]
  },
  {
   "cell_type": "code",
   "execution_count": null,
   "id": "fed9ba28",
   "metadata": {},
   "outputs": [],
   "source": []
  },
  {
   "cell_type": "code",
   "execution_count": null,
   "id": "5601203c",
   "metadata": {},
   "outputs": [],
   "source": []
  }
 ],
 "metadata": {
  "kernelspec": {
   "display_name": "Python 3",
   "language": "python",
   "name": "python3"
  },
  "language_info": {
   "codemirror_mode": {
    "name": "ipython",
    "version": 3
   },
   "file_extension": ".py",
   "mimetype": "text/x-python",
   "name": "python",
   "nbconvert_exporter": "python",
   "pygments_lexer": "ipython3",
   "version": "3.8.8"
  }
 },
 "nbformat": 4,
 "nbformat_minor": 5
}
